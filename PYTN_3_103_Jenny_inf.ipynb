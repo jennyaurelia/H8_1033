{
 "cells": [
  {
   "cell_type": "markdown",
   "metadata": {},
   "source": [
    "# Bank Marketing Inference"
   ]
  },
  {
   "cell_type": "markdown",
   "metadata": {},
   "source": [
    "# i. Introduction  \n",
    "**Name:** Jenny AT  \n",
    "\n",
    "**Problem statement:**  \n",
    "The data is related with direct marketing campaigns of a Portuguese banking institution.  \n",
    "The marketing campaigns were based on phone calls. Often, more than one contact to the same client was required. \n",
    " \n",
    "**Objective:**  \n",
    "This project is created to predict if clients would choose ('yes') or not ('no') subscribed to the product (bank term deposit).  \n",
    "The models used for this prediction are: `Logistic Regression, KNN, SVM, Naive Bayes, Decision Tree and Random Forest`."
   ]
  },
  {
   "cell_type": "markdown",
   "metadata": {},
   "source": [
    "# ii. Import Libraries"
   ]
  },
  {
   "cell_type": "code",
   "execution_count": 1,
   "metadata": {},
   "outputs": [],
   "source": [
    "# Import Library\n",
    "import pandas as pd\n",
    "import pickle"
   ]
  },
  {
   "cell_type": "markdown",
   "metadata": {},
   "source": [
    "# iii. Model Load"
   ]
  },
  {
   "cell_type": "code",
   "execution_count": 5,
   "metadata": {},
   "outputs": [],
   "source": [
    "# Model Load\n",
    "with open('best_model.pkl', 'rb') as file_1: \n",
    "    best_model=pickle.load(file_1)"
   ]
  },
  {
   "cell_type": "markdown",
   "metadata": {},
   "source": [
    "# iv. Create Data Inference"
   ]
  },
  {
   "cell_type": "code",
   "execution_count": 6,
   "metadata": {},
   "outputs": [],
   "source": [
    "# Create data inference\n",
    "df_inf={'age': 35,\n",
    "        'job': 'manual',\n",
    "        'marital': 'married',\n",
    "        'education': 'high.school',\n",
    "        'default': 'no',\n",
    "        'housing': 'no',\n",
    "        'loan': 'no',\n",
    "        'contact': 'telephone',\n",
    "        'month': 'oct',\n",
    "        'day_of_week': 'mon',\n",
    "        'campaign': 1,\n",
    "        'pdays': 999,\n",
    "        'previous': 0,\n",
    "        'poutcome': 'nonexistent',\n",
    "        'emp.var.rate': 1.1,\n",
    "        'cons.price.idx': 93.994,\n",
    "        'cons.conf.idx': -36.4,\n",
    "        'euribor3m': 4.857, \n",
    "        'nr.employed': 5191.0\n",
    "}\n",
    "\n",
    "df_inf = pd.DataFrame([df_inf])"
   ]
  },
  {
   "cell_type": "markdown",
   "metadata": {},
   "source": [
    "# v. Predict Data Inference"
   ]
  },
  {
   "cell_type": "code",
   "execution_count": 8,
   "metadata": {},
   "outputs": [
    {
     "data": {
      "text/plain": [
       "array([0])"
      ]
     },
     "execution_count": 8,
     "metadata": {},
     "output_type": "execute_result"
    }
   ],
   "source": [
    "# Predict the data inference\n",
    "best_model.predict(df_inf)"
   ]
  },
  {
   "cell_type": "code",
   "execution_count": 10,
   "metadata": {},
   "outputs": [
    {
     "name": "stdout",
     "output_type": "stream",
     "text": [
      "The prediction is client WILL NOT subscribe to the product (bank term deposit).\n"
     ]
    }
   ],
   "source": [
    "# Predict the data inference - version 2.0 (recommended)\n",
    "result = best_model.predict(df_inf)\n",
    "\n",
    "if result == 1:\n",
    "    print(f'The prediction is client WILL subscribe to the product (bank term deposit).')\n",
    "else:\n",
    "    print(f'The prediction is client WILL NOT subscribe to the product (bank term deposit).')"
   ]
  },
  {
   "cell_type": "markdown",
   "metadata": {},
   "source": [
    "---\n",
    "$END$"
   ]
  }
 ],
 "metadata": {
  "kernelspec": {
   "display_name": "base",
   "language": "python",
   "name": "python3"
  },
  "language_info": {
   "codemirror_mode": {
    "name": "ipython",
    "version": 3
   },
   "file_extension": ".py",
   "mimetype": "text/x-python",
   "name": "python",
   "nbconvert_exporter": "python",
   "pygments_lexer": "ipython3",
   "version": "3.11.7"
  }
 },
 "nbformat": 4,
 "nbformat_minor": 2
}
