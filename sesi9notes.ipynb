{
 "cells": [
  {
   "cell_type": "markdown",
   "metadata": {},
   "source": [
    "### Descriptive Statistics\n"
   ]
  },
  {
   "cell_type": "markdown",
   "metadata": {},
   "source": [
    "central tendency statistics:  \n",
    "* mean\n",
    "* median\n",
    "* mode"
   ]
  },
  {
   "cell_type": "markdown",
   "metadata": {},
   "source": [
    "correlation  \n",
    "* 1 = korelasi positif / searah\n",
    "* 0 = korelasi lemah / tdk ada\n",
    "* -1 = korelasi negatif / lawan arah"
   ]
  },
  {
   "cell_type": "markdown",
   "metadata": {},
   "source": [
    "data2 outlier yg hrs di handling adalah yg krn human error"
   ]
  },
  {
   "cell_type": "markdown",
   "metadata": {},
   "source": [
    "standard deviation = sebaran data"
   ]
  },
  {
   "cell_type": "markdown",
   "metadata": {},
   "source": [
    "kalo outlier lebih condong ke kiri - negatively skewed, condong ke kanan - positively skewed\n",
    "\n",
    "lebih baik metode benar walaupun visualisasi nya kurang bgs, drpd visualisation bgs tp salah"
   ]
  },
  {
   "cell_type": "markdown",
   "metadata": {},
   "source": [
    "capping - ubah nilai min max, meminimalisir, jgn buang data tp at least di capping"
   ]
  },
  {
   "cell_type": "markdown",
   "metadata": {},
   "source": [
    "kurtosis - mengukur peak data\n",
    "\n",
    "heavy tailed - byj outlier, light - kurang\n",
    "\n",
    "* mesokurtic - normal\n",
    "* leptokurtic lebih besar, kurva lebih tinggi\n",
    "* platykurtic - kecendurangannya lebih landai dr normal"
   ]
  },
  {
   "cell_type": "code",
   "execution_count": 1,
   "metadata": {},
   "outputs": [],
   "source": [
    "import math\n",
    "import statistics\n",
    "import numpy as np\n",
    "import pandas as pd"
   ]
  },
  {
   "cell_type": "code",
   "execution_count": 8,
   "metadata": {},
   "outputs": [
    {
     "name": "stdout",
     "output_type": "stream",
     "text": [
      "[8.0, 1, 2.5, 4, 28.0]\n",
      "[8.0, 1, 2.5, nan, 4, 28.0]\n"
     ]
    }
   ],
   "source": [
    "x = [8.0,1,2.5,4,28.0]\n",
    "x_with_nan = [8.0,1,2.5, math.nan ,4,28.0]\n",
    "print(x)\n",
    "print(x_with_nan) #nan stands for not a number"
   ]
  },
  {
   "cell_type": "code",
   "execution_count": 10,
   "metadata": {},
   "outputs": [
    {
     "name": "stdout",
     "output_type": "stream",
     "text": [
      "[ 8.   1.   2.5  4.  28. ]\n",
      "[ 8.   1.   2.5  nan  4.  28. ]\n",
      "0     8.0\n",
      "1     1.0\n",
      "2     2.5\n",
      "3     NaN\n",
      "4     4.0\n",
      "5    28.0\n",
      "dtype: float64\n"
     ]
    }
   ],
   "source": [
    "y, y_with_nan = np.array(x), np.array(x_with_nan)\n",
    "z, z_with_nan = pd.Series(x), pd.Series(x_with_nan)\n",
    "print(y)\n",
    "print(y_with_nan)\n",
    "print(z_with_nan)"
   ]
  },
  {
   "cell_type": "code",
   "execution_count": 9,
   "metadata": {},
   "outputs": [
    {
     "data": {
      "text/plain": [
       "7.25"
      ]
     },
     "execution_count": 9,
     "metadata": {},
     "output_type": "execute_result"
    }
   ],
   "source": [
    "y.mean()"
   ]
  },
  {
   "cell_type": "code",
   "execution_count": 5,
   "metadata": {},
   "outputs": [
    {
     "ename": "AttributeError",
     "evalue": "'numpy.ndarray' object has no attribute 'nedian'",
     "output_type": "error",
     "traceback": [
      "\u001b[0;31m---------------------------------------------------------------------------\u001b[0m",
      "\u001b[0;31mAttributeError\u001b[0m                            Traceback (most recent call last)",
      "Cell \u001b[0;32mIn[5], line 1\u001b[0m\n\u001b[0;32m----> 1\u001b[0m y_with_nan\u001b[38;5;241m.\u001b[39mnedian()\n",
      "\u001b[0;31mAttributeError\u001b[0m: 'numpy.ndarray' object has no attribute 'nedian'"
     ]
    }
   ],
   "source": [
    "y_with_nan.nedian() # gbs karena bkn data frame, array krn numpy"
   ]
  },
  {
   "cell_type": "code",
   "execution_count": 11,
   "metadata": {},
   "outputs": [
    {
     "data": {
      "text/plain": [
       "4.0"
      ]
     },
     "execution_count": 11,
     "metadata": {},
     "output_type": "execute_result"
    }
   ],
   "source": [
    "z_with_nan.median()"
   ]
  },
  {
   "cell_type": "code",
   "execution_count": 12,
   "metadata": {},
   "outputs": [
    {
     "data": {
      "text/plain": [
       "8.7"
      ]
     },
     "execution_count": 12,
     "metadata": {},
     "output_type": "execute_result"
    }
   ],
   "source": [
    "sum(y) / len(y) # cara menghitung mean y"
   ]
  },
  {
   "cell_type": "markdown",
   "metadata": {},
   "source": [
    "nanmean() buat mengabaikan nan tp tdk direkomendasikan"
   ]
  },
  {
   "cell_type": "markdown",
   "metadata": {},
   "source": [
    "bobot (weight) hrs 100% - bobot biasa digunain untuk nilai, scoring, grading\n",
    "\n",
    "values dlm mode kalo cmn ada 1 mode berarti pake values[0]"
   ]
  },
  {
   "cell_type": "markdown",
   "metadata": {},
   "source": [
    "ctrl + ? buat ngeblock semua misalnya mau comment\n",
    "\n",
    "confidence interval : 95%\n",
    "\n",
    "critical value: 100% - 95% = 5%"
   ]
  },
  {
   "cell_type": "markdown",
   "metadata": {},
   "source": [
    "zcore - normal dist\n",
    "\n",
    "tukeys - skew - klo tukeys mesti itung iqr dulu, kalo extreme skew kali pake 3 biar data outlier g kebuang"
   ]
  },
  {
   "cell_type": "markdown",
   "metadata": {},
   "source": [
    "mode, median, mean itu pny pandas, jd gbs baca list krn pny python.\n",
    "\n",
    "jadi list hrs diubah jadi pd.Series atau pd.Dataframe"
   ]
  }
 ],
 "metadata": {
  "kernelspec": {
   "display_name": "base",
   "language": "python",
   "name": "python3"
  },
  "language_info": {
   "codemirror_mode": {
    "name": "ipython",
    "version": 3
   },
   "file_extension": ".py",
   "mimetype": "text/x-python",
   "name": "python",
   "nbconvert_exporter": "python",
   "pygments_lexer": "ipython3",
   "version": "3.11.7"
  }
 },
 "nbformat": 4,
 "nbformat_minor": 2
}
