{
 "cells": [
  {
   "cell_type": "markdown",
   "metadata": {},
   "source": [
    "### Regression Models"
   ]
  },
  {
   "cell_type": "markdown",
   "metadata": {},
   "source": [
    "Data:  \n",
    "1. Structured:\n",
    "* Supervised: Regression, Classification\n",
    "\n",
    "* Unsupervised: Clustering  \n",
    "\n",
    "2. Unstructured  \n",
    "\n",
    "Supervised pny target/label/y  \n",
    "kalo kolom ada features/variables/X (X capital bkn kecil)  \n",
    "\n",
    "kalo unsupervised gaada target"
   ]
  },
  {
   "cell_type": "markdown",
   "metadata": {},
   "source": [
    "scikit - learn - ML  \n",
    "tensorflow.keras - ANN / DL (ANN - Artificial Neural Network)   \n",
    "\n",
    "machinr lebih akurat saat data lebih banyak - agar data bisa di looping & training"
   ]
  },
  {
   "cell_type": "markdown",
   "metadata": {},
   "source": [
    "Machine Learning vs programming  \n",
    "\n",
    "data, rules -> classical programming -> answers  \n",
    "\n",
    "data, answers -> machine learning -> rules"
   ]
  },
  {
   "cell_type": "markdown",
   "metadata": {},
   "source": [
    "overfitting - kalo train set exceed test set (model cenderung menghafal), biasa kalo gap udah lebih dari 5%  \n",
    "underfit (model kurang belajar)   \n",
    "goodfit (model cukup konsisten)"
   ]
  },
  {
   "cell_type": "markdown",
   "metadata": {},
   "source": [
    "misalnya dlm sentiment analysis - vektorisasi, tokenizing, mengubah tulisan2 menjadi angka"
   ]
  },
  {
   "cell_type": "markdown",
   "metadata": {},
   "source": [
    "1. Linear Regression - ngepredict angka, harga"
   ]
  },
  {
   "cell_type": "markdown",
   "metadata": {},
   "source": [
    "random state, real dataset"
   ]
  },
  {
   "cell_type": "markdown",
   "metadata": {},
   "source": [
    "### Lanjutan Regression:\n",
    "feature engineering + praktek reg + deploy\n"
   ]
  },
  {
   "cell_type": "markdown",
   "metadata": {},
   "source": [
    "#### Feature engineering  \n",
    "\n",
    "missing value handling (drop y train, y test),  \n",
    "kalo mau imputasi untuk numerical data:\n",
    "* normal -> mean\n",
    "* skew -> median  \n",
    "kalo categorical data: mode  \n",
    "encoding, splitting dataset (x, y, train-set, test-set)"
   ]
  },
  {
   "cell_type": "markdown",
   "metadata": {},
   "source": [
    "x-test dibiarin, mau nguji data2 outlier, tdk usah di handle  \n",
    "handle x train aj \n",
    "\n",
    "jika outlier >5%:  \n",
    "* y -> metode capping  \n",
    "* n -> boleh capping/trimming(drop)  \n",
    "\n",
    "lalu cek distribusi data pake .skew:  \n",
    "* kalo hasil -0.5 sd 0.5 -> normal berarti z-score, gaussian/std*3  \n",
    "* kalo hasil 0.5 sd 1 atau -0.5 sd -1 maka skew -> iQR * 1.5 (Tukey's Rule_)\n",
    "* kalo >1 atau <-1 -> extreme skew -> IQR*3 (Tukey's jg)"
   ]
  },
  {
   "cell_type": "markdown",
   "metadata": {},
   "source": [
    "Ordinal encoder & one hot encoder -> u encoder features  \n",
    "Label encoder -> utk encode target  \n",
    "\n",
    "perlu scaling biar tidak ada diskriminasi data, jadi harus sama2 dibesarin atau dikecilin -- paling sering: min max (skew) & standard scaler (normal), robust (outlier) tp ttp hrs handle outlier  \n",
    "\n",
    "cardinality = nominal categorical data  \n",
    "cth: kota misalnya 99 -> provinsi biar 32 --> wib/wit/wita biar 3"
   ]
  }
 ],
 "metadata": {
  "kernelspec": {
   "display_name": "base",
   "language": "python",
   "name": "python3"
  },
  "language_info": {
   "name": "python",
   "version": "3.11.7"
  }
 },
 "nbformat": 4,
 "nbformat_minor": 2
}
