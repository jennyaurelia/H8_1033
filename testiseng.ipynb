{
 "cells": [
  {
   "cell_type": "code",
   "execution_count": 1,
   "metadata": {},
   "outputs": [
    {
     "data": {
      "text/plain": [
       "2"
      ]
     },
     "execution_count": 1,
     "metadata": {},
     "output_type": "execute_result"
    }
   ],
   "source": [
    "1+1"
   ]
  },
  {
   "cell_type": "code",
   "execution_count": 2,
   "metadata": {},
   "outputs": [
    {
     "data": {
      "text/plain": [
       "18"
      ]
     },
     "execution_count": 2,
     "metadata": {},
     "output_type": "execute_result"
    }
   ],
   "source": [
    "a = 5\n",
    "b = 13\n",
    "a+b "
   ]
  },
  {
   "cell_type": "code",
   "execution_count": 1,
   "metadata": {},
   "outputs": [
    {
     "name": "stdout",
     "output_type": "stream",
     "text": [
      "no\n"
     ]
    }
   ],
   "source": [
    "x = 1\n",
    "y = 5\n",
    "\n",
    "if x > y :\n",
    "    print('yes')\n",
    "else:\n",
    "    print('no')"
   ]
  },
  {
   "cell_type": "markdown",
   "metadata": {},
   "source": [
    "**NOMOR 1**\n",
    "\n",
    "Buatlah sebuah kondisi untuk mengecek apakah variabel `a` **lebih kecil** dari variabel `b` berdasarkan nilai dibawah ini :\n",
    "* `a` = 100\n",
    "* `b` = 200\n",
    "\n",
    "Jika `True` maka tulis/cetak `a lebih kecil dari b`"
   ]
  },
  {
   "cell_type": "code",
   "execution_count": 2,
   "metadata": {},
   "outputs": [
    {
     "name": "stdout",
     "output_type": "stream",
     "text": [
      "a lebih kecil dari b\n"
     ]
    }
   ],
   "source": [
    "a = 100\n",
    "b = 200\n",
    "if a < b:\n",
    "    print(\"a lebih kecil dari b\")"
   ]
  },
  {
   "cell_type": "markdown",
   "metadata": {},
   "source": [
    "**NOMOR 2**\n",
    "\n",
    "Buatlah sebuah kondisi untuk mengecek apakah variabel `a` **lebih besar** dari variabel `b` berdasarkan nilai dibawah ini :\n",
    "* `a` = 100\n",
    "* `b` = 200\n",
    "\n",
    "Jika `True` maka tulis/cetak `a lebih besar dari b`"
   ]
  },
  {
   "cell_type": "code",
   "execution_count": 4,
   "metadata": {},
   "outputs": [
    {
     "name": "stdout",
     "output_type": "stream",
     "text": [
      "a lebih kecil dari b\n"
     ]
    }
   ],
   "source": [
    "if a > b:\n",
    "    print('a lebih besar dari b')\n",
    "else:\n",
    "    print('a lebih kecil dari b')"
   ]
  },
  {
   "cell_type": "markdown",
   "metadata": {},
   "source": [
    "**NOMOR 3**\n",
    "\n",
    "Buatlah sebuah kondisi untuk mengecek apakah variabel `a` **tidak sama dengan**  variabel `b` berdasarkan nilai dibawah ini :\n",
    "* `a` = `januari`\n",
    "* `b` = `februari`\n",
    "\n",
    "Jika `True` maka tulis/cetak `a tidak sama dengan b`\n",
    "\n",
    "Jika `False` maka tulis/cetak `a sama dengan b`"
   ]
  },
  {
   "cell_type": "code",
   "execution_count": 6,
   "metadata": {},
   "outputs": [
    {
     "name": "stdout",
     "output_type": "stream",
     "text": [
      "a tidak sama dengan b\n"
     ]
    }
   ],
   "source": [
    "a = \"januari\"\n",
    "b = \"februari\"\n",
    "\n",
    "if a != b:\n",
    "    print(\"a tidak sama dengan b\")\n",
    "else:\n",
    "    print(' a sama dengan b')"
   ]
  },
  {
   "cell_type": "markdown",
   "metadata": {},
   "source": [
    "**NOMOR 4**\n",
    "\n",
    "Buatlah sebuah kondisi untuk mengecek apakah variabel `a` **sama dengan**  variabel `b` berdasarkan nilai dibawah ini :\n",
    "* `a` = 1000\n",
    "* `b` = 1000.0\n",
    "\n",
    "Jika `True` maka jangan menampilkan apapun\n",
    "\n",
    "Jika `False` maka tulis/cetak `a tidak sama dengan b`"
   ]
  },
  {
   "cell_type": "code",
   "execution_count": 8,
   "metadata": {},
   "outputs": [
    {
     "name": "stdout",
     "output_type": "stream",
     "text": [
      "a tidak sama dengan b\n"
     ]
    }
   ],
   "source": [
    "a = 1000\n",
    "b = 1000.2\n",
    "\n",
    "if a == b:\n",
    "    pass\n",
    "else:\n",
    "    print('a tidak sama dengan b')"
   ]
  },
  {
   "cell_type": "code",
   "execution_count": 10,
   "metadata": {},
   "outputs": [
    {
     "name": "stdout",
     "output_type": "stream",
     "text": [
      "<class 'int'>\n",
      "<class 'float'>\n",
      "1000\n"
     ]
    },
    {
     "data": {
      "text/plain": [
       "1000.2"
      ]
     },
     "execution_count": 10,
     "metadata": {},
     "output_type": "execute_result"
    }
   ],
   "source": [
    "print(type(a))\n",
    "print(type(b))\n",
    "print(a)\n",
    "b"
   ]
  },
  {
   "cell_type": "markdown",
   "metadata": {},
   "source": [
    "**NOMOR 5**\n",
    "\n",
    "Buatlah sebuah kondisi untuk mengecek apakah variabel `a` **berbeda**  variabel `b` berdasarkan nilai dibawah ini :\n",
    "* `angka_ganjil` = `[1, 3, 5, 7]`\n",
    "* `angka_genap`  = `[2, 4, 6, 8]`\n",
    "\n",
    "Jika `True` maka tulis/cetak `angka_ganjil berbeda dengan angka_genap`\n",
    "\n",
    "Jika `False` maka tulis/cetak `angka_ganjil sama dengan angka_genap`"
   ]
  },
  {
   "cell_type": "code",
   "execution_count": 11,
   "metadata": {},
   "outputs": [
    {
     "name": "stdout",
     "output_type": "stream",
     "text": [
      "angka_ganjil berbeda dengan angka_genap\n"
     ]
    }
   ],
   "source": [
    "angka_ganjil = [1, 3, 5, 7]\n",
    "angka_genap = [2, 4, 6, 8]\n",
    "\n",
    "if a!=b:\n",
    "    print(\"angka_ganjil berbeda dengan angka_genap\")\n",
    "else:\n",
    "    print(\"angka ganjil sama dengan angka genap\")"
   ]
  },
  {
   "cell_type": "markdown",
   "metadata": {},
   "source": [
    "**NOMOR 6**\n",
    "\n",
    "Buatlah sebuah kondisi untuk mengecek apakah variabel-variabel dibawah ini mempunyai nilai atau tidak\n",
    "\n",
    "* `nama` = `budi`\n",
    "* `usia` = 20\n",
    "* `jenis_kelamin_pria` = True\n",
    "* `alamat` = `None`\n",
    "* `jumlah_motor` = 0\n",
    "* `punya_rumah` = `False`\n",
    "\n",
    "Jika True maka tulis/cetak `ada`\n",
    "\n",
    "Jika False maka tulis/cetak `tidak ada`"
   ]
  },
  {
   "cell_type": "code",
   "execution_count": 18,
   "metadata": {},
   "outputs": [
    {
     "name": "stdout",
     "output_type": "stream",
     "text": [
      "tidak ada\n"
     ]
    }
   ],
   "source": [
    "nama = \"budi\"\n",
    "usia = 20\n",
    "jenis_kelamin_pria = True\n",
    "alamat = None\n",
    "jumlah_motor = 0\n",
    "punya_rumah = False\n",
    "\n",
    "if punya_rumah:\n",
    "    print(\"ada\")\n",
    "else:\n",
    "    print(\"tidak ada\")"
   ]
  },
  {
   "cell_type": "markdown",
   "metadata": {},
   "source": [
    "**NOMOR 7**\n",
    "\n",
    "Buatlah sebuah kondisi untuk mengecek apakah variabel-variabel dibawah ini termasuk salah satu nilai dari variabel lain atau tidak\n",
    "\n",
    "* *`pendidikan` = `s1`* terhadap *`daftar_pendidikan` = ['s1', 's2', 's3']*\n",
    "* *`nama` = `budi`* terhadap *`nama_lengkap` = `budi kurniawan`*\n",
    "\n",
    "Jika True maka tulis/cetak `merupakan bagian`\n",
    "\n",
    "Jika False maka tulis/cetak `bukan merupakan bagian`"
   ]
  },
  {
   "cell_type": "code",
   "execution_count": 24,
   "metadata": {},
   "outputs": [
    {
     "name": "stdout",
     "output_type": "stream",
     "text": [
      "bukan merupakan bagian\n",
      "bukan merupakan bagian\n"
     ]
    }
   ],
   "source": [
    "pendidikan = \"s4\"\n",
    "daftar_pendidikan = ['s1','s2','s3']\n",
    "\n",
    "nama = 'Budi'\n",
    "nama_lengkap = \"budi kurniawan\"\n",
    "\n",
    "if pendidikan in daftar_pendidikan:\n",
    "    print(\"merupakan bagian\")\n",
    "else:\n",
    "    print(\"bukan merupakan bagian\")\n",
    "\n",
    "if nama in nama_lengkap:\n",
    "    print('merupakan bagian')\n",
    "else:\n",
    "    print('bukan merupakan bagian')\n"
   ]
  },
  {
   "cell_type": "markdown",
   "metadata": {},
   "source": [
    "**NOMOR 8 (IF ELIF)**\n",
    "\n",
    "Buatlah sebuah kondisi untuk mengecek hubungan dua variabel dibawah ini :\n",
    "\n",
    "* `a` = 100\n",
    "* `b` = 100\n",
    "\n",
    "Jika `a < b` maka tulis/cetak `a lebih kecil dari b`\n",
    "\n",
    "Jika `a > b` maka tulis/cetak `a lebih besar dari b`\n",
    "\n",
    "Selain kondisi diatas, maka tulis/cetak `a sama dengan b`"
   ]
  },
  {
   "cell_type": "code",
   "execution_count": 27,
   "metadata": {},
   "outputs": [
    {
     "name": "stdout",
     "output_type": "stream",
     "text": [
      "a lebih kecil dari b\n"
     ]
    }
   ],
   "source": [
    "a = 10\n",
    "b = 100\n",
    "if a < b:\n",
    "    print('a lebih kecil dari b')\n",
    "elif a > b:\n",
    "    print('a lebih besar dari b')\n",
    "else:\n",
    "    print('a sama dengan b')"
   ]
  },
  {
   "cell_type": "markdown",
   "metadata": {},
   "source": [
    "**NOMOR 9 (NESTED IF)**\n",
    "\n",
    "Buatlah sebuah kondisi untuk memilih menu makanan dengan syarat :\n",
    "\n",
    "* Pilih `nasi goreng` jika uang yang dimiliki lebih dari sama dengan Rp 15.000,-\n",
    "* Pilih `ketoprak` jika uang yang dimiliki lebih dari sama dengan Rp 10.000 dan kurang dari Rp 15.000,-\n",
    "* Pilih `batagor` jika uang yang dimiliki lebih dari sama dengan Rp 5.000 dan kurang Rp 10.000,-\n",
    "* Pilih `es teh manis` jika uang yang dimiliki kurang dari Rp 5000"
   ]
  },
  {
   "cell_type": "code",
   "execution_count": 31,
   "metadata": {},
   "outputs": [
    {
     "name": "stdout",
     "output_type": "stream",
     "text": [
      "beli es teh\n"
     ]
    }
   ],
   "source": [
    "uang = 2000\n",
    "if uang >= 15000:\n",
    "    print('beli nasi goreng')\n",
    "elif uang >= 10000:\n",
    "    print('beli ketoprak')\n",
    "elif uang >= 5000:\n",
    "    print('beli batagor')\n",
    "else:\n",
    "    print('beli es teh')"
   ]
  },
  {
   "cell_type": "markdown",
   "metadata": {},
   "source": [
    "### Conditional Expressions (Python's Ternary Operator)"
   ]
  },
  {
   "cell_type": "code",
   "execution_count": 33,
   "metadata": {},
   "outputs": [
    {
     "name": "stdout",
     "output_type": "stream",
     "text": [
      "Let's go to the library\n"
     ]
    }
   ],
   "source": [
    "raining = True\n",
    "print(\"Let's go to the\", 'beach' if not raining else 'library')"
   ]
  },
  {
   "cell_type": "code",
   "execution_count": 36,
   "metadata": {},
   "outputs": [
    {
     "data": {
      "text/plain": [
       "'adult'"
      ]
     },
     "execution_count": 36,
     "metadata": {},
     "output_type": "execute_result"
    }
   ],
   "source": [
    "age = 22\n",
    "s = 'teen' if age < 21 else 'adult'\n",
    "s"
   ]
  },
  {
   "cell_type": "markdown",
   "metadata": {},
   "source": [
    "### While loop example dr buku"
   ]
  },
  {
   "cell_type": "code",
   "execution_count": 20,
   "metadata": {},
   "outputs": [
    {
     "name": "stdout",
     "output_type": "stream",
     "text": [
      "Belajar Python\n",
      "Belajar Python\n"
     ]
    }
   ],
   "source": [
    "i = 3\n",
    "while i < 5:\n",
    "    print (\"Belajar Python\")\n",
    "    i = i + 1"
   ]
  },
  {
   "cell_type": "code",
   "execution_count": 31,
   "metadata": {},
   "outputs": [
    {
     "name": "stdout",
     "output_type": "stream",
     "text": [
      "2\n",
      "3\n",
      "4\n",
      "5\n"
     ]
    }
   ],
   "source": [
    "i = 2\n",
    "while i < 6:\n",
    "    print (i)\n",
    "    i +=1\n"
   ]
  },
  {
   "cell_type": "code",
   "execution_count": 39,
   "metadata": {},
   "outputs": [
    {
     "name": "stdout",
     "output_type": "stream",
     "text": [
      "4\n",
      "3\n",
      "End of loop\n"
     ]
    }
   ],
   "source": [
    "n = 5\n",
    "while n > 0:\n",
    "    n -= 1\n",
    "    if n == 2:\n",
    "        break\n",
    "    print (n)\n",
    "print (\"End of loop\")\n"
   ]
  },
  {
   "cell_type": "code",
   "execution_count": 37,
   "metadata": {},
   "outputs": [
    {
     "name": "stdout",
     "output_type": "stream",
     "text": [
      "4\n",
      "3\n",
      "1\n",
      "0\n",
      "End of loop\n"
     ]
    }
   ],
   "source": [
    "n = 5\n",
    "while n > 0:\n",
    "    n -= 1\n",
    "    if n == 2:\n",
    "        continue\n",
    "    print (n)\n",
    "print (\"End of loop\")\n"
   ]
  },
  {
   "cell_type": "code",
   "execution_count": 38,
   "metadata": {},
   "outputs": [
    {
     "name": "stdout",
     "output_type": "stream",
     "text": [
      "4\n",
      "3\n",
      "2\n",
      "1\n",
      "0\n",
      "End of loop\n"
     ]
    }
   ],
   "source": [
    "n = 5\n",
    "while n > 0:\n",
    "    n-=1\n",
    "    print (n)\n",
    "else:\n",
    "    print (\"End of loop\")"
   ]
  },
  {
   "cell_type": "code",
   "execution_count": 40,
   "metadata": {},
   "outputs": [
    {
     "name": "stdout",
     "output_type": "stream",
     "text": [
      "4\n",
      "3\n",
      "2\n"
     ]
    }
   ],
   "source": [
    "n = 5\n",
    "while n > 0:\n",
    "    n-=1\n",
    "    print (n)\n",
    "    if n == 2:\n",
    "        break\n",
    "else:\n",
    "    print (\"End of loop\")"
   ]
  },
  {
   "cell_type": "markdown",
   "metadata": {},
   "source": [
    "### Nested If"
   ]
  },
  {
   "cell_type": "code",
   "execution_count": 46,
   "metadata": {},
   "outputs": [
    {
     "name": "stdout",
     "output_type": "stream",
     "text": [
      "grandfather\n"
     ]
    }
   ],
   "source": [
    "age = 77\n",
    "gender = \"M\"\n",
    "\n",
    "if age < 18:\n",
    "    if gender == \"M\":\n",
    "        print (\"son\")\n",
    "    else:\n",
    "        print (\"daughter\")\n",
    "elif age >= 18 and age < 65:\n",
    "    if gender == \"M\":\n",
    "        print (\"father\")\n",
    "    else:\n",
    "        print (\"mother\")\n",
    "else:\n",
    "    if gender == \"M\":\n",
    "        print (\"grandfather\")\n",
    "    else:\n",
    "        print (\"grandmother\")"
   ]
  },
  {
   "cell_type": "code",
   "execution_count": 54,
   "metadata": {},
   "outputs": [
    {
     "name": "stdout",
     "output_type": "stream",
     "text": [
      "foo\n",
      "> baz\n",
      "> qux\n",
      "bar\n",
      "> baz\n",
      "> qux\n",
      "rab\n",
      "> baz\n",
      "> qux\n"
     ]
    }
   ],
   "source": [
    "a = [\"foo\" , 'bar' , \"rab\"]\n",
    "\n",
    "while len(a):\n",
    "    print (a.pop(0))\n",
    "\n",
    "    b = ['baz', 'qux']\n",
    "    while len(b):\n",
    "        print ('>', b.pop(0))"
   ]
  },
  {
   "cell_type": "markdown",
   "metadata": {},
   "source": [
    "#### mesti belajar len & pop lagi"
   ]
  },
  {
   "cell_type": "markdown",
   "metadata": {},
   "source": [
    "### For loop"
   ]
  },
  {
   "cell_type": "code",
   "execution_count": 55,
   "metadata": {},
   "outputs": [
    {
     "name": "stdout",
     "output_type": "stream",
     "text": [
      "4\n",
      "3\n",
      "2\n",
      "1\n",
      "0\n"
     ]
    }
   ],
   "source": [
    "for i in range(4,-1,-1): # mulai dr 4, end nya di -1, stepnya berkurang 1\n",
    "   print(i)"
   ]
  },
  {
   "cell_type": "markdown",
   "metadata": {},
   "source": [
    "#### For loop in dictionary"
   ]
  },
  {
   "cell_type": "code",
   "execution_count": 58,
   "metadata": {},
   "outputs": [
    {
     "name": "stdout",
     "output_type": "stream",
     "text": [
      "foo\n",
      "bar\n",
      "baz\n"
     ]
    }
   ],
   "source": [
    "d = {'foo' : 1, \"bar\" : 2, \"baz\" : 3}\n",
    "for k in d:\n",
    "    print (k)"
   ]
  },
  {
   "cell_type": "code",
   "execution_count": 59,
   "metadata": {},
   "outputs": [
    {
     "name": "stdout",
     "output_type": "stream",
     "text": [
      "1\n",
      "2\n",
      "3\n"
     ]
    }
   ],
   "source": [
    "for k in d:\n",
    "    print (d[k])"
   ]
  },
  {
   "cell_type": "code",
   "execution_count": 60,
   "metadata": {},
   "outputs": [
    {
     "name": "stdout",
     "output_type": "stream",
     "text": [
      "1\n",
      "2\n",
      "3\n"
     ]
    }
   ],
   "source": [
    "for k in d.values():\n",
    "    print (k)\n"
   ]
  },
  {
   "cell_type": "code",
   "execution_count": 61,
   "metadata": {},
   "outputs": [
    {
     "name": "stdout",
     "output_type": "stream",
     "text": [
      "foo : 1\n",
      "bar : 2\n",
      "baz : 3\n"
     ]
    }
   ],
   "source": [
    "for k, v in d.items():\n",
    "    print(k, \":\", v)"
   ]
  },
  {
   "cell_type": "markdown",
   "metadata": {},
   "source": [
    "### Latihan Soal"
   ]
  },
  {
   "cell_type": "markdown",
   "metadata": {},
   "source": [
    "**NOMOR 10**\n",
    "\n",
    "Buatlah sebuah perulangan untuk mencetak/menulis kata `hello` sebanyak `5` kali."
   ]
  },
  {
   "cell_type": "code",
   "execution_count": 67,
   "metadata": {},
   "outputs": [
    {
     "name": "stdout",
     "output_type": "stream",
     "text": [
      "hello\n",
      "hello\n",
      "hello\n",
      "hello\n",
      "hello\n"
     ]
    }
   ],
   "source": [
    "i = 5\n",
    "while i > 0:\n",
    "    i -= 1\n",
    "    print ('hello')\n"
   ]
  },
  {
   "cell_type": "code",
   "execution_count": 68,
   "metadata": {},
   "outputs": [
    {
     "name": "stdout",
     "output_type": "stream",
     "text": [
      "hello\n",
      "hello\n",
      "hello\n",
      "hello\n",
      "hello\n"
     ]
    }
   ],
   "source": [
    "for i in range(5):\n",
    "    print ('hello')"
   ]
  },
  {
   "cell_type": "markdown",
   "metadata": {},
   "source": [
    "**NOMOR 11**\n",
    "\n",
    "Buatlah sebuah perulangan untuk menampilkan angka dari `0` - `5`\n",
    "\n",
    "*Hasil : 0 1 2 3 4 5*"
   ]
  },
  {
   "cell_type": "code",
   "execution_count": 79,
   "metadata": {},
   "outputs": [
    {
     "name": "stdout",
     "output_type": "stream",
     "text": [
      "0 1 2 3 4 5 "
     ]
    }
   ],
   "source": [
    "i = 0\n",
    "while i < 6:\n",
    "    print (i, end=' ')\n",
    "    i+=1"
   ]
  },
  {
   "cell_type": "code",
   "execution_count": 77,
   "metadata": {},
   "outputs": [
    {
     "name": "stdout",
     "output_type": "stream",
     "text": [
      "0 1 2 3 4 5 "
     ]
    }
   ],
   "source": [
    "for i in range(6):\n",
    "    print (i, end= ' ')"
   ]
  },
  {
   "cell_type": "markdown",
   "metadata": {},
   "source": [
    "**NOMOR 12**\n",
    "\n",
    "Buatlah sebuah perulangan untuk menampilkan angka dari `3` - `5`\n",
    "\n",
    "*Hasil : 3 4 5*"
   ]
  },
  {
   "cell_type": "code",
   "execution_count": 80,
   "metadata": {},
   "outputs": [
    {
     "name": "stdout",
     "output_type": "stream",
     "text": [
      "3 4 5 "
     ]
    }
   ],
   "source": [
    "i = 3\n",
    "while i < 6:\n",
    "    print (i, end=' ')\n",
    "    i+=1"
   ]
  },
  {
   "cell_type": "code",
   "execution_count": 82,
   "metadata": {},
   "outputs": [
    {
     "name": "stdout",
     "output_type": "stream",
     "text": [
      "3 4 5 "
     ]
    }
   ],
   "source": [
    "i = 2\n",
    "while i < 5:\n",
    "    i+=1\n",
    "    print (i, end= ' ')"
   ]
  },
  {
   "cell_type": "code",
   "execution_count": 83,
   "metadata": {},
   "outputs": [
    {
     "name": "stdout",
     "output_type": "stream",
     "text": [
      "3 4 5 "
     ]
    }
   ],
   "source": [
    "for i in range(3,6):\n",
    "    print (i, end= ' ')"
   ]
  },
  {
   "cell_type": "markdown",
   "metadata": {},
   "source": [
    "**NOMOR 13**\n",
    "\n",
    "Buatlah sebuah perulangan untuk menampilkan angka dari `1` - `10` dengan jarak angka adalah `3`\n",
    "\n",
    "*Hasil : 1 4 7 10*"
   ]
  },
  {
   "cell_type": "code",
   "execution_count": 84,
   "metadata": {},
   "outputs": [
    {
     "name": "stdout",
     "output_type": "stream",
     "text": [
      "1 4 7 10 "
     ]
    }
   ],
   "source": [
    "for i in range(1,11,3):\n",
    "    print (i, end= ' ')"
   ]
  },
  {
   "cell_type": "code",
   "execution_count": 85,
   "metadata": {},
   "outputs": [
    {
     "name": "stdout",
     "output_type": "stream",
     "text": [
      "1 4 7 10 "
     ]
    }
   ],
   "source": [
    "i = 1\n",
    "while i < 11:\n",
    "    print (i, end= ' ')\n",
    "    i+=3"
   ]
  },
  {
   "cell_type": "code",
   "execution_count": 86,
   "metadata": {},
   "outputs": [
    {
     "name": "stdout",
     "output_type": "stream",
     "text": [
      "10 7 4 1 "
     ]
    }
   ],
   "source": [
    "i = 10\n",
    "while i > 0:\n",
    "    print (i, end=' ')\n",
    "    i-=3"
   ]
  },
  {
   "cell_type": "markdown",
   "metadata": {},
   "source": [
    "**NOMOR 14**\n",
    "\n",
    "Buatlah sebuah perulangan untuk menampilkan angka dari `1` - `10` dan berhenti dengan kondisi jika angka tersebut adalah `8`\n",
    "\n",
    "*Hasil : 1 2 3 4 5 6 7 8*"
   ]
  },
  {
   "cell_type": "code",
   "execution_count": 87,
   "metadata": {},
   "outputs": [
    {
     "name": "stdout",
     "output_type": "stream",
     "text": [
      "1 2 3 4 5 6 7 8 "
     ]
    }
   ],
   "source": [
    "for i in range(1,9):\n",
    "    print (i, end= ' ')"
   ]
  },
  {
   "cell_type": "code",
   "execution_count": 88,
   "metadata": {},
   "outputs": [
    {
     "name": "stdout",
     "output_type": "stream",
     "text": [
      "1 2 3 4 5 6 7 8 "
     ]
    }
   ],
   "source": [
    "i = 1\n",
    "while i < 9:\n",
    "    print (i, end= ' ')\n",
    "    i+=1"
   ]
  },
  {
   "cell_type": "code",
   "execution_count": 90,
   "metadata": {},
   "outputs": [
    {
     "name": "stdout",
     "output_type": "stream",
     "text": [
      "1 2 3 4 5 6 7 8 "
     ]
    }
   ],
   "source": [
    "i = 0\n",
    "while i < 8:\n",
    "    i+=1\n",
    "    print (i, end= ' ')"
   ]
  },
  {
   "cell_type": "markdown",
   "metadata": {},
   "source": [
    "**NOMOR 15**\n",
    "\n",
    "Buatlah sebuah perulangan untuk menampilkan angka genap dari `1` - `10` dan angka tersebut kurang dari sama dengan 6\n",
    "\n",
    "*Hasil : 2 4 6*"
   ]
  },
  {
   "cell_type": "code",
   "execution_count": 93,
   "metadata": {},
   "outputs": [
    {
     "name": "stdout",
     "output_type": "stream",
     "text": [
      "2 4 6 "
     ]
    }
   ],
   "source": [
    "for i in range(2,8,2):\n",
    "    print (i, end= ' ')"
   ]
  },
  {
   "cell_type": "code",
   "execution_count": 94,
   "metadata": {},
   "outputs": [
    {
     "name": "stdout",
     "output_type": "stream",
     "text": [
      "2 4 6 "
     ]
    }
   ],
   "source": [
    "i = 2\n",
    "while i < 8:\n",
    "    print (i, end= ' ')\n",
    "    i+=2"
   ]
  },
  {
   "cell_type": "markdown",
   "metadata": {},
   "source": [
    "**NOMOR 16**\n",
    "\n",
    "Buatlah sebuah perulangan untuk menampilkan isi dari variabel list dibawah ini :\n",
    "\n",
    "* `daftar_nama` = `['anwar', 'budi', 'cecep', 'deny']`"
   ]
  },
  {
   "cell_type": "code",
   "execution_count": 95,
   "metadata": {},
   "outputs": [
    {
     "name": "stdout",
     "output_type": "stream",
     "text": [
      "anwar\n",
      "budi\n",
      "cecep\n",
      "deny\n"
     ]
    }
   ],
   "source": [
    "daftar_nama = ['anwar', 'budi', 'cecep', 'deny' ]\n",
    "\n",
    "for i in daftar_nama:\n",
    "    print (i)"
   ]
  },
  {
   "cell_type": "code",
   "execution_count": 96,
   "metadata": {},
   "outputs": [
    {
     "name": "stdout",
     "output_type": "stream",
     "text": [
      "anwar\n",
      "budi\n",
      "cecep\n",
      "deny\n"
     ]
    }
   ],
   "source": [
    "i = 4\n",
    "a = 0\n",
    "while i > 0 :\n",
    "    print(daftar_nama[a])\n",
    "    i-=1\n",
    "    a+=1"
   ]
  },
  {
   "cell_type": "markdown",
   "metadata": {},
   "source": [
    "#### break & continue in for loop"
   ]
  },
  {
   "cell_type": "code",
   "execution_count": 102,
   "metadata": {},
   "outputs": [
    {
     "name": "stdout",
     "output_type": "stream",
     "text": [
      "foo\n",
      "box\n"
     ]
    }
   ],
   "source": [
    "for i in ['foo', 'box', 'bag', 'sad']:\n",
    "    if 'a' in i:\n",
    "        break\n",
    "    print (i)"
   ]
  },
  {
   "cell_type": "code",
   "execution_count": 103,
   "metadata": {},
   "outputs": [
    {
     "name": "stdout",
     "output_type": "stream",
     "text": [
      "foo\n",
      "box\n",
      "sit\n"
     ]
    }
   ],
   "source": [
    "for i in ['foo', 'box', 'bag', 'sit']:\n",
    "    if 'a' in i:\n",
    "        continue\n",
    "    print (i)"
   ]
  },
  {
   "cell_type": "markdown",
   "metadata": {},
   "source": [
    "#### else in for loop"
   ]
  },
  {
   "cell_type": "code",
   "execution_count": 104,
   "metadata": {},
   "outputs": [
    {
     "name": "stdout",
     "output_type": "stream",
     "text": [
      "foo\n",
      "box\n",
      "bag\n",
      "sad\n",
      "done\n"
     ]
    }
   ],
   "source": [
    "for i in ['foo', 'box', 'bag', 'sad']:\n",
    "    print (i)\n",
    "else:\n",
    "    print ('done')"
   ]
  },
  {
   "cell_type": "markdown",
   "metadata": {},
   "source": [
    "### Sesi 3 : Python Function & Module"
   ]
  },
  {
   "cell_type": "code",
   "execution_count": 2,
   "metadata": {},
   "outputs": [
    {
     "data": {
      "text/plain": [
       "60"
      ]
     },
     "execution_count": 2,
     "metadata": {},
     "output_type": "execute_result"
    }
   ],
   "source": [
    "def hitung_luas(p,l):\n",
    "    return p*l\n",
    "hitung_luas(2,30)"
   ]
  }
 ],
 "metadata": {
  "kernelspec": {
   "display_name": "base",
   "language": "python",
   "name": "python3"
  },
  "language_info": {
   "codemirror_mode": {
    "name": "ipython",
    "version": 3
   },
   "file_extension": ".py",
   "mimetype": "text/x-python",
   "name": "python",
   "nbconvert_exporter": "python",
   "pygments_lexer": "ipython3",
   "version": "3.11.7"
  }
 },
 "nbformat": 4,
 "nbformat_minor": 2
}
