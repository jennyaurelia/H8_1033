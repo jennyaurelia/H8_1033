{
 "cells": [
  {
   "cell_type": "code",
   "execution_count": 1,
   "metadata": {},
   "outputs": [
    {
     "data": {
      "text/plain": [
       "2"
      ]
     },
     "execution_count": 1,
     "metadata": {},
     "output_type": "execute_result"
    }
   ],
   "source": [
    "1+1"
   ]
  },
  {
   "cell_type": "code",
   "execution_count": 2,
   "metadata": {},
   "outputs": [
    {
     "data": {
      "text/plain": [
       "18"
      ]
     },
     "execution_count": 2,
     "metadata": {},
     "output_type": "execute_result"
    }
   ],
   "source": [
    "a = 5\n",
    "b = 13\n",
    "a+b "
   ]
  },
  {
   "cell_type": "code",
   "execution_count": 1,
   "metadata": {},
   "outputs": [
    {
     "name": "stdout",
     "output_type": "stream",
     "text": [
      "no\n"
     ]
    }
   ],
   "source": [
    "x = 1\n",
    "y = 5\n",
    "\n",
    "if x > y :\n",
    "    print('yes')\n",
    "else:\n",
    "    print('no')"
   ]
  },
  {
   "cell_type": "markdown",
   "metadata": {},
   "source": [
    "**NOMOR 1**\n",
    "\n",
    "Buatlah sebuah kondisi untuk mengecek apakah variabel `a` **lebih kecil** dari variabel `b` berdasarkan nilai dibawah ini :\n",
    "* `a` = 100\n",
    "* `b` = 200\n",
    "\n",
    "Jika `True` maka tulis/cetak `a lebih kecil dari b`"
   ]
  },
  {
   "cell_type": "code",
   "execution_count": 2,
   "metadata": {},
   "outputs": [
    {
     "name": "stdout",
     "output_type": "stream",
     "text": [
      "a lebih kecil dari b\n"
     ]
    }
   ],
   "source": [
    "a = 100\n",
    "b = 200\n",
    "if a < b:\n",
    "    print(\"a lebih kecil dari b\")"
   ]
  },
  {
   "cell_type": "markdown",
   "metadata": {},
   "source": [
    "**NOMOR 2**\n",
    "\n",
    "Buatlah sebuah kondisi untuk mengecek apakah variabel `a` **lebih besar** dari variabel `b` berdasarkan nilai dibawah ini :\n",
    "* `a` = 100\n",
    "* `b` = 200\n",
    "\n",
    "Jika `True` maka tulis/cetak `a lebih besar dari b`"
   ]
  },
  {
   "cell_type": "code",
   "execution_count": 4,
   "metadata": {},
   "outputs": [
    {
     "name": "stdout",
     "output_type": "stream",
     "text": [
      "a lebih kecil dari b\n"
     ]
    }
   ],
   "source": [
    "if a > b:\n",
    "    print('a lebih besar dari b')\n",
    "else:\n",
    "    print('a lebih kecil dari b')"
   ]
  },
  {
   "cell_type": "markdown",
   "metadata": {},
   "source": [
    "**NOMOR 3**\n",
    "\n",
    "Buatlah sebuah kondisi untuk mengecek apakah variabel `a` **tidak sama dengan**  variabel `b` berdasarkan nilai dibawah ini :\n",
    "* `a` = `januari`\n",
    "* `b` = `februari`\n",
    "\n",
    "Jika `True` maka tulis/cetak `a tidak sama dengan b`\n",
    "\n",
    "Jika `False` maka tulis/cetak `a sama dengan b`"
   ]
  },
  {
   "cell_type": "code",
   "execution_count": 6,
   "metadata": {},
   "outputs": [
    {
     "name": "stdout",
     "output_type": "stream",
     "text": [
      "a tidak sama dengan b\n"
     ]
    }
   ],
   "source": [
    "a = \"januari\"\n",
    "b = \"februari\"\n",
    "\n",
    "if a != b:\n",
    "    print(\"a tidak sama dengan b\")\n",
    "else:\n",
    "    print(' a sama dengan b')"
   ]
  },
  {
   "cell_type": "markdown",
   "metadata": {},
   "source": [
    "**NOMOR 4**\n",
    "\n",
    "Buatlah sebuah kondisi untuk mengecek apakah variabel `a` **sama dengan**  variabel `b` berdasarkan nilai dibawah ini :\n",
    "* `a` = 1000\n",
    "* `b` = 1000.0\n",
    "\n",
    "Jika `True` maka jangan menampilkan apapun\n",
    "\n",
    "Jika `False` maka tulis/cetak `a tidak sama dengan b`"
   ]
  },
  {
   "cell_type": "code",
   "execution_count": 8,
   "metadata": {},
   "outputs": [
    {
     "name": "stdout",
     "output_type": "stream",
     "text": [
      "a tidak sama dengan b\n"
     ]
    }
   ],
   "source": [
    "a = 1000\n",
    "b = 1000.2\n",
    "\n",
    "if a == b:\n",
    "    pass\n",
    "else:\n",
    "    print('a tidak sama dengan b')"
   ]
  },
  {
   "cell_type": "code",
   "execution_count": 10,
   "metadata": {},
   "outputs": [
    {
     "name": "stdout",
     "output_type": "stream",
     "text": [
      "<class 'int'>\n",
      "<class 'float'>\n",
      "1000\n"
     ]
    },
    {
     "data": {
      "text/plain": [
       "1000.2"
      ]
     },
     "execution_count": 10,
     "metadata": {},
     "output_type": "execute_result"
    }
   ],
   "source": [
    "print(type(a))\n",
    "print(type(b))\n",
    "print(a)\n",
    "b"
   ]
  },
  {
   "cell_type": "markdown",
   "metadata": {},
   "source": [
    "**NOMOR 5**\n",
    "\n",
    "Buatlah sebuah kondisi untuk mengecek apakah variabel `a` **berbeda**  variabel `b` berdasarkan nilai dibawah ini :\n",
    "* `angka_ganjil` = `[1, 3, 5, 7]`\n",
    "* `angka_genap`  = `[2, 4, 6, 8]`\n",
    "\n",
    "Jika `True` maka tulis/cetak `angka_ganjil berbeda dengan angka_genap`\n",
    "\n",
    "Jika `False` maka tulis/cetak `angka_ganjil sama dengan angka_genap`"
   ]
  },
  {
   "cell_type": "code",
   "execution_count": 11,
   "metadata": {},
   "outputs": [
    {
     "name": "stdout",
     "output_type": "stream",
     "text": [
      "angka_ganjil berbeda dengan angka_genap\n"
     ]
    }
   ],
   "source": [
    "angka_ganjil = [1, 3, 5, 7]\n",
    "angka_genap = [2, 4, 6, 8]\n",
    "\n",
    "if a!=b:\n",
    "    print(\"angka_ganjil berbeda dengan angka_genap\")\n",
    "else:\n",
    "    print(\"angka ganjil sama dengan angka genap\")"
   ]
  },
  {
   "cell_type": "markdown",
   "metadata": {},
   "source": [
    "**NOMOR 6**\n",
    "\n",
    "Buatlah sebuah kondisi untuk mengecek apakah variabel-variabel dibawah ini mempunyai nilai atau tidak\n",
    "\n",
    "* `nama` = `budi`\n",
    "* `usia` = 20\n",
    "* `jenis_kelamin_pria` = True\n",
    "* `alamat` = `None`\n",
    "* `jumlah_motor` = 0\n",
    "* `punya_rumah` = `False`\n",
    "\n",
    "Jika True maka tulis/cetak `ada`\n",
    "\n",
    "Jika False maka tulis/cetak `tidak ada`"
   ]
  },
  {
   "cell_type": "code",
   "execution_count": 18,
   "metadata": {},
   "outputs": [
    {
     "name": "stdout",
     "output_type": "stream",
     "text": [
      "tidak ada\n"
     ]
    }
   ],
   "source": [
    "nama = \"budi\"\n",
    "usia = 20\n",
    "jenis_kelamin_pria = True\n",
    "alamat = None\n",
    "jumlah_motor = 0\n",
    "punya_rumah = False\n",
    "\n",
    "if punya_rumah:\n",
    "    print(\"ada\")\n",
    "else:\n",
    "    print(\"tidak ada\")"
   ]
  },
  {
   "cell_type": "markdown",
   "metadata": {},
   "source": [
    "**NOMOR 7**\n",
    "\n",
    "Buatlah sebuah kondisi untuk mengecek apakah variabel-variabel dibawah ini termasuk salah satu nilai dari variabel lain atau tidak\n",
    "\n",
    "* *`pendidikan` = `s1`* terhadap *`daftar_pendidikan` = ['s1', 's2', 's3']*\n",
    "* *`nama` = `budi`* terhadap *`nama_lengkap` = `budi kurniawan`*\n",
    "\n",
    "Jika True maka tulis/cetak `merupakan bagian`\n",
    "\n",
    "Jika False maka tulis/cetak `bukan merupakan bagian`"
   ]
  },
  {
   "cell_type": "code",
   "execution_count": 24,
   "metadata": {},
   "outputs": [
    {
     "name": "stdout",
     "output_type": "stream",
     "text": [
      "bukan merupakan bagian\n",
      "bukan merupakan bagian\n"
     ]
    }
   ],
   "source": [
    "pendidikan = \"s4\"\n",
    "daftar_pendidikan = ['s1','s2','s3']\n",
    "\n",
    "nama = 'Budi'\n",
    "nama_lengkap = \"budi kurniawan\"\n",
    "\n",
    "if pendidikan in daftar_pendidikan:\n",
    "    print(\"merupakan bagian\")\n",
    "else:\n",
    "    print(\"bukan merupakan bagian\")\n",
    "\n",
    "if nama in nama_lengkap:\n",
    "    print('merupakan bagian')\n",
    "else:\n",
    "    print('bukan merupakan bagian')\n"
   ]
  },
  {
   "cell_type": "markdown",
   "metadata": {},
   "source": [
    "**NOMOR 8 (IF ELIF)**\n",
    "\n",
    "Buatlah sebuah kondisi untuk mengecek hubungan dua variabel dibawah ini :\n",
    "\n",
    "* `a` = 100\n",
    "* `b` = 100\n",
    "\n",
    "Jika `a < b` maka tulis/cetak `a lebih kecil dari b`\n",
    "\n",
    "Jika `a > b` maka tulis/cetak `a lebih besar dari b`\n",
    "\n",
    "Selain kondisi diatas, maka tulis/cetak `a sama dengan b`"
   ]
  },
  {
   "cell_type": "code",
   "execution_count": 27,
   "metadata": {},
   "outputs": [
    {
     "name": "stdout",
     "output_type": "stream",
     "text": [
      "a lebih kecil dari b\n"
     ]
    }
   ],
   "source": [
    "a = 10\n",
    "b = 100\n",
    "if a < b:\n",
    "    print('a lebih kecil dari b')\n",
    "elif a > b:\n",
    "    print('a lebih besar dari b')\n",
    "else:\n",
    "    print('a sama dengan b')"
   ]
  },
  {
   "cell_type": "markdown",
   "metadata": {},
   "source": [
    "**NOMOR 9 (NESTED IF)**\n",
    "\n",
    "Buatlah sebuah kondisi untuk memilih menu makanan dengan syarat :\n",
    "\n",
    "* Pilih `nasi goreng` jika uang yang dimiliki lebih dari sama dengan Rp 15.000,-\n",
    "* Pilih `ketoprak` jika uang yang dimiliki lebih dari sama dengan Rp 10.000 dan kurang dari Rp 15.000,-\n",
    "* Pilih `batagor` jika uang yang dimiliki lebih dari sama dengan Rp 5.000 dan kurang Rp 10.000,-\n",
    "* Pilih `es teh manis` jika uang yang dimiliki kurang dari Rp 5000"
   ]
  },
  {
   "cell_type": "code",
   "execution_count": 31,
   "metadata": {},
   "outputs": [
    {
     "name": "stdout",
     "output_type": "stream",
     "text": [
      "beli es teh\n"
     ]
    }
   ],
   "source": [
    "uang = 2000\n",
    "if uang >= 15000:\n",
    "    print('beli nasi goreng')\n",
    "elif uang >= 10000:\n",
    "    print('beli ketoprak')\n",
    "elif uang >= 5000:\n",
    "    print('beli batagor')\n",
    "else:\n",
    "    print('beli es teh')"
   ]
  },
  {
   "cell_type": "markdown",
   "metadata": {},
   "source": [
    "### Conditional Expressions (Python's Ternary Operator)"
   ]
  },
  {
   "cell_type": "code",
   "execution_count": 33,
   "metadata": {},
   "outputs": [
    {
     "name": "stdout",
     "output_type": "stream",
     "text": [
      "Let's go to the library\n"
     ]
    }
   ],
   "source": [
    "raining = True\n",
    "print(\"Let's go to the\", 'beach' if not raining else 'library')"
   ]
  },
  {
   "cell_type": "code",
   "execution_count": 36,
   "metadata": {},
   "outputs": [
    {
     "data": {
      "text/plain": [
       "'adult'"
      ]
     },
     "execution_count": 36,
     "metadata": {},
     "output_type": "execute_result"
    }
   ],
   "source": [
    "age = 22\n",
    "s = 'teen' if age < 21 else 'adult'\n",
    "s"
   ]
  },
  {
   "cell_type": "code",
   "execution_count": null,
   "metadata": {},
   "outputs": [],
   "source": []
  }
 ],
 "metadata": {
  "kernelspec": {
   "display_name": "base",
   "language": "python",
   "name": "python3"
  },
  "language_info": {
   "codemirror_mode": {
    "name": "ipython",
    "version": 3
   },
   "file_extension": ".py",
   "mimetype": "text/x-python",
   "name": "python",
   "nbconvert_exporter": "python",
   "pygments_lexer": "ipython3",
   "version": "3.11.7"
  }
 },
 "nbformat": 4,
 "nbformat_minor": 2
}
