{
 "cells": [
  {
   "cell_type": "markdown",
   "metadata": {},
   "source": [
    "# FIFA 2022 Prediction \n",
    " sesi 13 "
   ]
  },
  {
   "cell_type": "markdown",
   "metadata": {},
   "source": [
    "# i. Introduction  \n",
    "**Name:** Jenny AT  \n",
    "\n",
    "**Problem statement:**  \n",
    "Menurut laporan FIFA 2022, jumlah pemain sepakbola pada tahun 2021 kurang lebih sebanyak 130.000 pemain.  \n",
    "Namun, dalam dataset yang digunakan kali ini, hanya mencakup 30.000 pemain. \n",
    " \n",
    "**Objective:**  \n",
    "Project kali ini dibuat dengan tujuan untuk memprediksi rating pemain FIFA 2022 sehingga semua pemain professional dapat diketahui ratingnya dan tidak menutup kemungkinan untuk mengetahu talenta baru dengan model `Linear Regression` dan metrics `MAE, MSE, RMSE, dan R2 score`."
   ]
  },
  {
   "cell_type": "markdown",
   "metadata": {},
   "source": [
    "# ii. Import Libraries"
   ]
  },
  {
   "cell_type": "code",
   "execution_count": 3,
   "metadata": {},
   "outputs": [],
   "source": [
    "# Import libraries\n",
    "import numpy as np\n",
    "import pandas as pd\n",
    "\n",
    "# Visualization libraries\n",
    "import matplotlib.pyplot as plt\n",
    "import seaborn as sns\n",
    "\n",
    "# Feature engineering\n",
    "from sklearn.model_selection import train_test_split\n",
    "from feature_engine.outliers import Winsorizer\n",
    "import phik \n",
    "from sklearn.preprocessing import StandardScaler,RobustScaler,OrdinalEncoder\n",
    "\n",
    "\n",
    "# Import model\n",
    "from sklearn.linear_model import LinearRegression\n",
    "\n",
    "# Import evaluation model\n",
    "from sklearn.metrics import mean_absolute_error\n",
    "\n",
    "# Import for saving model\n",
    "import pickle\n",
    "import json\n",
    "\n",
    "# Ignore warning\n",
    "import warnings\n",
    "warnings.filterwarnings('ignore')"
   ]
  },
  {
   "cell_type": "markdown",
   "metadata": {},
   "source": [
    "# iii. Data Loading"
   ]
  },
  {
   "cell_type": "code",
   "execution_count": 4,
   "metadata": {},
   "outputs": [
    {
     "data": {
      "text/html": [
       "<div>\n",
       "<style scoped>\n",
       "    .dataframe tbody tr th:only-of-type {\n",
       "        vertical-align: middle;\n",
       "    }\n",
       "\n",
       "    .dataframe tbody tr th {\n",
       "        vertical-align: top;\n",
       "    }\n",
       "\n",
       "    .dataframe thead th {\n",
       "        text-align: right;\n",
       "    }\n",
       "</style>\n",
       "<table border=\"1\" class=\"dataframe\">\n",
       "  <thead>\n",
       "    <tr style=\"text-align: right;\">\n",
       "      <th></th>\n",
       "      <th>Name</th>\n",
       "      <th>Age</th>\n",
       "      <th>Height</th>\n",
       "      <th>Weight</th>\n",
       "      <th>ValueEUR</th>\n",
       "      <th>AttackingWorkRate</th>\n",
       "      <th>DefensiveWorkRate</th>\n",
       "      <th>PaceTotal</th>\n",
       "      <th>ShootingTotal</th>\n",
       "      <th>PassingTotal</th>\n",
       "      <th>DribblingTotal</th>\n",
       "      <th>DefendingTotal</th>\n",
       "      <th>PhysicalityTotal</th>\n",
       "      <th>Overall</th>\n",
       "    </tr>\n",
       "  </thead>\n",
       "  <tbody>\n",
       "    <tr>\n",
       "      <th>0</th>\n",
       "      <td>L. Messi</td>\n",
       "      <td>34</td>\n",
       "      <td>170</td>\n",
       "      <td>72</td>\n",
       "      <td>78000000</td>\n",
       "      <td>Medium</td>\n",
       "      <td>Low</td>\n",
       "      <td>85</td>\n",
       "      <td>92</td>\n",
       "      <td>91</td>\n",
       "      <td>95</td>\n",
       "      <td>34</td>\n",
       "      <td>65</td>\n",
       "      <td>93</td>\n",
       "    </tr>\n",
       "    <tr>\n",
       "      <th>1</th>\n",
       "      <td>R. Lewandowski</td>\n",
       "      <td>32</td>\n",
       "      <td>185</td>\n",
       "      <td>81</td>\n",
       "      <td>119500000</td>\n",
       "      <td>High</td>\n",
       "      <td>Medium</td>\n",
       "      <td>78</td>\n",
       "      <td>92</td>\n",
       "      <td>79</td>\n",
       "      <td>85</td>\n",
       "      <td>44</td>\n",
       "      <td>82</td>\n",
       "      <td>92</td>\n",
       "    </tr>\n",
       "    <tr>\n",
       "      <th>2</th>\n",
       "      <td>Cristiano Ronaldo</td>\n",
       "      <td>36</td>\n",
       "      <td>187</td>\n",
       "      <td>83</td>\n",
       "      <td>45000000</td>\n",
       "      <td>High</td>\n",
       "      <td>Low</td>\n",
       "      <td>87</td>\n",
       "      <td>94</td>\n",
       "      <td>80</td>\n",
       "      <td>87</td>\n",
       "      <td>34</td>\n",
       "      <td>75</td>\n",
       "      <td>91</td>\n",
       "    </tr>\n",
       "    <tr>\n",
       "      <th>3</th>\n",
       "      <td>K. Mbappé</td>\n",
       "      <td>22</td>\n",
       "      <td>182</td>\n",
       "      <td>73</td>\n",
       "      <td>194000000</td>\n",
       "      <td>High</td>\n",
       "      <td>Low</td>\n",
       "      <td>97</td>\n",
       "      <td>88</td>\n",
       "      <td>80</td>\n",
       "      <td>92</td>\n",
       "      <td>36</td>\n",
       "      <td>77</td>\n",
       "      <td>91</td>\n",
       "    </tr>\n",
       "    <tr>\n",
       "      <th>4</th>\n",
       "      <td>J. Oblak</td>\n",
       "      <td>28</td>\n",
       "      <td>188</td>\n",
       "      <td>87</td>\n",
       "      <td>112000000</td>\n",
       "      <td>Medium</td>\n",
       "      <td>Medium</td>\n",
       "      <td>87</td>\n",
       "      <td>92</td>\n",
       "      <td>78</td>\n",
       "      <td>90</td>\n",
       "      <td>52</td>\n",
       "      <td>90</td>\n",
       "      <td>91</td>\n",
       "    </tr>\n",
       "  </tbody>\n",
       "</table>\n",
       "</div>"
      ],
      "text/plain": [
       "                Name  Age  Height  Weight   ValueEUR AttackingWorkRate  \\\n",
       "0           L. Messi   34     170      72   78000000            Medium   \n",
       "1     R. Lewandowski   32     185      81  119500000              High   \n",
       "2  Cristiano Ronaldo   36     187      83   45000000              High   \n",
       "3          K. Mbappé   22     182      73  194000000              High   \n",
       "4           J. Oblak   28     188      87  112000000            Medium   \n",
       "\n",
       "  DefensiveWorkRate  PaceTotal  ShootingTotal  PassingTotal  DribblingTotal  \\\n",
       "0               Low         85             92            91              95   \n",
       "1            Medium         78             92            79              85   \n",
       "2               Low         87             94            80              87   \n",
       "3               Low         97             88            80              92   \n",
       "4            Medium         87             92            78              90   \n",
       "\n",
       "   DefendingTotal  PhysicalityTotal  Overall  \n",
       "0              34                65       93  \n",
       "1              44                82       92  \n",
       "2              34                75       91  \n",
       "3              36                77       91  \n",
       "4              52                90       91  "
      ]
     },
     "execution_count": 4,
     "metadata": {},
     "output_type": "execute_result"
    }
   ],
   "source": [
    "# Import data\n",
    "df_ori = pd.read_csv('https://raw.githubusercontent.com/FTDS-learning-materials/phase-1/master/w1/P1W1D1PM%20-%20Machine%20Learning%20Problem%20Framing.csv')\n",
    "\n",
    "# Duplicate data\n",
    "df = df_ori.copy()\n",
    "\n",
    "# Show top 5 data\n",
    "df.head()"
   ]
  },
  {
   "cell_type": "code",
   "execution_count": 5,
   "metadata": {},
   "outputs": [
    {
     "name": "stdout",
     "output_type": "stream",
     "text": [
      "<class 'pandas.core.frame.DataFrame'>\n",
      "RangeIndex: 19260 entries, 0 to 19259\n",
      "Data columns (total 14 columns):\n",
      " #   Column             Non-Null Count  Dtype \n",
      "---  ------             --------------  ----- \n",
      " 0   Name               19260 non-null  object\n",
      " 1   Age                19260 non-null  int64 \n",
      " 2   Height             19260 non-null  int64 \n",
      " 3   Weight             19260 non-null  int64 \n",
      " 4   ValueEUR           19260 non-null  int64 \n",
      " 5   AttackingWorkRate  19260 non-null  object\n",
      " 6   DefensiveWorkRate  19260 non-null  object\n",
      " 7   PaceTotal          19260 non-null  int64 \n",
      " 8   ShootingTotal      19260 non-null  int64 \n",
      " 9   PassingTotal       19260 non-null  int64 \n",
      " 10  DribblingTotal     19260 non-null  int64 \n",
      " 11  DefendingTotal     19260 non-null  int64 \n",
      " 12  PhysicalityTotal   19260 non-null  int64 \n",
      " 13  Overall            19260 non-null  int64 \n",
      "dtypes: int64(11), object(3)\n",
      "memory usage: 2.1+ MB\n"
     ]
    }
   ],
   "source": [
    "# Checking data -1\n",
    "df.info()"
   ]
  },
  {
   "cell_type": "markdown",
   "metadata": {},
   "source": [
    "statement?? ... rows ...columns, misval? jumlah numerical categorical ? + make sure setiap data sudah sesuai dengan tipenya/cek numerical features apakah benar2 termasuk numerical features atau categorical feature yang sudah di encode? contoh:  \n",
    "gender tipe kolom integer. isinya 1 = male 0 = female. ini harusnya termasuk dalam categorical encoded column.\n",
    "\n",
    "praktek:  \n",
    "Nominal column = 'Name'  \n",
    "Ordinal column = 'AttackingWorkRate', 'DefensiveWorkRate'  \n",
    "categorical encoded = -  \n",
    "Numerical = 'Age', 'Height', 'Weight', 'ValueEUR','PaceTotal', 'ShootingTotal', 'PassingTotal','DribblingTotal', 'DefendingTotal', 'PhysicalityTotal'"
   ]
  },
  {
   "cell_type": "code",
   "execution_count": 6,
   "metadata": {},
   "outputs": [
    {
     "data": {
      "text/html": [
       "<div>\n",
       "<style scoped>\n",
       "    .dataframe tbody tr th:only-of-type {\n",
       "        vertical-align: middle;\n",
       "    }\n",
       "\n",
       "    .dataframe tbody tr th {\n",
       "        vertical-align: top;\n",
       "    }\n",
       "\n",
       "    .dataframe thead th {\n",
       "        text-align: right;\n",
       "    }\n",
       "</style>\n",
       "<table border=\"1\" class=\"dataframe\">\n",
       "  <thead>\n",
       "    <tr style=\"text-align: right;\">\n",
       "      <th></th>\n",
       "      <th>Age</th>\n",
       "      <th>Height</th>\n",
       "      <th>Weight</th>\n",
       "      <th>ValueEUR</th>\n",
       "      <th>PaceTotal</th>\n",
       "      <th>ShootingTotal</th>\n",
       "      <th>PassingTotal</th>\n",
       "      <th>DribblingTotal</th>\n",
       "      <th>DefendingTotal</th>\n",
       "      <th>PhysicalityTotal</th>\n",
       "      <th>Overall</th>\n",
       "    </tr>\n",
       "  </thead>\n",
       "  <tbody>\n",
       "    <tr>\n",
       "      <th>count</th>\n",
       "      <td>19260.000000</td>\n",
       "      <td>19260.000000</td>\n",
       "      <td>19260.000000</td>\n",
       "      <td>1.926000e+04</td>\n",
       "      <td>19260.000000</td>\n",
       "      <td>19260.000000</td>\n",
       "      <td>19260.000000</td>\n",
       "      <td>19260.000000</td>\n",
       "      <td>19260.0000</td>\n",
       "      <td>19260.000000</td>\n",
       "      <td>19260.000000</td>\n",
       "    </tr>\n",
       "    <tr>\n",
       "      <th>mean</th>\n",
       "      <td>25.184683</td>\n",
       "      <td>181.305036</td>\n",
       "      <td>74.950779</td>\n",
       "      <td>2.857652e+06</td>\n",
       "      <td>67.910228</td>\n",
       "      <td>53.535514</td>\n",
       "      <td>57.853323</td>\n",
       "      <td>63.028712</td>\n",
       "      <td>50.0581</td>\n",
       "      <td>64.676584</td>\n",
       "      <td>65.815628</td>\n",
       "    </tr>\n",
       "    <tr>\n",
       "      <th>std</th>\n",
       "      <td>4.737340</td>\n",
       "      <td>6.866151</td>\n",
       "      <td>7.066864</td>\n",
       "      <td>7.604532e+06</td>\n",
       "      <td>10.656453</td>\n",
       "      <td>13.813476</td>\n",
       "      <td>9.835494</td>\n",
       "      <td>9.704853</td>\n",
       "      <td>16.3888</td>\n",
       "      <td>9.626269</td>\n",
       "      <td>6.817297</td>\n",
       "    </tr>\n",
       "    <tr>\n",
       "      <th>min</th>\n",
       "      <td>16.000000</td>\n",
       "      <td>155.000000</td>\n",
       "      <td>49.000000</td>\n",
       "      <td>0.000000e+00</td>\n",
       "      <td>28.000000</td>\n",
       "      <td>18.000000</td>\n",
       "      <td>25.000000</td>\n",
       "      <td>26.000000</td>\n",
       "      <td>14.0000</td>\n",
       "      <td>29.000000</td>\n",
       "      <td>48.000000</td>\n",
       "    </tr>\n",
       "    <tr>\n",
       "      <th>25%</th>\n",
       "      <td>21.000000</td>\n",
       "      <td>176.000000</td>\n",
       "      <td>70.000000</td>\n",
       "      <td>4.750000e+05</td>\n",
       "      <td>62.000000</td>\n",
       "      <td>44.000000</td>\n",
       "      <td>52.000000</td>\n",
       "      <td>58.000000</td>\n",
       "      <td>35.0000</td>\n",
       "      <td>58.000000</td>\n",
       "      <td>62.000000</td>\n",
       "    </tr>\n",
       "    <tr>\n",
       "      <th>50%</th>\n",
       "      <td>25.000000</td>\n",
       "      <td>181.000000</td>\n",
       "      <td>75.000000</td>\n",
       "      <td>9.750000e+05</td>\n",
       "      <td>68.000000</td>\n",
       "      <td>56.000000</td>\n",
       "      <td>58.000000</td>\n",
       "      <td>64.000000</td>\n",
       "      <td>54.0000</td>\n",
       "      <td>66.000000</td>\n",
       "      <td>66.000000</td>\n",
       "    </tr>\n",
       "    <tr>\n",
       "      <th>75%</th>\n",
       "      <td>29.000000</td>\n",
       "      <td>186.000000</td>\n",
       "      <td>80.000000</td>\n",
       "      <td>2.000000e+06</td>\n",
       "      <td>75.000000</td>\n",
       "      <td>64.000000</td>\n",
       "      <td>65.000000</td>\n",
       "      <td>69.000000</td>\n",
       "      <td>63.0000</td>\n",
       "      <td>72.000000</td>\n",
       "      <td>70.000000</td>\n",
       "    </tr>\n",
       "    <tr>\n",
       "      <th>max</th>\n",
       "      <td>54.000000</td>\n",
       "      <td>206.000000</td>\n",
       "      <td>110.000000</td>\n",
       "      <td>1.940000e+08</td>\n",
       "      <td>97.000000</td>\n",
       "      <td>94.000000</td>\n",
       "      <td>93.000000</td>\n",
       "      <td>95.000000</td>\n",
       "      <td>91.0000</td>\n",
       "      <td>92.000000</td>\n",
       "      <td>93.000000</td>\n",
       "    </tr>\n",
       "  </tbody>\n",
       "</table>\n",
       "</div>"
      ],
      "text/plain": [
       "                Age        Height        Weight      ValueEUR     PaceTotal  \\\n",
       "count  19260.000000  19260.000000  19260.000000  1.926000e+04  19260.000000   \n",
       "mean      25.184683    181.305036     74.950779  2.857652e+06     67.910228   \n",
       "std        4.737340      6.866151      7.066864  7.604532e+06     10.656453   \n",
       "min       16.000000    155.000000     49.000000  0.000000e+00     28.000000   \n",
       "25%       21.000000    176.000000     70.000000  4.750000e+05     62.000000   \n",
       "50%       25.000000    181.000000     75.000000  9.750000e+05     68.000000   \n",
       "75%       29.000000    186.000000     80.000000  2.000000e+06     75.000000   \n",
       "max       54.000000    206.000000    110.000000  1.940000e+08     97.000000   \n",
       "\n",
       "       ShootingTotal  PassingTotal  DribblingTotal  DefendingTotal  \\\n",
       "count   19260.000000  19260.000000    19260.000000      19260.0000   \n",
       "mean       53.535514     57.853323       63.028712         50.0581   \n",
       "std        13.813476      9.835494        9.704853         16.3888   \n",
       "min        18.000000     25.000000       26.000000         14.0000   \n",
       "25%        44.000000     52.000000       58.000000         35.0000   \n",
       "50%        56.000000     58.000000       64.000000         54.0000   \n",
       "75%        64.000000     65.000000       69.000000         63.0000   \n",
       "max        94.000000     93.000000       95.000000         91.0000   \n",
       "\n",
       "       PhysicalityTotal       Overall  \n",
       "count      19260.000000  19260.000000  \n",
       "mean          64.676584     65.815628  \n",
       "std            9.626269      6.817297  \n",
       "min           29.000000     48.000000  \n",
       "25%           58.000000     62.000000  \n",
       "50%           66.000000     66.000000  \n",
       "75%           72.000000     70.000000  \n",
       "max           92.000000     93.000000  "
      ]
     },
     "execution_count": 6,
     "metadata": {},
     "output_type": "execute_result"
    }
   ],
   "source": [
    "# Check dataset - 2\n",
    "df.describe()"
   ]
  },
  {
   "cell_type": "markdown",
   "metadata": {},
   "source": [
    "statement???"
   ]
  },
  {
   "cell_type": "code",
   "execution_count": 7,
   "metadata": {},
   "outputs": [
    {
     "data": {
      "text/plain": [
       "104"
      ]
     },
     "execution_count": 7,
     "metadata": {},
     "output_type": "execute_result"
    }
   ],
   "source": [
    "# Check dataset - 3\n",
    "df.duplicated().sum()"
   ]
  },
  {
   "cell_type": "code",
   "execution_count": 8,
   "metadata": {},
   "outputs": [],
   "source": [
    "df.drop_duplicates(inplace=True)"
   ]
  },
  {
   "cell_type": "code",
   "execution_count": 9,
   "metadata": {},
   "outputs": [
    {
     "data": {
      "text/plain": [
       "0"
      ]
     },
     "execution_count": 9,
     "metadata": {},
     "output_type": "execute_result"
    }
   ],
   "source": [
    "df.duplicated().sum()"
   ]
  },
  {
   "cell_type": "markdown",
   "metadata": {},
   "source": [
    "# iv. Exploratory Data Analysis"
   ]
  },
  {
   "cell_type": "markdown",
   "metadata": {},
   "source": [
    "Objective 1: Ingin melihat persebaran rating pada dataset dan juga ingin melihat proporsi antara berat badan dan tinggi badan."
   ]
  },
  {
   "cell_type": "code",
   "execution_count": 10,
   "metadata": {},
   "outputs": [
    {
     "data": {
      "image/png": "[encoded data removed]",
      "text/plain": [
       "<Figure size 1500x500 with 2 Axes>"
      ]
     },
     "metadata": {},
     "output_type": "display_data"
    }
   ],
   "source": [
    "# Create Histogram and Scatter Plot\n",
    "\n",
    "# Create canvas\n",
    "plt.figure(figsize=(15,5))\n",
    "\n",
    "# Plot 1st visualization\n",
    "plt.subplot(1,2,1) # 1 row, 2 columns, 1st plot\n",
    "sns.histplot(df.Overall,kde=True,bins=30)\n",
    "plt.title('Histogram of Target')\n",
    "\n",
    "# Plot 2nd visualization\n",
    "plt.subplot(1,2,2)\n",
    "sns.scatterplot(x='Weight', y='Height', data=df)\n",
    "plt.title('Weight vs Height')\n",
    "\n",
    "plt.show()"
   ]
  },
  {
   "cell_type": "markdown",
   "metadata": {},
   "source": [
    "statement??\n",
    "\n",
    "visualisasi 2,3,dst  \n",
    "(min. visualisasi 5-6 biji & bikin objective + insight)\n",
    "\n",
    "objektif + insight"
   ]
  },
  {
   "cell_type": "markdown",
   "metadata": {},
   "source": [
    "# v. Data Preprocessing (Feature Engineering)"
   ]
  },
  {
   "cell_type": "markdown",
   "metadata": {},
   "source": [
    "### Split between X (Features/Variables) and y (Target/Label)"
   ]
  },
  {
   "cell_type": "code",
   "execution_count": 11,
   "metadata": {},
   "outputs": [
    {
     "name": "stdout",
     "output_type": "stream",
     "text": [
      "Index(['Name', 'Age', 'Height', 'Weight', 'ValueEUR', 'AttackingWorkRate',\n",
      "       'DefensiveWorkRate', 'PaceTotal', 'ShootingTotal', 'PassingTotal',\n",
      "       'DribblingTotal', 'DefendingTotal', 'PhysicalityTotal'],\n",
      "      dtype='object')\n",
      "0        93\n",
      "1        92\n",
      "2        91\n",
      "3        91\n",
      "4        91\n",
      "         ..\n",
      "19255    48\n",
      "19256    48\n",
      "19257    48\n",
      "19258    48\n",
      "19259    48\n",
      "Name: Overall, Length: 19156, dtype: int64\n"
     ]
    }
   ],
   "source": [
    "# Split X and y\n",
    "X = df.drop(['Overall'],axis=1) # cara1\n",
    "# X = df.drop(columns=['Overall'])# cara2\n",
    "# X =  df[['Name', 'Age', 'Height', 'Weight', 'ValueEUR', 'AttackingWorkRate', 'DefensiveWorkRate', 'PaceTotal', 'ShootingTotal', 'PassingTotal','DribblingTotal', 'DefendingTotal', 'PhysicalityTotal']] # cara3\n",
    "\n",
    "# y = df.Overall    # cara1\n",
    "y = df['Overall'] # cara2\n",
    "\n",
    "print(X.columns)\n",
    "print(y)"
   ]
  },
  {
   "cell_type": "markdown",
   "metadata": {},
   "source": [
    "### Split train set dan test set"
   ]
  },
  {
   "cell_type": "code",
   "execution_count": 12,
   "metadata": {},
   "outputs": [
    {
     "name": "stdout",
     "output_type": "stream",
     "text": [
      "Train-set: (15324, 13)\n",
      "Test-set: (3832, 13)\n"
     ]
    }
   ],
   "source": [
    "# Split train and test\n",
    "X_train, X_test, y_train, y_test = train_test_split(X, y, test_size=0.2, random_state=7) #20% of the data will be used for testing, and the rest will be used for training.\n",
    "# This parameter sets the random seed for reproducibility. If you specify a random_state, the split will be deterministic. This means that each time you run the code with the same random_state, you'll get the same split. This is useful for reproducibility and debugging. If you don't specify a random_state, the split will be different each time you run the code.\n",
    "\n",
    "print('Train-set:',X_train.shape)\n",
    "print('Test-set:',X_test.shape)"
   ]
  },
  {
   "cell_type": "markdown",
   "metadata": {},
   "source": [
    "## a. Missing value handling"
   ]
  },
  {
   "cell_type": "code",
   "execution_count": 13,
   "metadata": {},
   "outputs": [
    {
     "data": {
      "text/plain": [
       "Name                 0\n",
       "Age                  0\n",
       "Height               0\n",
       "Weight               0\n",
       "ValueEUR             0\n",
       "AttackingWorkRate    0\n",
       "DefensiveWorkRate    0\n",
       "PaceTotal            0\n",
       "ShootingTotal        0\n",
       "PassingTotal         0\n",
       "DribblingTotal       0\n",
       "DefendingTotal       0\n",
       "PhysicalityTotal     0\n",
       "dtype: int64"
      ]
     },
     "execution_count": 13,
     "metadata": {},
     "output_type": "execute_result"
    }
   ],
   "source": [
    "X_train.isnull().sum()"
   ]
  },
  {
   "cell_type": "code",
   "execution_count": 14,
   "metadata": {},
   "outputs": [
    {
     "data": {
      "text/plain": [
       "0"
      ]
     },
     "execution_count": 14,
     "metadata": {},
     "output_type": "execute_result"
    }
   ],
   "source": [
    "y_train.isnull().sum()"
   ]
  },
  {
   "cell_type": "code",
   "execution_count": 15,
   "metadata": {},
   "outputs": [
    {
     "data": {
      "text/plain": [
       "Name                 0\n",
       "Age                  0\n",
       "Height               0\n",
       "Weight               0\n",
       "ValueEUR             0\n",
       "AttackingWorkRate    0\n",
       "DefensiveWorkRate    0\n",
       "PaceTotal            0\n",
       "ShootingTotal        0\n",
       "PassingTotal         0\n",
       "DribblingTotal       0\n",
       "DefendingTotal       0\n",
       "PhysicalityTotal     0\n",
       "dtype: int64"
      ]
     },
     "execution_count": 15,
     "metadata": {},
     "output_type": "execute_result"
    }
   ],
   "source": [
    "X_test.isnull().sum()"
   ]
  },
  {
   "cell_type": "code",
   "execution_count": 16,
   "metadata": {},
   "outputs": [
    {
     "data": {
      "text/plain": [
       "0"
      ]
     },
     "execution_count": 16,
     "metadata": {},
     "output_type": "execute_result"
    }
   ],
   "source": [
    "y_test.isnull().sum()"
   ]
  },
  {
   "cell_type": "markdown",
   "metadata": {},
   "source": [
    "## b. Outlier Handling"
   ]
  },
  {
   "cell_type": "code",
   "execution_count": 17,
   "metadata": {},
   "outputs": [
    {
     "data": {
      "text/html": [
       "<div>\n",
       "<style scoped>\n",
       "    .dataframe tbody tr th:only-of-type {\n",
       "        vertical-align: middle;\n",
       "    }\n",
       "\n",
       "    .dataframe tbody tr th {\n",
       "        vertical-align: top;\n",
       "    }\n",
       "\n",
       "    .dataframe thead th {\n",
       "        text-align: right;\n",
       "    }\n",
       "</style>\n",
       "<table border=\"1\" class=\"dataframe\">\n",
       "  <thead>\n",
       "    <tr style=\"text-align: right;\">\n",
       "      <th></th>\n",
       "      <th>Name</th>\n",
       "      <th>AttackingWorkRate</th>\n",
       "      <th>DefensiveWorkRate</th>\n",
       "    </tr>\n",
       "  </thead>\n",
       "  <tbody>\n",
       "    <tr>\n",
       "      <th>0</th>\n",
       "      <td>L. Messi</td>\n",
       "      <td>Medium</td>\n",
       "      <td>Low</td>\n",
       "    </tr>\n",
       "    <tr>\n",
       "      <th>1</th>\n",
       "      <td>R. Lewandowski</td>\n",
       "      <td>High</td>\n",
       "      <td>Medium</td>\n",
       "    </tr>\n",
       "    <tr>\n",
       "      <th>2</th>\n",
       "      <td>Cristiano Ronaldo</td>\n",
       "      <td>High</td>\n",
       "      <td>Low</td>\n",
       "    </tr>\n",
       "    <tr>\n",
       "      <th>3</th>\n",
       "      <td>K. Mbappé</td>\n",
       "      <td>High</td>\n",
       "      <td>Low</td>\n",
       "    </tr>\n",
       "    <tr>\n",
       "      <th>4</th>\n",
       "      <td>J. Oblak</td>\n",
       "      <td>Medium</td>\n",
       "      <td>Medium</td>\n",
       "    </tr>\n",
       "    <tr>\n",
       "      <th>...</th>\n",
       "      <td>...</td>\n",
       "      <td>...</td>\n",
       "      <td>...</td>\n",
       "    </tr>\n",
       "    <tr>\n",
       "      <th>19255</th>\n",
       "      <td>S. Black</td>\n",
       "      <td>Medium</td>\n",
       "      <td>Medium</td>\n",
       "    </tr>\n",
       "    <tr>\n",
       "      <th>19256</th>\n",
       "      <td>Ma Zhen</td>\n",
       "      <td>Medium</td>\n",
       "      <td>Medium</td>\n",
       "    </tr>\n",
       "    <tr>\n",
       "      <th>19257</th>\n",
       "      <td>Yang Haoyu</td>\n",
       "      <td>Medium</td>\n",
       "      <td>Medium</td>\n",
       "    </tr>\n",
       "    <tr>\n",
       "      <th>19258</th>\n",
       "      <td>He Siwei</td>\n",
       "      <td>Medium</td>\n",
       "      <td>Medium</td>\n",
       "    </tr>\n",
       "    <tr>\n",
       "      <th>19259</th>\n",
       "      <td>Chen Guoliang</td>\n",
       "      <td>Medium</td>\n",
       "      <td>Medium</td>\n",
       "    </tr>\n",
       "  </tbody>\n",
       "</table>\n",
       "<p>19156 rows × 3 columns</p>\n",
       "</div>"
      ],
      "text/plain": [
       "                    Name AttackingWorkRate DefensiveWorkRate\n",
       "0               L. Messi            Medium               Low\n",
       "1         R. Lewandowski              High            Medium\n",
       "2      Cristiano Ronaldo              High               Low\n",
       "3              K. Mbappé              High               Low\n",
       "4               J. Oblak            Medium            Medium\n",
       "...                  ...               ...               ...\n",
       "19255           S. Black            Medium            Medium\n",
       "19256            Ma Zhen            Medium            Medium\n",
       "19257         Yang Haoyu            Medium            Medium\n",
       "19258           He Siwei            Medium            Medium\n",
       "19259      Chen Guoliang            Medium            Medium\n",
       "\n",
       "[19156 rows x 3 columns]"
      ]
     },
     "execution_count": 17,
     "metadata": {},
     "output_type": "execute_result"
    }
   ],
   "source": [
    "# Detect categorical colums\n",
    "X[X.select_dtypes(include=['object']).columns]"
   ]
  },
  {
   "cell_type": "code",
   "execution_count": 18,
   "metadata": {},
   "outputs": [
    {
     "name": "stdout",
     "output_type": "stream",
     "text": [
      "skewness Age: 0.445\n",
      "skewness Height: -0.031\n",
      "skewness Weight: 0.249\n",
      "skewness ValueEUR: 8.265\n",
      "skewness PaceTotal: -0.507\n",
      "skewness ShootingTotal: -0.4\n",
      "skewness PassingTotal: -0.192\n",
      "skewness DribblingTotal: -0.521\n",
      "skewness DefendingTotal: -0.257\n",
      "skewness PhysicalityTotal: -0.402\n",
      "normal distribution: ['Age', 'Height', 'Weight', 'ShootingTotal', 'PassingTotal', 'DefendingTotal', 'PhysicalityTotal'].\n",
      "skew distribution: ['PaceTotal', 'DribblingTotal'] .\n",
      "extreme skew distribution:['ValueEUR'].\n"
     ]
    }
   ],
   "source": [
    "# Create looping to check distribution numerical dataset\n",
    "\n",
    "num = X.select_dtypes(exclude=['object']).columns.tolist()\n",
    "\n",
    "# Create empty list to contain/add/fill (menyimpan) column lists\n",
    "normal = []\n",
    "skew = []\n",
    "extreme = []\n",
    "for i in num:\n",
    "    print(f'skewness {i}: {round(X_train[i].skew(),3)}')\n",
    "\n",
    "    if abs(round(X_train[i].skew(),3)) > 1: #abs itu absolute syntax python\n",
    "        extreme.append(i)\n",
    "    elif abs(round(X_train[i].skew(),3)) > 0.5:\n",
    "        skew.append(i)\n",
    "    else:\n",
    "        normal.append(i)\n",
    "\n",
    "print(f'normal distribution: {normal}.') # cara 1\n",
    "print('skew distribution:',skew, '.') # cara 2\n",
    "print(f'extreme skew distribution:{extreme}.')"
   ]
  },
  {
   "cell_type": "markdown",
   "metadata": {},
   "source": [
    "Berdasarkan hasil di atas, kolom yang terdistribusi (Manual):  \n",
    "1. Normal (-0.5 s/d 0.5): `Age, Height, Weight, ShootingTotal, PassingTotal, DefendingTotal, PhysicalityTotal`  \n",
    "2. Moderately Skew (-0.5 s/d -1 atau 0.5 s/d 1): `PaceTotal,DribblingTotal`  \n",
    "3. Extreme Skew (> 1 atau < -1) : `ValueEUR`"
   ]
  },
  {
   "cell_type": "markdown",
   "metadata": {},
   "source": [
    "### Outlier checking for each distribution type"
   ]
  },
  {
   "cell_type": "markdown",
   "metadata": {},
   "source": [
    "### Normal check"
   ]
  },
  {
   "cell_type": "code",
   "execution_count": 19,
   "metadata": {},
   "outputs": [],
   "source": [
    "# Create function for normal distributed\n",
    "def calculate_normal_outliers(df, variable):\n",
    " \n",
    "    upper_boundary = df[variable].mean() + 3 * df[variable].std()\n",
    "    lower_boundary = df[variable].mean() - 3 * df[variable].std()\n",
    "        \n",
    "    outliers = df[(df[variable] < lower_boundary) | (df[variable] > upper_boundary)]\n",
    "    outliers_percentage = len(outliers) / len(df) * 100\n",
    "    \n",
    "    # print(f'upper: {upper_boundary}')\n",
    "    # print(f'lower: {lower_boundary}')\n",
    "    print(f'Outlier {variable} : {len(outliers)}')\n",
    "    print(f'% Outlier {variable} : {round(outliers_percentage,2)}%')"
   ]
  },
  {
   "cell_type": "code",
   "execution_count": 20,
   "metadata": {},
   "outputs": [
    {
     "name": "stdout",
     "output_type": "stream",
     "text": [
      "Outlier Age : 21\n",
      "% Outlier Age : 0.14%\n",
      "\n",
      "Outlier Height : 21\n",
      "% Outlier Height : 0.14%\n",
      "\n",
      "Outlier Weight : 43\n",
      "% Outlier Weight : 0.28%\n",
      "\n",
      "Outlier ShootingTotal : 0\n",
      "% Outlier ShootingTotal : 0.0%\n",
      "\n",
      "Outlier PassingTotal : 39\n",
      "% Outlier PassingTotal : 0.25%\n",
      "\n",
      "Outlier DefendingTotal : 0\n",
      "% Outlier DefendingTotal : 0.0%\n",
      "\n",
      "Outlier PhysicalityTotal : 28\n",
      "% Outlier PhysicalityTotal : 0.18%\n",
      "\n"
     ]
    }
   ],
   "source": [
    "for i in normal:\n",
    "    calculate_normal_outliers(X_train,i)\n",
    "    print('')"
   ]
  },
  {
   "cell_type": "markdown",
   "metadata": {},
   "source": [
    "Karena semuanya di bawah 5%, jadi di trimming(drop) saja."
   ]
  },
  {
   "cell_type": "code",
   "execution_count": 21,
   "metadata": {},
   "outputs": [
    {
     "data": {
      "text/plain": [
       "15172"
      ]
     },
     "execution_count": 21,
     "metadata": {},
     "output_type": "execute_result"
    }
   ],
   "source": [
    "# Check current data shape\n",
    "21 + 21 + 43 + 39 + 28 \n",
    "X_train.shape[0] - 152"
   ]
  },
  {
   "cell_type": "markdown",
   "metadata": {},
   "source": [
    "### Skew & Extreme check"
   ]
  },
  {
   "cell_type": "code",
   "execution_count": 22,
   "metadata": {},
   "outputs": [],
   "source": [
    "# Create function for skew distributed\n",
    "def calculate_skewed_outliers(df, variable, distance):\n",
    "    IQR = df[variable].quantile(0.75) - df[variable].quantile(0.25)\n",
    "    lower_boundary = df[variable].quantile(0.25) - (IQR * distance)\n",
    "    upper_boundary = df[variable].quantile(0.75) + (IQR * distance)\n",
    "\n",
    "    outliers = df[(df[variable] < lower_boundary) | (df[variable] > upper_boundary)]\n",
    "    outliers_percentage = len(outliers) / len(df) * 100\n",
    "    \n",
    "    # print(f'upper: {upper_boundary}')\n",
    "    # print(f'lower: {lower_boundary}')\n",
    "    print(f'Outlier {variable} : {len(outliers)}')\n",
    "    print(f'% Outlier {variable} : {round(outliers_percentage,2)}%')"
   ]
  },
  {
   "cell_type": "markdown",
   "metadata": {},
   "source": [
    "#### Skew"
   ]
  },
  {
   "cell_type": "code",
   "execution_count": 23,
   "metadata": {},
   "outputs": [
    {
     "name": "stdout",
     "output_type": "stream",
     "text": [
      "Outlier PaceTotal : 358\n",
      "% Outlier PaceTotal : 2.34%\n",
      "\n",
      "Outlier DribblingTotal : 560\n",
      "% Outlier DribblingTotal : 3.65%\n",
      "\n"
     ]
    }
   ],
   "source": [
    "# using loop to call function\n",
    "for i in skew:\n",
    "    calculate_skewed_outliers(X_train,i,1.5)\n",
    "    print('')"
   ]
  },
  {
   "cell_type": "code",
   "execution_count": 24,
   "metadata": {},
   "outputs": [
    {
     "data": {
      "text/plain": [
       "<Axes: ylabel='Frequency'>"
      ]
     },
     "execution_count": 24,
     "metadata": {},
     "output_type": "execute_result"
    },
    {
     "data": {
      "image/png": "[encoded data removed]",
      "text/plain": [
       "<Figure size 640x480 with 1 Axes>"
      ]
     },
     "metadata": {},
     "output_type": "display_data"
    }
   ],
   "source": [
    "# Visualisasi sederhana \n",
    "X_train.PaceTotal.plot(kind='hist')"
   ]
  },
  {
   "cell_type": "code",
   "execution_count": 25,
   "metadata": {},
   "outputs": [
    {
     "data": {
      "text/plain": [
       "<Axes: >"
      ]
     },
     "execution_count": 25,
     "metadata": {},
     "output_type": "execute_result"
    },
    {
     "data": {
      "image/png": "[encoded data removed]",
      "text/plain": [
       "<Figure size 640x480 with 1 Axes>"
      ]
     },
     "metadata": {},
     "output_type": "display_data"
    }
   ],
   "source": [
    "# Visualisasi sederhana\n",
    "X_train.DribblingTotal.plot(kind='box')"
   ]
  },
  {
   "cell_type": "markdown",
   "metadata": {},
   "source": [
    "Karena outliers untuk features `PaceTotal` dan `DribblingTotal` di bawah 5%, handling nya akan menggunakan metode trimming."
   ]
  },
  {
   "cell_type": "markdown",
   "metadata": {},
   "source": [
    "#### Extreme skew"
   ]
  },
  {
   "cell_type": "code",
   "execution_count": 26,
   "metadata": {},
   "outputs": [
    {
     "name": "stdout",
     "output_type": "stream",
     "text": [
      "Outlier ValueEUR : 1211\n",
      "% Outlier ValueEUR : 7.9%\n",
      "\n"
     ]
    }
   ],
   "source": [
    "# Using loop to calling function\n",
    "for i in extreme:\n",
    "    calculate_skewed_outliers(X_train,i,3)\n",
    "    print('')"
   ]
  },
  {
   "cell_type": "markdown",
   "metadata": {},
   "source": [
    "Karena outliernya >5%, outliers akan dihandling menggunakan metode capping dengan bantuan library `winsorizer` dari `feature-engine`."
   ]
  },
  {
   "cell_type": "markdown",
   "metadata": {},
   "source": [
    "### Handling with trimming method"
   ]
  },
  {
   "cell_type": "code",
   "execution_count": 27,
   "metadata": {},
   "outputs": [],
   "source": [
    "Trim_normal_features_list = ['Age',\n",
    " 'Height',\n",
    " 'Weight',\n",
    " 'ShootingTotal',\n",
    " 'PassingTotal',\n",
    " 'DefendingTotal',\n",
    " 'PhysicalityTotal'] \n",
    "Trim_skew_features_list = ['PaceTotal', 'DribblingTotal']"
   ]
  },
  {
   "cell_type": "code",
   "execution_count": 28,
   "metadata": {},
   "outputs": [],
   "source": [
    "def drop_normal_outliers(df, variable):\n",
    "    upper_boundary = df[variable].mean() + 3 * df[variable].std()\n",
    "    lower_boundary = df[variable].mean() - 3 * df[variable].std()\n",
    "    df.drop(df[(df[variable] < lower_boundary) | (df[variable] > upper_boundary)].index, inplace=True)\n",
    "      \n",
    "def drop_skew_outliers(df, variable,distance):\n",
    "    IQR = df[variable].quantile(0.75) - df[variable].quantile(0.25)\n",
    "    lower_boundary = df[variable].quantile(0.25) - (IQR * distance)\n",
    "    upper_boundary = df[variable].quantile(0.75) + (IQR * distance)\n",
    "    df.drop(df[(df[variable] < lower_boundary) | (df[variable] > upper_boundary)].index,inplace=True)"
   ]
  },
  {
   "cell_type": "code",
   "execution_count": 29,
   "metadata": {},
   "outputs": [
    {
     "name": "stdout",
     "output_type": "stream",
     "text": [
      "Before trim: (15173, 13)\n"
     ]
    }
   ],
   "source": [
    "for i in Trim_normal_features_list:\n",
    "    drop_normal_outliers(X_train,i)\n",
    "\n",
    "print(f'Before trim: {X_train.shape}') "
   ]
  },
  {
   "cell_type": "code",
   "execution_count": 30,
   "metadata": {},
   "outputs": [
    {
     "name": "stdout",
     "output_type": "stream",
     "text": [
      "Before trim: (14344, 13)\n"
     ]
    }
   ],
   "source": [
    "for i in Trim_skew_features_list:\n",
    "    drop_skew_outliers(X_train,i,1.5)\n",
    "\n",
    "print(f'Before trim: {X_train.shape}') "
   ]
  },
  {
   "cell_type": "code",
   "execution_count": 31,
   "metadata": {},
   "outputs": [],
   "source": [
    "y_train = y_train.loc[X_train.index]"
   ]
  },
  {
   "cell_type": "markdown",
   "metadata": {},
   "source": [
    "do a visualization for before n after"
   ]
  },
  {
   "cell_type": "markdown",
   "metadata": {},
   "source": [
    "### Handling with capping method (winsorizer)"
   ]
  },
  {
   "cell_type": "code",
   "execution_count": 32,
   "metadata": {},
   "outputs": [],
   "source": [
    "# Capping for `ValueEUR` feature\n",
    "\n",
    "winsoriser_value = Winsorizer(capping_method='iqr',\n",
    "                             tail='both',\n",
    "                             fold=3,\n",
    "                             variables=['ValueEUR'])\n",
    "\n",
    "X_train_capped = winsoriser_value.fit_transform(X_train)"
   ]
  },
  {
   "cell_type": "markdown",
   "metadata": {},
   "source": [
    "## c.Feature Selection"
   ]
  },
  {
   "cell_type": "code",
   "execution_count": 33,
   "metadata": {},
   "outputs": [
    {
     "data": {
      "text/plain": [
       "Index(['Name', 'Age', 'Height', 'Weight', 'ValueEUR', 'AttackingWorkRate',\n",
       "       'DefensiveWorkRate', 'PaceTotal', 'ShootingTotal', 'PassingTotal',\n",
       "       'DribblingTotal', 'DefendingTotal', 'PhysicalityTotal', 'Overall'],\n",
       "      dtype='object')"
      ]
     },
     "execution_count": 33,
     "metadata": {},
     "output_type": "execute_result"
    }
   ],
   "source": [
    "# Concat features and target to check correlation\n",
    "corr = pd.concat([X_train,y_train],axis=1)\n",
    "corr.columns"
   ]
  },
  {
   "cell_type": "code",
   "execution_count": 34,
   "metadata": {},
   "outputs": [
    {
     "name": "stdout",
     "output_type": "stream",
     "text": [
      "interval columns not set, guessing: ['Age', 'Height', 'Weight', 'ValueEUR', 'PaceTotal', 'ShootingTotal', 'PassingTotal', 'DribblingTotal', 'DefendingTotal', 'PhysicalityTotal', 'Overall']\n"
     ]
    },
    {
     "data": {
      "text/plain": [
       "Name                 0.505639\n",
       "Age                  0.532273\n",
       "Height               0.071168\n",
       "Weight               0.189877\n",
       "ValueEUR             0.875903\n",
       "AttackingWorkRate    0.215482\n",
       "DefensiveWorkRate    0.217200\n",
       "PaceTotal            0.355032\n",
       "ShootingTotal        0.740597\n",
       "PassingTotal         0.745940\n",
       "DribblingTotal       0.785315\n",
       "DefendingTotal       0.717020\n",
       "PhysicalityTotal     0.627183\n",
       "Overall              1.000000\n",
       "Name: Overall, dtype: float64"
      ]
     },
     "execution_count": 34,
     "metadata": {},
     "output_type": "execute_result"
    }
   ],
   "source": [
    "# Check correlation\n",
    "corr.phik_matrix()['Overall']"
   ]
  },
  {
   "cell_type": "markdown",
   "metadata": {},
   "source": [
    "Drop features yang < 5 = ['Name','Height','Weight','PaceTotal'] .  \n",
    "Khusus ['AttackingWorkRate','DefensiveWorkRate'] tidak di drop karena supaya belajar untuk coba encode categorical column."
   ]
  },
  {
   "cell_type": "code",
   "execution_count": null,
   "metadata": {},
   "outputs": [],
   "source": [
    "# Drop unnecessary columns in X_train\n",
    "X_train.drop(['Name','Height','Weight','PaceTotal'], axis=1, inplace=True)\n",
    "\n",
    "# Drop unnecessary columns in X_test\n",
    "X_test.drop(['Name','Height','Weight','PaceTotal'], axis=1, inplace=True)"
   ]
  },
  {
   "cell_type": "code",
   "execution_count": null,
   "metadata": {},
   "outputs": [
    {
     "data": {
      "text/plain": [
       "Index(['Age', 'ValueEUR', 'AttackingWorkRate', 'DefensiveWorkRate',\n",
       "       'ShootingTotal', 'PassingTotal', 'DribblingTotal', 'DefendingTotal',\n",
       "       'PhysicalityTotal'],\n",
       "      dtype='object')"
      ]
     },
     "execution_count": 44,
     "metadata": {},
     "output_type": "execute_result"
    }
   ],
   "source": [
    "X_train.columns"
   ]
  },
  {
   "cell_type": "markdown",
   "metadata": {},
   "source": [
    "## d. Split Numerical and Categorical Columns"
   ]
  },
  {
   "cell_type": "code",
   "execution_count": null,
   "metadata": {},
   "outputs": [
    {
     "name": "stdout",
     "output_type": "stream",
     "text": [
      "['Age', 'ShootingTotal', 'PassingTotal', 'DribblingTotal', 'DefendingTotal', 'PhysicalityTotal']\n",
      "['ValueEUR']\n",
      "['AttackingWorkRate', 'DefensiveWorkRate']\n"
     ]
    }
   ],
   "source": [
    "num_col_std = ['Age', 'ShootingTotal', 'PassingTotal', 'DribblingTotal', 'DefendingTotal', 'PhysicalityTotal']\n",
    "num_col_rbs = ['ValueEUR']\n",
    "cat_col = X_train.select_dtypes(include=['object']).columns.tolist() # cara 1\n",
    "# cat_col = ['AttackingWorkRate', 'DefensiveWorkRate'] # cara 2\n",
    "\n",
    "print(num_col_std)\n",
    "print(num_col_rbs)\n",
    "print(cat_col)"
   ]
  },
  {
   "cell_type": "code",
   "execution_count": null,
   "metadata": {},
   "outputs": [],
   "source": [
    "num_col = num_col_std + num_col_rbs"
   ]
  },
  {
   "cell_type": "markdown",
   "metadata": {},
   "source": [
    "## e. Cardinality Check"
   ]
  },
  {
   "cell_type": "code",
   "execution_count": null,
   "metadata": {},
   "outputs": [
    {
     "name": "stdout",
     "output_type": "stream",
     "text": [
      "AttackingWorkRate : 3\n",
      "DefensiveWorkRate : 3\n"
     ]
    }
   ],
   "source": [
    "# Countin unique value for each categorical columns\n",
    "for i in cat_col:\n",
    "    print(f'{i} : {X_train[i].nunique()}')"
   ]
  },
  {
   "cell_type": "markdown",
   "metadata": {},
   "source": [
    "Dari hasil di atas, terdapat 3 untuk setiap cat col, bisa di simpulkan dataset ini low cardinality dan tidak perlu handling/reduce cardinality."
   ]
  },
  {
   "cell_type": "markdown",
   "metadata": {},
   "source": [
    "PS: High cardinality itu biasanya jika terdapat nunique yang >11."
   ]
  },
  {
   "cell_type": "markdown",
   "metadata": {},
   "source": [
    "## f. Feature Scaling"
   ]
  },
  {
   "cell_type": "code",
   "execution_count": null,
   "metadata": {},
   "outputs": [
    {
     "name": "stdout",
     "output_type": "stream",
     "text": [
      "normal distribution: ['Age', 'ShootingTotal', 'PassingTotal', 'DribblingTotal', 'DefendingTotal', 'PhysicalityTotal'].\n",
      "skew distribution: [] .\n",
      "extreme skew distribution:['ValueEUR'].\n"
     ]
    }
   ],
   "source": [
    "# Create empty list to contain/add/fill (menyimpan) column lists\n",
    "normal = []\n",
    "skew = []\n",
    "extreme = []\n",
    "for i in num_col:\n",
    "    # print(f'skewness {i}: {round(X_train[i].skew(),3)}')\n",
    "\n",
    "    if abs(round(X_train[i].skew(),3)) > 1: #abs itu absolute syntax python\n",
    "        extreme.append(i)\n",
    "    elif abs(round(X_train[i].skew(),3)) > 0.5:\n",
    "        skew.append(i)\n",
    "    else:\n",
    "        normal.append(i)\n",
    "\n",
    "print(f'normal distribution: {normal}.') # cara 1\n",
    "print('skew distribution:',skew, '.') # cara 2\n",
    "print(f'extreme skew distribution:{extreme}.')"
   ]
  },
  {
   "cell_type": "code",
   "execution_count": null,
   "metadata": {},
   "outputs": [],
   "source": [
    "# Define X_train_num\n",
    "X_train_num_std = X_train[num_col_std]\n",
    "X_test_num_std = X_test[num_col_std]\n",
    "\n",
    "X_train_num_rbs = X_train[num_col_rbs]\n",
    "X_test_num_rbs = X_test[num_col_rbs]\n",
    "\n",
    "# Define scaling method\n",
    "std_scaler = StandardScaler()\n",
    "rbs_scaler = RobustScaler()\n",
    "\n",
    "# Standard Scaler\n",
    "std_scaler.fit(X_train_num_std) # .fit hanya untuk X_train\n",
    "\n",
    "X_train_num_std_scaled = std_scaler.transform(X_train_num_std)\n",
    "X_test_num_std_scaled = std_scaler.transform(X_test_num_std)\n",
    "\n",
    "# Robust Scaler\n",
    "rbs_scaler.fit(X_train_num_rbs) # .fit hanya untuk X_train\n",
    "\n",
    "X_train_num_rbs_scaled = rbs_scaler.transform(X_train_num_rbs)\n",
    "X_test_num_rbs_scaled = rbs_scaler.transform(X_test_num_rbs)"
   ]
  },
  {
   "cell_type": "markdown",
   "metadata": {},
   "source": [
    "## g. Feature Encoding\n"
   ]
  },
  {
   "cell_type": "markdown",
   "metadata": {},
   "source": [
    "pakai ordinal karena data nya ordinal"
   ]
  },
  {
   "cell_type": "code",
   "execution_count": null,
   "metadata": {},
   "outputs": [],
   "source": [
    "# Define X_train_cat\n",
    "X_train_cat = X_train[cat_col]\n",
    "X_test_cat = X_test[cat_col]\n",
    "\n",
    "# Define encoding method\n",
    "encoder = OrdinalEncoder(categories=[['Low','Medium','High'],\n",
    "                                     ['Low','Medium','High']])\n",
    "\n",
    "# .fit_transform -> train set & .transform -> test set\n",
    "X_train_cat_encoded = encoder.fit_transform(X_train_cat)\n",
    "X_test_cat_encoded = encoder.transform(X_test_cat)"
   ]
  },
  {
   "cell_type": "markdown",
   "metadata": {},
   "source": [
    "## h. Concat"
   ]
  },
  {
   "cell_type": "code",
   "execution_count": null,
   "metadata": {},
   "outputs": [
    {
     "data": {
      "text/plain": [
       "array([[-0.87940084, -1.33306915, -1.26306049, ..., -0.296875  ,\n",
       "         1.        ,  1.        ],\n",
       "       [-0.22364409,  0.28177828,  0.17821037, ..., -0.078125  ,\n",
       "         1.        ,  1.        ],\n",
       "       [ 1.52504058,  0.20488078, -0.81959253, ..., -0.5625    ,\n",
       "         1.        ,  1.        ],\n",
       "       ...,\n",
       "       [ 0.21352708,  0.89695825,  1.17601327, ...,  0.4375    ,\n",
       "         1.        ,  1.        ],\n",
       "       [-0.44222967,  0.51247076,  0.28907736, ...,  0.25      ,\n",
       "         1.        ,  1.        ],\n",
       "       [ 1.74362616,  0.05108579, -0.26525758, ..., -0.58125   ,\n",
       "         1.        ,  1.        ]])"
      ]
     },
     "execution_count": 52,
     "metadata": {},
     "output_type": "execute_result"
    }
   ],
   "source": [
    "# concat all X_train and X_test\n",
    "X_train_final = np.concatenate([X_train_num_std_scaled,X_train_num_rbs_scaled,X_train_cat_encoded],axis=1)\n",
    "X_test_final = np.concatenate([X_test_num_std_scaled,X_test_num_rbs_scaled,X_test_cat_encoded],axis=1)\n",
    "X_train_final"
   ]
  },
  {
   "cell_type": "code",
   "execution_count": null,
   "metadata": {},
   "outputs": [
    {
     "data": {
      "text/html": [
       "<div>\n",
       "<style scoped>\n",
       "    .dataframe tbody tr th:only-of-type {\n",
       "        vertical-align: middle;\n",
       "    }\n",
       "\n",
       "    .dataframe tbody tr th {\n",
       "        vertical-align: top;\n",
       "    }\n",
       "\n",
       "    .dataframe thead th {\n",
       "        text-align: right;\n",
       "    }\n",
       "</style>\n",
       "<table border=\"1\" class=\"dataframe\">\n",
       "  <thead>\n",
       "    <tr style=\"text-align: right;\">\n",
       "      <th></th>\n",
       "      <th>0</th>\n",
       "      <th>1</th>\n",
       "      <th>2</th>\n",
       "      <th>3</th>\n",
       "      <th>4</th>\n",
       "      <th>5</th>\n",
       "      <th>6</th>\n",
       "      <th>7</th>\n",
       "      <th>8</th>\n",
       "    </tr>\n",
       "  </thead>\n",
       "  <tbody>\n",
       "    <tr>\n",
       "      <th>0</th>\n",
       "      <td>-0.879401</td>\n",
       "      <td>-1.333069</td>\n",
       "      <td>-1.263060</td>\n",
       "      <td>-0.828334</td>\n",
       "      <td>0.516329</td>\n",
       "      <td>-0.677587</td>\n",
       "      <td>-0.296875</td>\n",
       "      <td>1.0</td>\n",
       "      <td>1.0</td>\n",
       "    </tr>\n",
       "    <tr>\n",
       "      <th>1</th>\n",
       "      <td>-0.223644</td>\n",
       "      <td>0.281778</td>\n",
       "      <td>0.178210</td>\n",
       "      <td>0.493708</td>\n",
       "      <td>0.273342</td>\n",
       "      <td>-0.048519</td>\n",
       "      <td>-0.078125</td>\n",
       "      <td>1.0</td>\n",
       "      <td>1.0</td>\n",
       "    </tr>\n",
       "    <tr>\n",
       "      <th>2</th>\n",
       "      <td>1.525041</td>\n",
       "      <td>0.204881</td>\n",
       "      <td>-0.819593</td>\n",
       "      <td>-0.587962</td>\n",
       "      <td>-0.273380</td>\n",
       "      <td>-0.887276</td>\n",
       "      <td>-0.562500</td>\n",
       "      <td>1.0</td>\n",
       "      <td>1.0</td>\n",
       "    </tr>\n",
       "    <tr>\n",
       "      <th>3</th>\n",
       "      <td>-1.097986</td>\n",
       "      <td>-2.178942</td>\n",
       "      <td>-2.149996</td>\n",
       "      <td>-2.631118</td>\n",
       "      <td>0.637823</td>\n",
       "      <td>-0.258208</td>\n",
       "      <td>-0.312500</td>\n",
       "      <td>1.0</td>\n",
       "      <td>1.0</td>\n",
       "    </tr>\n",
       "    <tr>\n",
       "      <th>4</th>\n",
       "      <td>0.869284</td>\n",
       "      <td>0.666266</td>\n",
       "      <td>1.397747</td>\n",
       "      <td>1.094636</td>\n",
       "      <td>1.852760</td>\n",
       "      <td>2.258063</td>\n",
       "      <td>13.125000</td>\n",
       "      <td>1.0</td>\n",
       "      <td>2.0</td>\n",
       "    </tr>\n",
       "    <tr>\n",
       "      <th>...</th>\n",
       "      <td>...</td>\n",
       "      <td>...</td>\n",
       "      <td>...</td>\n",
       "      <td>...</td>\n",
       "      <td>...</td>\n",
       "      <td>...</td>\n",
       "      <td>...</td>\n",
       "      <td>...</td>\n",
       "      <td>...</td>\n",
       "    </tr>\n",
       "    <tr>\n",
       "      <th>14298</th>\n",
       "      <td>1.962212</td>\n",
       "      <td>0.666266</td>\n",
       "      <td>-0.154391</td>\n",
       "      <td>-0.227406</td>\n",
       "      <td>-1.245329</td>\n",
       "      <td>0.056326</td>\n",
       "      <td>-0.506250</td>\n",
       "      <td>2.0</td>\n",
       "      <td>1.0</td>\n",
       "    </tr>\n",
       "    <tr>\n",
       "      <th>14299</th>\n",
       "      <td>1.306455</td>\n",
       "      <td>1.896626</td>\n",
       "      <td>1.952082</td>\n",
       "      <td>1.815750</td>\n",
       "      <td>-0.880848</td>\n",
       "      <td>-0.467898</td>\n",
       "      <td>5.000000</td>\n",
       "      <td>1.0</td>\n",
       "      <td>0.0</td>\n",
       "    </tr>\n",
       "    <tr>\n",
       "      <th>14300</th>\n",
       "      <td>0.213527</td>\n",
       "      <td>0.896958</td>\n",
       "      <td>1.176013</td>\n",
       "      <td>0.734079</td>\n",
       "      <td>0.516329</td>\n",
       "      <td>0.580549</td>\n",
       "      <td>0.437500</td>\n",
       "      <td>1.0</td>\n",
       "      <td>1.0</td>\n",
       "    </tr>\n",
       "    <tr>\n",
       "      <th>14301</th>\n",
       "      <td>-0.442230</td>\n",
       "      <td>0.512471</td>\n",
       "      <td>0.289077</td>\n",
       "      <td>0.613894</td>\n",
       "      <td>-2.035038</td>\n",
       "      <td>-0.153364</td>\n",
       "      <td>0.250000</td>\n",
       "      <td>1.0</td>\n",
       "      <td>1.0</td>\n",
       "    </tr>\n",
       "    <tr>\n",
       "      <th>14302</th>\n",
       "      <td>1.743626</td>\n",
       "      <td>0.051086</td>\n",
       "      <td>-0.265258</td>\n",
       "      <td>-0.948519</td>\n",
       "      <td>-0.455620</td>\n",
       "      <td>-0.887276</td>\n",
       "      <td>-0.581250</td>\n",
       "      <td>1.0</td>\n",
       "      <td>1.0</td>\n",
       "    </tr>\n",
       "  </tbody>\n",
       "</table>\n",
       "<p>14303 rows × 9 columns</p>\n",
       "</div>"
      ],
      "text/plain": [
       "              0         1         2         3         4         5          6  \\\n",
       "0     -0.879401 -1.333069 -1.263060 -0.828334  0.516329 -0.677587  -0.296875   \n",
       "1     -0.223644  0.281778  0.178210  0.493708  0.273342 -0.048519  -0.078125   \n",
       "2      1.525041  0.204881 -0.819593 -0.587962 -0.273380 -0.887276  -0.562500   \n",
       "3     -1.097986 -2.178942 -2.149996 -2.631118  0.637823 -0.258208  -0.312500   \n",
       "4      0.869284  0.666266  1.397747  1.094636  1.852760  2.258063  13.125000   \n",
       "...         ...       ...       ...       ...       ...       ...        ...   \n",
       "14298  1.962212  0.666266 -0.154391 -0.227406 -1.245329  0.056326  -0.506250   \n",
       "14299  1.306455  1.896626  1.952082  1.815750 -0.880848 -0.467898   5.000000   \n",
       "14300  0.213527  0.896958  1.176013  0.734079  0.516329  0.580549   0.437500   \n",
       "14301 -0.442230  0.512471  0.289077  0.613894 -2.035038 -0.153364   0.250000   \n",
       "14302  1.743626  0.051086 -0.265258 -0.948519 -0.455620 -0.887276  -0.581250   \n",
       "\n",
       "         7    8  \n",
       "0      1.0  1.0  \n",
       "1      1.0  1.0  \n",
       "2      1.0  1.0  \n",
       "3      1.0  1.0  \n",
       "4      1.0  2.0  \n",
       "...    ...  ...  \n",
       "14298  2.0  1.0  \n",
       "14299  1.0  0.0  \n",
       "14300  1.0  1.0  \n",
       "14301  1.0  1.0  \n",
       "14302  1.0  1.0  \n",
       "\n",
       "[14303 rows x 9 columns]"
      ]
     },
     "execution_count": 53,
     "metadata": {},
     "output_type": "execute_result"
    }
   ],
   "source": [
    "# (opsional) di rubah dalam bentuk dataframe\n",
    "X_train_final_df = pd.DataFrame(X_train_final)\n",
    "X_train_final_df"
   ]
  },
  {
   "cell_type": "markdown",
   "metadata": {},
   "source": [
    "# vi. Model Definition"
   ]
  },
  {
   "cell_type": "markdown",
   "metadata": {},
   "source": [
    "Notes:  \n",
    "1. Algoritma/Model yang digunakan : [contoh] `LinearRegression`.\n",
    "   - Alasan? kelebihan kelemahan, datanya, cocok karena feature nya...\n",
    "2. Metrics yang digunakan : [contoh] `MAE` (Mean Absolute Error)\n",
    "   - Alasan"
   ]
  },
  {
   "cell_type": "code",
   "execution_count": null,
   "metadata": {},
   "outputs": [],
   "source": [
    "# Define the model\n",
    "model_lin = LinearRegression()"
   ]
  },
  {
   "cell_type": "markdown",
   "metadata": {},
   "source": [
    "# vii. Model Training"
   ]
  },
  {
   "cell_type": "code",
   "execution_count": null,
   "metadata": {},
   "outputs": [
    {
     "data": {
      "text/html": [
       "<style>#sk-container-id-1 {\n",
       "  /* Definition of color scheme common for light and dark mode */\n",
       "  --sklearn-color-text: black;\n",
       "  --sklearn-color-line: gray;\n",
       "  /* Definition of color scheme for unfitted estimators */\n",
       "  --sklearn-color-unfitted-level-0: #fff5e6;\n",
       "  --sklearn-color-unfitted-level-1: #f6e4d2;\n",
       "  --sklearn-color-unfitted-level-2: #ffe0b3;\n",
       "  --sklearn-color-unfitted-level-3: chocolate;\n",
       "  /* Definition of color scheme for fitted estimators */\n",
       "  --sklearn-color-fitted-level-0: #f0f8ff;\n",
       "  --sklearn-color-fitted-level-1: #d4ebff;\n",
       "  --sklearn-color-fitted-level-2: #b3dbfd;\n",
       "  --sklearn-color-fitted-level-3: cornflowerblue;\n",
       "\n",
       "  /* Specific color for light theme */\n",
       "  --sklearn-color-text-on-default-background: var(--sg-text-color, var(--theme-code-foreground, var(--jp-content-font-color1, black)));\n",
       "  --sklearn-color-background: var(--sg-background-color, var(--theme-background, var(--jp-layout-color0, white)));\n",
       "  --sklearn-color-border-box: var(--sg-text-color, var(--theme-code-foreground, var(--jp-content-font-color1, black)));\n",
       "  --sklearn-color-icon: #696969;\n",
       "\n",
       "  @media (prefers-color-scheme: dark) {\n",
       "    /* Redefinition of color scheme for dark theme */\n",
       "    --sklearn-color-text-on-default-background: var(--sg-text-color, var(--theme-code-foreground, var(--jp-content-font-color1, white)));\n",
       "    --sklearn-color-background: var(--sg-background-color, var(--theme-background, var(--jp-layout-color0, #111)));\n",
       "    --sklearn-color-border-box: var(--sg-text-color, var(--theme-code-foreground, var(--jp-content-font-color1, white)));\n",
       "    --sklearn-color-icon: #878787;\n",
       "  }\n",
       "}\n",
       "\n",
       "#sk-container-id-1 {\n",
       "  color: var(--sklearn-color-text);\n",
       "}\n",
       "\n",
       "#sk-container-id-1 pre {\n",
       "  padding: 0;\n",
       "}\n",
       "\n",
       "#sk-container-id-1 input.sk-hidden--visually {\n",
       "  border: 0;\n",
       "  clip: rect(1px 1px 1px 1px);\n",
       "  clip: rect(1px, 1px, 1px, 1px);\n",
       "  height: 1px;\n",
       "  margin: -1px;\n",
       "  overflow: hidden;\n",
       "  padding: 0;\n",
       "  position: absolute;\n",
       "  width: 1px;\n",
       "}\n",
       "\n",
       "#sk-container-id-1 div.sk-dashed-wrapped {\n",
       "  border: 1px dashed var(--sklearn-color-line);\n",
       "  margin: 0 0.4em 0.5em 0.4em;\n",
       "  box-sizing: border-box;\n",
       "  padding-bottom: 0.4em;\n",
       "  background-color: var(--sklearn-color-background);\n",
       "}\n",
       "\n",
       "#sk-container-id-1 div.sk-container {\n",
       "  /* jupyter's `normalize.less` sets `[hidden] { display: none; }`\n",
       "     but bootstrap.min.css set `[hidden] { display: none !important; }`\n",
       "     so we also need the `!important` here to be able to override the\n",
       "     default hidden behavior on the sphinx rendered scikit-learn.org.\n",
       "     See: https://github.com/scikit-learn/scikit-learn/issues/21755 */\n",
       "  display: inline-block !important;\n",
       "  position: relative;\n",
       "}\n",
       "\n",
       "#sk-container-id-1 div.sk-text-repr-fallback {\n",
       "  display: none;\n",
       "}\n",
       "\n",
       "div.sk-parallel-item,\n",
       "div.sk-serial,\n",
       "div.sk-item {\n",
       "  /* draw centered vertical line to link estimators */\n",
       "  background-image: linear-gradient(var(--sklearn-color-text-on-default-background), var(--sklearn-color-text-on-default-background));\n",
       "  background-size: 2px 100%;\n",
       "  background-repeat: no-repeat;\n",
       "  background-position: center center;\n",
       "}\n",
       "\n",
       "/* Parallel-specific style estimator block */\n",
       "\n",
       "#sk-container-id-1 div.sk-parallel-item::after {\n",
       "  content: \"\";\n",
       "  width: 100%;\n",
       "  border-bottom: 2px solid var(--sklearn-color-text-on-default-background);\n",
       "  flex-grow: 1;\n",
       "}\n",
       "\n",
       "#sk-container-id-1 div.sk-parallel {\n",
       "  display: flex;\n",
       "  align-items: stretch;\n",
       "  justify-content: center;\n",
       "  background-color: var(--sklearn-color-background);\n",
       "  position: relative;\n",
       "}\n",
       "\n",
       "#sk-container-id-1 div.sk-parallel-item {\n",
       "  display: flex;\n",
       "  flex-direction: column;\n",
       "}\n",
       "\n",
       "#sk-container-id-1 div.sk-parallel-item:first-child::after {\n",
       "  align-self: flex-end;\n",
       "  width: 50%;\n",
       "}\n",
       "\n",
       "#sk-container-id-1 div.sk-parallel-item:last-child::after {\n",
       "  align-self: flex-start;\n",
       "  width: 50%;\n",
       "}\n",
       "\n",
       "#sk-container-id-1 div.sk-parallel-item:only-child::after {\n",
       "  width: 0;\n",
       "}\n",
       "\n",
       "/* Serial-specific style estimator block */\n",
       "\n",
       "#sk-container-id-1 div.sk-serial {\n",
       "  display: flex;\n",
       "  flex-direction: column;\n",
       "  align-items: center;\n",
       "  background-color: var(--sklearn-color-background);\n",
       "  padding-right: 1em;\n",
       "  padding-left: 1em;\n",
       "}\n",
       "\n",
       "\n",
       "/* Toggleable style: style used for estimator/Pipeline/ColumnTransformer box that is\n",
       "clickable and can be expanded/collapsed.\n",
       "- Pipeline and ColumnTransformer use this feature and define the default style\n",
       "- Estimators will overwrite some part of the style using the `sk-estimator` class\n",
       "*/\n",
       "\n",
       "/* Pipeline and ColumnTransformer style (default) */\n",
       "\n",
       "#sk-container-id-1 div.sk-toggleable {\n",
       "  /* Default theme specific background. It is overwritten whether we have a\n",
       "  specific estimator or a Pipeline/ColumnTransformer */\n",
       "  background-color: var(--sklearn-color-background);\n",
       "}\n",
       "\n",
       "/* Toggleable label */\n",
       "#sk-container-id-1 label.sk-toggleable__label {\n",
       "  cursor: pointer;\n",
       "  display: block;\n",
       "  width: 100%;\n",
       "  margin-bottom: 0;\n",
       "  padding: 0.5em;\n",
       "  box-sizing: border-box;\n",
       "  text-align: center;\n",
       "}\n",
       "\n",
       "#sk-container-id-1 label.sk-toggleable__label-arrow:before {\n",
       "  /* Arrow on the left of the label */\n",
       "  content: \"▸\";\n",
       "  float: left;\n",
       "  margin-right: 0.25em;\n",
       "  color: var(--sklearn-color-icon);\n",
       "}\n",
       "\n",
       "#sk-container-id-1 label.sk-toggleable__label-arrow:hover:before {\n",
       "  color: var(--sklearn-color-text);\n",
       "}\n",
       "\n",
       "/* Toggleable content - dropdown */\n",
       "\n",
       "#sk-container-id-1 div.sk-toggleable__content {\n",
       "  max-height: 0;\n",
       "  max-width: 0;\n",
       "  overflow: hidden;\n",
       "  text-align: left;\n",
       "  /* unfitted */\n",
       "  background-color: var(--sklearn-color-unfitted-level-0);\n",
       "}\n",
       "\n",
       "#sk-container-id-1 div.sk-toggleable__content.fitted {\n",
       "  /* fitted */\n",
       "  background-color: var(--sklearn-color-fitted-level-0);\n",
       "}\n",
       "\n",
       "#sk-container-id-1 div.sk-toggleable__content pre {\n",
       "  margin: 0.2em;\n",
       "  border-radius: 0.25em;\n",
       "  color: var(--sklearn-color-text);\n",
       "  /* unfitted */\n",
       "  background-color: var(--sklearn-color-unfitted-level-0);\n",
       "}\n",
       "\n",
       "#sk-container-id-1 div.sk-toggleable__content.fitted pre {\n",
       "  /* unfitted */\n",
       "  background-color: var(--sklearn-color-fitted-level-0);\n",
       "}\n",
       "\n",
       "#sk-container-id-1 input.sk-toggleable__control:checked~div.sk-toggleable__content {\n",
       "  /* Expand drop-down */\n",
       "  max-height: 200px;\n",
       "  max-width: 100%;\n",
       "  overflow: auto;\n",
       "}\n",
       "\n",
       "#sk-container-id-1 input.sk-toggleable__control:checked~label.sk-toggleable__label-arrow:before {\n",
       "  content: \"▾\";\n",
       "}\n",
       "\n",
       "/* Pipeline/ColumnTransformer-specific style */\n",
       "\n",
       "#sk-container-id-1 div.sk-label input.sk-toggleable__control:checked~label.sk-toggleable__label {\n",
       "  color: var(--sklearn-color-text);\n",
       "  background-color: var(--sklearn-color-unfitted-level-2);\n",
       "}\n",
       "\n",
       "#sk-container-id-1 div.sk-label.fitted input.sk-toggleable__control:checked~label.sk-toggleable__label {\n",
       "  background-color: var(--sklearn-color-fitted-level-2);\n",
       "}\n",
       "\n",
       "/* Estimator-specific style */\n",
       "\n",
       "/* Colorize estimator box */\n",
       "#sk-container-id-1 div.sk-estimator input.sk-toggleable__control:checked~label.sk-toggleable__label {\n",
       "  /* unfitted */\n",
       "  background-color: var(--sklearn-color-unfitted-level-2);\n",
       "}\n",
       "\n",
       "#sk-container-id-1 div.sk-estimator.fitted input.sk-toggleable__control:checked~label.sk-toggleable__label {\n",
       "  /* fitted */\n",
       "  background-color: var(--sklearn-color-fitted-level-2);\n",
       "}\n",
       "\n",
       "#sk-container-id-1 div.sk-label label.sk-toggleable__label,\n",
       "#sk-container-id-1 div.sk-label label {\n",
       "  /* The background is the default theme color */\n",
       "  color: var(--sklearn-color-text-on-default-background);\n",
       "}\n",
       "\n",
       "/* On hover, darken the color of the background */\n",
       "#sk-container-id-1 div.sk-label:hover label.sk-toggleable__label {\n",
       "  color: var(--sklearn-color-text);\n",
       "  background-color: var(--sklearn-color-unfitted-level-2);\n",
       "}\n",
       "\n",
       "/* Label box, darken color on hover, fitted */\n",
       "#sk-container-id-1 div.sk-label.fitted:hover label.sk-toggleable__label.fitted {\n",
       "  color: var(--sklearn-color-text);\n",
       "  background-color: var(--sklearn-color-fitted-level-2);\n",
       "}\n",
       "\n",
       "/* Estimator label */\n",
       "\n",
       "#sk-container-id-1 div.sk-label label {\n",
       "  font-family: monospace;\n",
       "  font-weight: bold;\n",
       "  display: inline-block;\n",
       "  line-height: 1.2em;\n",
       "}\n",
       "\n",
       "#sk-container-id-1 div.sk-label-container {\n",
       "  text-align: center;\n",
       "}\n",
       "\n",
       "/* Estimator-specific */\n",
       "#sk-container-id-1 div.sk-estimator {\n",
       "  font-family: monospace;\n",
       "  border: 1px dotted var(--sklearn-color-border-box);\n",
       "  border-radius: 0.25em;\n",
       "  box-sizing: border-box;\n",
       "  margin-bottom: 0.5em;\n",
       "  /* unfitted */\n",
       "  background-color: var(--sklearn-color-unfitted-level-0);\n",
       "}\n",
       "\n",
       "#sk-container-id-1 div.sk-estimator.fitted {\n",
       "  /* fitted */\n",
       "  background-color: var(--sklearn-color-fitted-level-0);\n",
       "}\n",
       "\n",
       "/* on hover */\n",
       "#sk-container-id-1 div.sk-estimator:hover {\n",
       "  /* unfitted */\n",
       "  background-color: var(--sklearn-color-unfitted-level-2);\n",
       "}\n",
       "\n",
       "#sk-container-id-1 div.sk-estimator.fitted:hover {\n",
       "  /* fitted */\n",
       "  background-color: var(--sklearn-color-fitted-level-2);\n",
       "}\n",
       "\n",
       "/* Specification for estimator info (e.g. \"i\" and \"?\") */\n",
       "\n",
       "/* Common style for \"i\" and \"?\" */\n",
       "\n",
       ".sk-estimator-doc-link,\n",
       "a:link.sk-estimator-doc-link,\n",
       "a:visited.sk-estimator-doc-link {\n",
       "  float: right;\n",
       "  font-size: smaller;\n",
       "  line-height: 1em;\n",
       "  font-family: monospace;\n",
       "  background-color: var(--sklearn-color-background);\n",
       "  border-radius: 1em;\n",
       "  height: 1em;\n",
       "  width: 1em;\n",
       "  text-decoration: none !important;\n",
       "  margin-left: 1ex;\n",
       "  /* unfitted */\n",
       "  border: var(--sklearn-color-unfitted-level-1) 1pt solid;\n",
       "  color: var(--sklearn-color-unfitted-level-1);\n",
       "}\n",
       "\n",
       ".sk-estimator-doc-link.fitted,\n",
       "a:link.sk-estimator-doc-link.fitted,\n",
       "a:visited.sk-estimator-doc-link.fitted {\n",
       "  /* fitted */\n",
       "  border: var(--sklearn-color-fitted-level-1) 1pt solid;\n",
       "  color: var(--sklearn-color-fitted-level-1);\n",
       "}\n",
       "\n",
       "/* On hover */\n",
       "div.sk-estimator:hover .sk-estimator-doc-link:hover,\n",
       ".sk-estimator-doc-link:hover,\n",
       "div.sk-label-container:hover .sk-estimator-doc-link:hover,\n",
       ".sk-estimator-doc-link:hover {\n",
       "  /* unfitted */\n",
       "  background-color: var(--sklearn-color-unfitted-level-3);\n",
       "  color: var(--sklearn-color-background);\n",
       "  text-decoration: none;\n",
       "}\n",
       "\n",
       "div.sk-estimator.fitted:hover .sk-estimator-doc-link.fitted:hover,\n",
       ".sk-estimator-doc-link.fitted:hover,\n",
       "div.sk-label-container:hover .sk-estimator-doc-link.fitted:hover,\n",
       ".sk-estimator-doc-link.fitted:hover {\n",
       "  /* fitted */\n",
       "  background-color: var(--sklearn-color-fitted-level-3);\n",
       "  color: var(--sklearn-color-background);\n",
       "  text-decoration: none;\n",
       "}\n",
       "\n",
       "/* Span, style for the box shown on hovering the info icon */\n",
       ".sk-estimator-doc-link span {\n",
       "  display: none;\n",
       "  z-index: 9999;\n",
       "  position: relative;\n",
       "  font-weight: normal;\n",
       "  right: .2ex;\n",
       "  padding: .5ex;\n",
       "  margin: .5ex;\n",
       "  width: min-content;\n",
       "  min-width: 20ex;\n",
       "  max-width: 50ex;\n",
       "  color: var(--sklearn-color-text);\n",
       "  box-shadow: 2pt 2pt 4pt #999;\n",
       "  /* unfitted */\n",
       "  background: var(--sklearn-color-unfitted-level-0);\n",
       "  border: .5pt solid var(--sklearn-color-unfitted-level-3);\n",
       "}\n",
       "\n",
       ".sk-estimator-doc-link.fitted span {\n",
       "  /* fitted */\n",
       "  background: var(--sklearn-color-fitted-level-0);\n",
       "  border: var(--sklearn-color-fitted-level-3);\n",
       "}\n",
       "\n",
       ".sk-estimator-doc-link:hover span {\n",
       "  display: block;\n",
       "}\n",
       "\n",
       "/* \"?\"-specific style due to the `<a>` HTML tag */\n",
       "\n",
       "#sk-container-id-1 a.estimator_doc_link {\n",
       "  float: right;\n",
       "  font-size: 1rem;\n",
       "  line-height: 1em;\n",
       "  font-family: monospace;\n",
       "  background-color: var(--sklearn-color-background);\n",
       "  border-radius: 1rem;\n",
       "  height: 1rem;\n",
       "  width: 1rem;\n",
       "  text-decoration: none;\n",
       "  /* unfitted */\n",
       "  color: var(--sklearn-color-unfitted-level-1);\n",
       "  border: var(--sklearn-color-unfitted-level-1) 1pt solid;\n",
       "}\n",
       "\n",
       "#sk-container-id-1 a.estimator_doc_link.fitted {\n",
       "  /* fitted */\n",
       "  border: var(--sklearn-color-fitted-level-1) 1pt solid;\n",
       "  color: var(--sklearn-color-fitted-level-1);\n",
       "}\n",
       "\n",
       "/* On hover */\n",
       "#sk-container-id-1 a.estimator_doc_link:hover {\n",
       "  /* unfitted */\n",
       "  background-color: var(--sklearn-color-unfitted-level-3);\n",
       "  color: var(--sklearn-color-background);\n",
       "  text-decoration: none;\n",
       "}\n",
       "\n",
       "#sk-container-id-1 a.estimator_doc_link.fitted:hover {\n",
       "  /* fitted */\n",
       "  background-color: var(--sklearn-color-fitted-level-3);\n",
       "}\n",
       "</style><div id=\"sk-container-id-1\" class=\"sk-top-container\"><div class=\"sk-text-repr-fallback\"><pre>LinearRegression()</pre><b>In a Jupyter environment, please rerun this cell to show the HTML representation or trust the notebook. <br />On GitHub, the HTML representation is unable to render, please try loading this page with nbviewer.org.</b></div><div class=\"sk-container\" hidden><div class=\"sk-item\"><div class=\"sk-estimator fitted sk-toggleable\"><input class=\"sk-toggleable__control sk-hidden--visually\" id=\"sk-estimator-id-1\" type=\"checkbox\" checked><label for=\"sk-estimator-id-1\" class=\"sk-toggleable__label fitted sk-toggleable__label-arrow fitted\">&nbsp;&nbsp;LinearRegression<a class=\"sk-estimator-doc-link fitted\" rel=\"noreferrer\" target=\"_blank\" href=\"https://scikit-learn.org/1.4/modules/generated/sklearn.linear_model.LinearRegression.html\">?<span>Documentation for LinearRegression</span></a><span class=\"sk-estimator-doc-link fitted\">i<span>Fitted</span></span></label><div class=\"sk-toggleable__content fitted\"><pre>LinearRegression()</pre></div> </div></div></div></div>"
      ],
      "text/plain": [
       "LinearRegression()"
      ]
     },
     "execution_count": 66,
     "metadata": {},
     "output_type": "execute_result"
    }
   ],
   "source": [
    "# Train the model Linear\n",
    "model_lin.fit(X_train_final, y_train)"
   ]
  },
  {
   "cell_type": "markdown",
   "metadata": {},
   "source": [
    "# viii. Model Evaluation"
   ]
  },
  {
   "cell_type": "code",
   "execution_count": null,
   "metadata": {},
   "outputs": [],
   "source": [
    "# Predict train-set dan test-set\n",
    "y_pred_train = model_lin.predict(X_train_final)\n",
    "y_pred_test = model_lin.predict(X_test_final)"
   ]
  },
  {
   "cell_type": "markdown",
   "metadata": {},
   "source": [
    "#### (opsional) tampilin hasil prediksi"
   ]
  },
  {
   "cell_type": "code",
   "execution_count": null,
   "metadata": {},
   "outputs": [
    {
     "data": {
      "text/plain": [
       "array([60.75588977, 67.25761667, 62.35435474, ..., 70.58259069,\n",
       "       64.32258429, 61.18900852])"
      ]
     },
     "execution_count": 68,
     "metadata": {},
     "output_type": "execute_result"
    }
   ],
   "source": [
    "y_pred_train"
   ]
  },
  {
   "cell_type": "code",
   "execution_count": null,
   "metadata": {},
   "outputs": [
    {
     "data": {
      "text/plain": [
       "array([64.34021099, 64.02746816, 70.4159887 , ..., 61.14134931,\n",
       "       65.16102518, 72.41872744])"
      ]
     },
     "execution_count": 69,
     "metadata": {},
     "output_type": "execute_result"
    }
   ],
   "source": [
    "y_pred_test"
   ]
  },
  {
   "cell_type": "code",
   "execution_count": null,
   "metadata": {},
   "outputs": [
    {
     "name": "stdout",
     "output_type": "stream",
     "text": [
      "Error - train set:2.220374553319256\n",
      "Error - test set:2.3663234258121637\n"
     ]
    }
   ],
   "source": [
    "# Evaluate model using MAE\n",
    "print(f'Error - train set:{mean_absolute_error(y_pred_train,y_train)}')\n",
    "print(f'Error - test set:{mean_absolute_error(y_pred_test,y_test)}')"
   ]
  },
  {
   "cell_type": "code",
   "execution_count": null,
   "metadata": {},
   "outputs": [
    {
     "data": {
      "text/plain": [
       "67.64"
      ]
     },
     "execution_count": 71,
     "metadata": {},
     "output_type": "execute_result"
    }
   ],
   "source": [
    "# misalnya ada standar untuk success rate nya 70, berarti room for error nya:\n",
    "70-2.36"
   ]
  },
  {
   "cell_type": "markdown",
   "metadata": {},
   "source": [
    "statement??? -> mae 2.36 (test) itu artinya model kita bisa miss/meleset prediksi +- 2.36 misal diprediksinya 70, maka margin errornya di range 67.64 s/d 72.36.\n",
    "\n",
    "Jelaskan juga apakah model termasuk under/over/goodfit?\n",
    "\n",
    "Business insight nya apa?\n",
    "\n",
    "Hal\" unik dari EDA apa?"
   ]
  },
  {
   "cell_type": "markdown",
   "metadata": {},
   "source": [
    "# ix. Model Saving for Inference Data"
   ]
  },
  {
   "cell_type": "code",
   "execution_count": null,
   "metadata": {},
   "outputs": [],
   "source": [
    "# save the model!\n",
    "with open('model_lin.pkl', 'wb') as file_1: # wb = write binary\n",
    "    pickle.dump(model_lin, file_1)\n",
    "\n",
    "# save the scaler!\n",
    "with open('std_scaler.pkl', 'wb') as file_2:\n",
    "    pickle.dump(std_scaler, file_2)\n",
    "\n",
    "with open('rbs_scaler.pkl', 'wb') as file_3:\n",
    "    pickle.dump(rbs_scaler, file_3)\n",
    "\n",
    "# save the encoder\n",
    "with open('encoder.pkl', 'wb') as file_4:\n",
    "    pickle.dump(encoder, file_4)\n",
    "\n",
    "# save the num col\n",
    "with open('num_col_std.txt', 'w') as file_5:\n",
    "    json.dump(num_col_std, file_5)\n",
    "\n",
    "with open('num_col_rbs.txt', 'w') as file_6:\n",
    "    json.dump(num_col_rbs, file_6)\n",
    "\n",
    "# save the cat col\n",
    "with open('cat_col.txt', 'w') as file_7:\n",
    "    json.dump(cat_col, file_7)"
   ]
  },
  {
   "cell_type": "code",
   "execution_count": null,
   "metadata": {},
   "outputs": [
    {
     "data": {
      "text/plain": [
       "Index(['Name', 'Age', 'Height', 'Weight', 'ValueEUR', 'AttackingWorkRate',\n",
       "       'DefensiveWorkRate', 'PaceTotal', 'ShootingTotal', 'PassingTotal',\n",
       "       'DribblingTotal', 'DefendingTotal', 'PhysicalityTotal', 'Overall'],\n",
       "      dtype='object')"
      ]
     },
     "execution_count": 74,
     "metadata": {},
     "output_type": "execute_result"
    }
   ],
   "source": [
    "# Check columns for inference data\n",
    "df_ori.columns"
   ]
  },
  {
   "cell_type": "markdown",
   "metadata": {},
   "source": [
    "# x. Kesimpulan"
   ]
  },
  {
   "cell_type": "markdown",
   "metadata": {},
   "source": [
    "Make sure objective dan problem statement terjawab. Further improvement? "
   ]
  }
 ],
 "metadata": {
  "kernelspec": {
   "display_name": "base",
   "language": "python",
   "name": "python3"
  },
  "language_info": {
   "codemirror_mode": {
    "name": "ipython",
    "version": 3
   },
   "file_extension": ".py",
   "mimetype": "text/x-python",
   "name": "python",
   "nbconvert_exporter": "python",
   "pygments_lexer": "ipython3",
   "version": "3.11.7"
  }
 },
 "nbformat": 4,
 "nbformat_minor": 2
}
