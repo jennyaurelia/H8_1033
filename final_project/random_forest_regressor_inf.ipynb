{
 "cells": [
  {
   "cell_type": "markdown",
   "metadata": {},
   "source": [
    "## Final Project:  \n",
    "# House Prices Prediction"
   ]
  },
  {
   "cell_type": "markdown",
   "metadata": {},
   "source": [
    "# i. Introduction  \n",
    "**Name:** Jenny Aurelia Tanaya\n",
    "\n",
    "**Problem statement:**  \n",
    "Ask a home buyer to describe their dream house, and they probably won't begin with the height of the basement ceiling or the proximity to an east-west railroad. But this dataset proves that much more influences price negotiations than the number of bedrooms or a white-picket fence.\n",
    "\n",
    "This dataset have 79 explanatory variables describing (almost) every aspect of residential homes in Ames, Iowa.\n",
    " \n",
    "**Objective:**  \n",
    "This project is created to predict the final price of each home.\n",
    "The models used for this prediction are: `RandomForestRegressor()` with the `RMSE` metric."
   ]
  },
  {
   "cell_type": "markdown",
   "metadata": {},
   "source": [
    "# ii. Import Libraries"
   ]
  },
  {
   "cell_type": "code",
   "execution_count": 1,
   "metadata": {},
   "outputs": [],
   "source": [
    "# Import Libraries\n",
    "import pandas as pd\n",
    "import pickle"
   ]
  },
  {
   "cell_type": "markdown",
   "metadata": {},
   "source": [
    "# iii. Model Load"
   ]
  },
  {
   "cell_type": "code",
   "execution_count": 2,
   "metadata": {},
   "outputs": [],
   "source": [
    "# Model Loading\n",
    "with open('random_forest_regressor_model.pkl', 'rb') as file_2:\n",
    "    random_forest = pickle.load(file_2)"
   ]
  },
  {
   "cell_type": "markdown",
   "metadata": {},
   "source": [
    "# iv. Create Data Inference"
   ]
  },
  {
   "cell_type": "code",
   "execution_count": 3,
   "metadata": {},
   "outputs": [],
   "source": [
    "# Create data inference\n",
    "df_inf={'Id': 1500, \n",
    "        'MSSubClass': 90,\n",
    "        'MSZoning': 'RH',\n",
    "        'LotFrontage': 75,\n",
    "        'LotArea': 10000,\n",
    "        'Street': 'Grvl',\n",
    "        'Alley': 'Pave', \n",
    "        'LotShape': 'Reg',\n",
    "        'LandContour': 'Lv1',\n",
    "        'Utilities': 'AllPub',\n",
    "        'LotConfig': 'Corner',\n",
    "        'LandSlope': 'Gt1',\n",
    "        'Neighborhood': 'Affordable',\n",
    "        'Condition1': 'Norm',\n",
    "        'Condition2': 'Norm',\n",
    "        'BldgType': '1Fam',\n",
    "        'HouseStyle': '2Story', \n",
    "        'OverallQual': 8, \n",
    "        'OverallCond': 9, \n",
    "        'YearBuilt': 2009, \n",
    "        'YearRemodAdd': 2009,\n",
    "        'RoofStyle': 'Hip', \n",
    "        'RoofMatl': 'ClyTile', \n",
    "        'Exterior1st': 'BrkFace',\n",
    "        'Exterior2nd': 'HdBoard', \n",
    "        'MasVnrType': 'None',\n",
    "        'MasVnrArea': 150, \n",
    "        'ExterQual': 'Gd', \n",
    "        'ExterCond': 'Gd', \n",
    "        'Foundation': 'PConc', \n",
    "        'BsmtQual': 'Gd',\n",
    "        'BsmtCond': 'Gd',\n",
    "        'BsmtExposure': 'Gd',\n",
    "        'BsmtFinType1': 'ALQ', \n",
    "        'BsmtFinSF1': 800,\n",
    "        'BsmtFinType2': 'GLQ', \n",
    "        'BsmtFinSF2': 800, \n",
    "        'BsmtUnfSF': 0, \n",
    "        'TotalBsmtSF': 1600, \n",
    "        'Heating': 'GasA',\n",
    "        'HeatingQC': 'Ex', \n",
    "        'CentralAir': 'Y', \n",
    "        'Electrical': 'Mix', \n",
    "        '1stFlrSF': 1800, \n",
    "        '2ndFlrSF': 1750,\n",
    "        'LowQualFinSF': 3550, \n",
    "        'GrLivArea': 1750, \n",
    "        'BsmtFullBath': 1, \n",
    "        'BsmtHalfBath': 1, \n",
    "        'FullBath': 2,\n",
    "        'HalfBath': 1, \n",
    "        'BedroomAbvGr': 3, \n",
    "        'KitchenAbvGr': 1, \n",
    "        'KitchenQual': 'Ex',\n",
    "        'TotRmsAbvGrd': 4, \n",
    "        'Functional': 'Typ', \n",
    "        'Fireplaces': 2, \n",
    "        'FireplaceQu': 'Gd', \n",
    "        'GarageType': 'Basment',\n",
    "        'GarageYrBlt': 2009, \n",
    "        'GarageFinish': 'Fin', \n",
    "        'GarageCars': 2, \n",
    "        'GarageArea': 500, \n",
    "        'GarageQual': 'Gd',\n",
    "        'GarageCond': 'Gd', \n",
    "        'PavedDrive': 'P', \n",
    "        'WoodDeckSF': 500, \n",
    "        'OpenPorchSF': 400,\n",
    "        'EnclosedPorch': 400, \n",
    "        '3SsnPorch': 250, \n",
    "        'ScreenPorch': 350, \n",
    "        'PoolArea': 550, \n",
    "        'PoolQC': 'Ex',\n",
    "        'Fence': 'GdPrv', \n",
    "        'MiscFeature': 'Othr', \n",
    "        'MiscVal': 1000, \n",
    "        'MoSold': 10, \n",
    "        'YrSold': 2010, \n",
    "        'SaleType': 'New',\n",
    "        'SaleCondition': 'Normal'\n",
    "}\n",
    "\n",
    "df_inf = pd.DataFrame([df_inf])"
   ]
  },
  {
   "cell_type": "code",
   "execution_count": 4,
   "metadata": {},
   "outputs": [
    {
     "data": {
      "text/html": [
       "<div>\n",
       "<style scoped>\n",
       "    .dataframe tbody tr th:only-of-type {\n",
       "        vertical-align: middle;\n",
       "    }\n",
       "\n",
       "    .dataframe tbody tr th {\n",
       "        vertical-align: top;\n",
       "    }\n",
       "\n",
       "    .dataframe thead th {\n",
       "        text-align: right;\n",
       "    }\n",
       "</style>\n",
       "<table border=\"1\" class=\"dataframe\">\n",
       "  <thead>\n",
       "    <tr style=\"text-align: right;\">\n",
       "      <th></th>\n",
       "      <th>Id</th>\n",
       "      <th>MSSubClass</th>\n",
       "      <th>MSZoning</th>\n",
       "      <th>LotFrontage</th>\n",
       "      <th>LotArea</th>\n",
       "      <th>Street</th>\n",
       "      <th>Alley</th>\n",
       "      <th>LotShape</th>\n",
       "      <th>LandContour</th>\n",
       "      <th>Utilities</th>\n",
       "      <th>...</th>\n",
       "      <th>ScreenPorch</th>\n",
       "      <th>PoolArea</th>\n",
       "      <th>PoolQC</th>\n",
       "      <th>Fence</th>\n",
       "      <th>MiscFeature</th>\n",
       "      <th>MiscVal</th>\n",
       "      <th>MoSold</th>\n",
       "      <th>YrSold</th>\n",
       "      <th>SaleType</th>\n",
       "      <th>SaleCondition</th>\n",
       "    </tr>\n",
       "  </thead>\n",
       "  <tbody>\n",
       "    <tr>\n",
       "      <th>0</th>\n",
       "      <td>1500</td>\n",
       "      <td>90</td>\n",
       "      <td>RH</td>\n",
       "      <td>75</td>\n",
       "      <td>10000</td>\n",
       "      <td>Grvl</td>\n",
       "      <td>Pave</td>\n",
       "      <td>Reg</td>\n",
       "      <td>Lv1</td>\n",
       "      <td>AllPub</td>\n",
       "      <td>...</td>\n",
       "      <td>350</td>\n",
       "      <td>550</td>\n",
       "      <td>Ex</td>\n",
       "      <td>GdPrv</td>\n",
       "      <td>Othr</td>\n",
       "      <td>1000</td>\n",
       "      <td>10</td>\n",
       "      <td>2010</td>\n",
       "      <td>New</td>\n",
       "      <td>Normal</td>\n",
       "    </tr>\n",
       "  </tbody>\n",
       "</table>\n",
       "<p>1 rows × 80 columns</p>\n",
       "</div>"
      ],
      "text/plain": [
       "     Id  MSSubClass MSZoning  LotFrontage  LotArea Street Alley LotShape  \\\n",
       "0  1500          90       RH           75    10000   Grvl  Pave      Reg   \n",
       "\n",
       "  LandContour Utilities  ... ScreenPorch PoolArea PoolQC  Fence MiscFeature  \\\n",
       "0         Lv1    AllPub  ...         350      550     Ex  GdPrv        Othr   \n",
       "\n",
       "  MiscVal MoSold  YrSold  SaleType  SaleCondition  \n",
       "0    1000     10    2010       New         Normal  \n",
       "\n",
       "[1 rows x 80 columns]"
      ]
     },
     "execution_count": 4,
     "metadata": {},
     "output_type": "execute_result"
    }
   ],
   "source": [
    "# Show data inference\n",
    "df_inf"
   ]
  },
  {
   "cell_type": "markdown",
   "metadata": {},
   "source": [
    "# v. Predict Data Inference"
   ]
  },
  {
   "cell_type": "code",
   "execution_count": 6,
   "metadata": {},
   "outputs": [
    {
     "name": "stdout",
     "output_type": "stream",
     "text": [
      "The sale price of the house with ID 1500 is $259670.2\n"
     ]
    }
   ],
   "source": [
    "# Predict inference data\n",
    "predict = random_forest.predict(df_inf)\n",
    "print(f'The sale price of the house with ID {df_inf.Id[0]} is ${round(predict[0],2)}')"
   ]
  },
  {
   "cell_type": "markdown",
   "metadata": {},
   "source": [
    "---\n",
    "$END$"
   ]
  }
 ],
 "metadata": {
  "kernelspec": {
   "display_name": "base",
   "language": "python",
   "name": "python3"
  },
  "language_info": {
   "codemirror_mode": {
    "name": "ipython",
    "version": 3
   },
   "file_extension": ".py",
   "mimetype": "text/x-python",
   "name": "python",
   "nbconvert_exporter": "python",
   "pygments_lexer": "ipython3",
   "version": "3.11.7"
  }
 },
 "nbformat": 4,
 "nbformat_minor": 2
}
