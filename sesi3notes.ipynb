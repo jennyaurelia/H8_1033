{
 "cells": [
  {
   "cell_type": "markdown",
   "metadata": {},
   "source": [
    "### Python Function & Module"
   ]
  },
  {
   "cell_type": "code",
   "execution_count": 49,
   "metadata": {},
   "outputs": [],
   "source": [
    "#membuat rumus dengan syntax def\n",
    "#contoh s x s = persegi, dll."
   ]
  },
  {
   "cell_type": "code",
   "execution_count": 50,
   "metadata": {},
   "outputs": [],
   "source": [
    "hitung_luas = 10*2"
   ]
  },
  {
   "cell_type": "code",
   "execution_count": 51,
   "metadata": {},
   "outputs": [
    {
     "data": {
      "text/plain": [
       "40"
      ]
     },
     "execution_count": 51,
     "metadata": {},
     "output_type": "execute_result"
    }
   ],
   "source": [
    "def hitung_luas(p,l): #luaspersegipanjang\n",
    "    return p*l\n",
    "hitung_luas(20,2)"
   ]
  },
  {
   "cell_type": "code",
   "execution_count": 1,
   "metadata": {},
   "outputs": [
    {
     "data": {
      "text/plain": [
       "50.24"
      ]
     },
     "execution_count": 1,
     "metadata": {},
     "output_type": "execute_result"
    }
   ],
   "source": [
    "#hitung luas lingkaran\n",
    "def hitung_luas_lingkaran(pi,r):\n",
    "    return pi*r**2\n",
    "hitung_luas_lingkaran(3.14,4)\n",
    "# kalo akar = pi*r**0.5"
   ]
  },
  {
   "cell_type": "code",
   "execution_count": 53,
   "metadata": {},
   "outputs": [],
   "source": [
    "def hitung_luas_lingkaran(pi,r):\n",
    "    luas = pi*r**2\n",
    "    print(f\"luas lingkarannya = {luas}\")\n",
    "    #local variable hanya ada di dalam function, tdk bs dipanggil di luar function"
   ]
  },
  {
   "cell_type": "code",
   "execution_count": 54,
   "metadata": {},
   "outputs": [
    {
     "ename": "NameError",
     "evalue": "name 'luas' is not defined",
     "output_type": "error",
     "traceback": [
      "\u001b[0;31m---------------------------------------------------------------------------\u001b[0m",
      "\u001b[0;31mNameError\u001b[0m                                 Traceback (most recent call last)",
      "Cell \u001b[0;32mIn[54], line 1\u001b[0m\n\u001b[0;32m----> 1\u001b[0m luas\n",
      "\u001b[0;31mNameError\u001b[0m: name 'luas' is not defined"
     ]
    }
   ],
   "source": [
    "luas \n",
    "# bukti kalo luas hanya milik function hitung_luas_lingkaran"
   ]
  },
  {
   "cell_type": "code",
   "execution_count": null,
   "metadata": {},
   "outputs": [],
   "source": [
    "c = 1 #Global variable\n",
    "def func(x1):\n",
    "    L = x1**2 #Local variable"
   ]
  },
  {
   "cell_type": "markdown",
   "metadata": {},
   "source": [
    "# Rumus di dalam rumus "
   ]
  },
  {
   "cell_type": "markdown",
   "metadata": {},
   "source": [
    "Menghitung debit air -> Q = Volume/waktu\n",
    "Volume = panjang x lebar x tinggi\n",
    "Cara gmpg -> Q = (pjg x lbr x tgi)/waktu"
   ]
  },
  {
   "cell_type": "code",
   "execution_count": 3,
   "metadata": {},
   "outputs": [
    {
     "data": {
      "text/plain": [
       "4.0"
      ]
     },
     "execution_count": 3,
     "metadata": {},
     "output_type": "execute_result"
    }
   ],
   "source": [
    "#Buat function volume\n",
    "def volume (p,l,t):\n",
    "    return p*l*t\n",
    "\n",
    "def Q(p,l,t,waktu):\n",
    "    vol = volume(p,l,t)\n",
    "    return vol/waktu\n",
    "\n",
    "Q(2,2,2,2)"
   ]
  },
  {
   "cell_type": "markdown",
   "metadata": {},
   "source": [
    "Dictionary {} keys:value\n",
    "Anonymous function\n",
    " \n",
    "#define a function\n",
    "- penjumlahan = lambda x1, x2: x1 + x2\n",
    "\n",
    "#memanggil function\n",
    "penjumlahan (2,4) #output 6"
   ]
  },
  {
   "cell_type": "markdown",
   "metadata": {},
   "source": [
    "### Latihan soal"
   ]
  },
  {
   "cell_type": "markdown",
   "metadata": {},
   "source": [
    "**NOMOR 1**\n",
    "\n",
    "Buatlah sebuah function untuk menampilkan tanda plus (`+`) sebanyak\n",
    "`n`.\n",
    "  * Input : `n` | Jumlah tanda plus (`+`) yang diinginkan | int\n",
    "  * Output : Jumlah tanda plus yang ditampilkan\n",
    "\n",
    "| Input | Output |\n",
    "| - | - |\n",
    "| n = 1 | + |\n",
    "| n = 3 | + <br /> + <br /> + |\n",
    "| n = 5 | + <br /> + <br /> + <br /> + <br /> + |\n",
    "| n = 0 | Tampilkan pesan `Input salah` |\n",
    "| n = -1 | Tampilkan pesan `Input salah` |\n",
    "\n"
   ]
  },
  {
   "cell_type": "code",
   "execution_count": null,
   "metadata": {},
   "outputs": [],
   "source": [
    "def tampilkan_plus(n):\n",
    "    if n>0:\n",
    "        print(n*\"+\\n\") #\\n buat bikin jawaban ke bawah instead of kesamping\n",
    "    else:\n",
    "        print(\"Input salah\")\n"
   ]
  },
  {
   "cell_type": "code",
   "execution_count": 9,
   "metadata": {},
   "outputs": [
    {
     "name": "stdout",
     "output_type": "stream",
     "text": [
      "Input salah\n"
     ]
    }
   ],
   "source": [
    "tampilkan_plus(-3)"
   ]
  },
  {
   "cell_type": "markdown",
   "metadata": {},
   "source": [
    "**NOMOR 2**\n",
    "\n",
    "Buat sebuah function untuk mereturn hanya angka genap (positif/negatif) dari sekumpulan list yang berisi nilai-nilai (tidak termasuk 0).\n",
    "  * Input : `daftar_angka` : daftar angka-angka | list of int\n",
    "  * Output : daftar angka-angka genap | list of int\n",
    "\n",
    "| No | Input | Output |\n",
    "| - | - | - |\n",
    "| 1 | daftar_angka = [1, 2, 3, 4, 5, 6] | [2, 4, 6] |\n",
    "| 2 | daftar_angka = [0, 1, 3, 5, 7, 9] | [] |\n",
    "| 3 | daftar_angka = [-10, -9, -8, -7]  | [-10, -8] |\n"
   ]
  },
  {
   "cell_type": "code",
   "execution_count": 13,
   "metadata": {},
   "outputs": [],
   "source": [
    "def tampilkan_genap(*daftar_angka):\n",
    "    hasil = []\n",
    "    for i in daftar_angka:\n",
    "        if i == 0 or i %2 !=0: #tampil genap, karena sisa bagi 2 !=0 -> refer ke angka ganjil\n",
    "           pass                # salah satu terpenuhi makanya or bukan and\n",
    "        else:\n",
    "           hasil.append(i)\n",
    "    print(hasil)"
   ]
  },
  {
   "cell_type": "code",
   "execution_count": 14,
   "metadata": {},
   "outputs": [
    {
     "name": "stdout",
     "output_type": "stream",
     "text": [
      "[2, 4, 6]\n"
     ]
    }
   ],
   "source": [
    "tampilkan_genap(1,2,3,4,5,6)"
   ]
  },
  {
   "cell_type": "code",
   "execution_count": 15,
   "metadata": {},
   "outputs": [
    {
     "name": "stdout",
     "output_type": "stream",
     "text": [
      "[]\n"
     ]
    }
   ],
   "source": [
    "tampilkan_genap(0,1,3,5,7,9)"
   ]
  },
  {
   "cell_type": "code",
   "execution_count": null,
   "metadata": {},
   "outputs": [
    {
     "name": "stdout",
     "output_type": "stream",
     "text": [
      "[-10, -8]\n"
     ]
    }
   ],
   "source": [
    "tampilkan_genap(-10,-9,-8,-7) #kalo gapake function, agak waste karena ngulang2 terus, menghemat space, bisa diintegrate lebih mudah dgn loop"
   ]
  },
  {
   "cell_type": "markdown",
   "metadata": {},
   "source": [
    "**NOMOR 3**\n",
    "\n",
    "Buatlah sebuah function untuk menampilkan `nama` dan `negara`. Jika tidak ada value pada parameter `negara`, isi dengan `Indonesia`.\n",
    "  * Input : `nama` | str\n",
    "  * Input : `negara` | str\n",
    "\n",
    "| No | Input | Output |\n",
    "| - | - | - |\n",
    "| 1 | nama = Frank <br /> <br /> negara = USA| \"Halo Frank dari USA\" |\n",
    "| 2 | nama = Smith <br /> <br /> negara = Jerman| \"Halo Smith dari Jerman\" |\n",
    "| 3 | nama = Anton | \"Halo Anton dari Indonesia\" |\n",
    "| 4 | negara = Singapura | *--Program Error--* |"
   ]
  },
  {
   "cell_type": "code",
   "execution_count": null,
   "metadata": {},
   "outputs": [],
   "source": [
    "def tampilkan_negara(nama,negara=\"Indonesia\"):\n",
    "    print(f\"Halo {nama} dari {negara}\")"
   ]
  },
  {
   "cell_type": "code",
   "execution_count": 59,
   "metadata": {},
   "outputs": [
    {
     "name": "stdout",
     "output_type": "stream",
     "text": [
      "Halo Frank dari USA\n",
      "Halo Smith dari Jerman\n",
      "Halo Anton dari Indonesia\n"
     ]
    },
    {
     "ename": "TypeError",
     "evalue": "tampilkan_negara() missing 1 required positional argument: 'nama'",
     "output_type": "error",
     "traceback": [
      "\u001b[0;31m---------------------------------------------------------------------------\u001b[0m",
      "\u001b[0;31mTypeError\u001b[0m                                 Traceback (most recent call last)",
      "Cell \u001b[0;32mIn[59], line 4\u001b[0m\n\u001b[1;32m      2\u001b[0m (tampilkan_negara(nama\u001b[38;5;241m=\u001b[39m\u001b[38;5;124m\"\u001b[39m\u001b[38;5;124mSmith\u001b[39m\u001b[38;5;124m\"\u001b[39m,negara\u001b[38;5;241m=\u001b[39m\u001b[38;5;124m\"\u001b[39m\u001b[38;5;124mJerman\u001b[39m\u001b[38;5;124m\"\u001b[39m))\n\u001b[1;32m      3\u001b[0m (tampilkan_negara(\u001b[38;5;124m\"\u001b[39m\u001b[38;5;124mAnton\u001b[39m\u001b[38;5;124m\"\u001b[39m))\n\u001b[0;32m----> 4\u001b[0m (tampilkan_negara(negara\u001b[38;5;241m=\u001b[39m\u001b[38;5;124m\"\u001b[39m\u001b[38;5;124mSingapura\u001b[39m\u001b[38;5;124m\"\u001b[39m))\n",
      "\u001b[0;31mTypeError\u001b[0m: tampilkan_negara() missing 1 required positional argument: 'nama'"
     ]
    }
   ],
   "source": [
    "(tampilkan_negara(nama=\"Frank\",negara=\"USA\"))\n",
    "(tampilkan_negara(nama=\"Smith\",negara=\"Jerman\"))\n",
    "(tampilkan_negara(\"Anton\"))\n",
    "(tampilkan_negara(negara=\"Singapura\"))"
   ]
  },
  {
   "cell_type": "markdown",
   "metadata": {},
   "source": [
    "**NOMOR 4**\n",
    "\n",
    "Buatlah sebuah function untuk me-return luas dari dua angka yang dimasukkan berdasarkan jenis bidangnya.\n",
    "  * Jika hanya 1 angka yang dimasukkan, maka diasumsikan angka tersebut akan digunakan untuk panjang-dan-lebar atau alas-dan-tinggi.\n",
    "  * Input : `mode` : jenis bidang (segitiga/persegi) | str\n",
    "    - `mode = segitiga`\n",
    "    - `mode = persegi`\n",
    "  * Input : `bilangan_1` : bilangan ke-1 | int\n",
    "  * Input : `bilangan_2` : bilangan ke-2 | int\n",
    "  * Jika tidak ada bilangan yang dimasukkan, maka tampilkan pesan **\"Input harus ada angka\"**.\n",
    "  * Jika bilangan_1 tidak dimasukkan dan hanya ada bilangan_2, maka tampilkan pesan **\"Input harus ada bilangan_1\"**.\n",
    "\n",
    "  > *Rumus luas persegi = bilangan_1 (panjang) * bilangan_2 (lebar)*\n",
    "  >\n",
    "  > *Rumus luas segitiga = bilangan_1 (alas) * bilangan_2 (tinggi) / 2*\n",
    "\n",
    "---\n",
    "Asumsi :\n",
    "* Angka yang dimasukkan maksimal 2 angka.\n",
    "* Angka yang dimasukkan hanyalah angka yang lebih besar dari 0.\n",
    "\n",
    "*Hint : Gunakan konsep bahwa sisi bidang tidak mungkin bernilai 0.*\n",
    "\n",
    "\n",
    "| No | Input | Output |\n",
    "| - | - | - |\n",
    "| 1 | mode = persegi, <br /> <br /> bilangan_1 = 10, <br /> <br /> bilangan_2 = 20 | 200 |\n",
    "| 2 | mode = segitiga, <br /> <br /> bilangan_1 = 10, <br /> <br /> bilangan_2 = 20 | 100 |\n",
    "| 3 | mode = persegi | \"Input kurang angka\" |\n",
    "| 4 | mode = persegi, <br /> <br /> bilangan_1 = 8 | 64 |\n",
    "| 5 | mode = persegi, <br /> <br /> bilangan_2 = 8 | \"Input harus ada bilangan_1\" |\n",
    "| 6 | bilangan_1 = 10, <br /> <br /> bilangan_2 = 20 | *-Program Error-* |"
   ]
  },
  {
   "cell_type": "code",
   "execution_count": 21,
   "metadata": {},
   "outputs": [],
   "source": [
    "def rumus_math(mode, bilangan_1=0, bilangan_2=0):\n",
    "    if mode.lower() == 'persegi':\n",
    "        if bilangan_1 == 0 and bilangan_2 == 0:\n",
    "            print(\"Input harus ada angka\")\n",
    "        elif bilangan_1 == 0:\n",
    "            print(\"Input harus ada bilangan_1\")\n",
    "        elif bilangan_2 == 0:\n",
    "            luas = bilangan_1 * bilangan_1\n",
    "            print(luas)\n",
    "        else:\n",
    "            luas = bilangan_1 * bilangan_2\n",
    "            print(luas)\n",
    "        \n",
    "    elif mode.lower() == 'segitiga':\n",
    "        if bilangan_1 == 0 and bilangan_2 == 0:\n",
    "            print(\"Input harus ada angka\")\n",
    "        elif bilangan_1 == 0:\n",
    "            print(\"Input harus ada bilangan_1\")\n",
    "        elif bilangan_2 == 0:\n",
    "            luas = bilangan_1 * bilangan_1/2\n",
    "            print(luas)\n",
    "        else:\n",
    "            luas = bilangan_1 * bilangan_2/2\n",
    "            print(luas)"
   ]
  },
  {
   "cell_type": "code",
   "execution_count": 22,
   "metadata": {},
   "outputs": [
    {
     "name": "stdout",
     "output_type": "stream",
     "text": [
      "30\n",
      "18.0\n",
      "Input harus ada bilangan_1\n",
      "Input harus ada angka\n"
     ]
    }
   ],
   "source": [
    "rumus_math('persegi', bilangan_1 = 2, bilangan_2 = 15)\n",
    "rumus_math('segitiga',6)\n",
    "rumus_math('persegi',0,5)\n",
    "rumus_math('persegi')"
   ]
  },
  {
   "cell_type": "markdown",
   "metadata": {},
   "source": [
    "**NOMOR 5**\n",
    "\n",
    "Buatlah sebuah function untuk :\n",
    "  * Mereturn angka disuatu posisi berdasarkan bilangan pertama dari sebuah daftar angka-angka.\n",
    "  * Urutan posisi dimulai dari bilangan kedua.\n",
    "  * Jika bilangan pertama melebihi jumlah banyaknya daftar angka-angka, maka return **-1**.\n",
    "  * Input : daftar angka\n",
    "\n",
    "| No | Input | Output |\n",
    "| - | - | - |\n",
    "| 1 | (3, 10, 20, 30, 40) | 40 |\n",
    "| 2 | (0, -10, 10)| -10 |\n",
    "| 3 | (1, 2, 300, 10) | 300 |\n",
    "| 4 | (100, 200, 300, -400) | -1 |\n",
    "| 5 | (4, 200, 300, -400) | -1 |"
   ]
  },
  {
   "cell_type": "code",
   "execution_count": 26,
   "metadata": {},
   "outputs": [],
   "source": [
    "def cetak_angka(posisi, *daftar_angka):\n",
    "    panjang_list = len(daftar_angka)\n",
    "    #Fungsi len() digunakan di sini untuk menghitung jumlah elemen dalam daftar_angka. \n",
    "    #Jadi, panjang_list akan berisi jumlah elemen dalam daftar_angka\n",
    "    if panjang_list < posisi :\n",
    "        output = -1\n",
    "    else:\n",
    "        output = daftar_angka[posisi]\n",
    "    # cara kita mengakses elemen dari daftar_angka yang berada pada indeks atau posisi yang diberikan oleh variabel posisi\n",
    "    # Jadi, daftar_angka[posisi] mengembalikan elemen dari daftar_angka yang berada pada posisi yang diindikasikan oleh nilai posisi. Misalnya, jika posisi adalah 2, maka daftar_angka[posisi] akan mengembalikan elemen kedua dari daftar_angka.\n",
    "\n",
    "\n",
    "    return output"
   ]
  },
  {
   "cell_type": "code",
   "execution_count": 25,
   "metadata": {},
   "outputs": [
    {
     "data": {
      "text/plain": [
       "-10"
      ]
     },
     "execution_count": 25,
     "metadata": {},
     "output_type": "execute_result"
    }
   ],
   "source": [
    "# cetak_angka(3,10,20,30,40)\n",
    "cetak_angka(4,200,300,-400)\n",
    "cetak_angka(0,-10,10)"
   ]
  },
  {
   "cell_type": "markdown",
   "metadata": {},
   "source": [
    "**NOMOR 6**\n",
    "\n",
    "Buatlah sebuah function untuk menampilkan nama siswa yang memiliki nilai paling besar\n",
    "  * Input : Beberapa nama_siswa beserta nilai_siswa\n",
    "\n",
    "\n",
    "| No | Input | Output |\n",
    "| - | - | - |\n",
    "| 1 | (anwar=90, budi=40, charlie=100) | 'charlie' |\n",
    "| 2 | (tom=30, rian=90, jim=60, lily=70, abby=40)| 'rian' |\n",
    "| 3 | (frank=100) | 'frank' |"
   ]
  },
  {
   "cell_type": "code",
   "execution_count": 43,
   "metadata": {},
   "outputs": [],
   "source": [
    "def siswa_terbaik(**siswa_nilai):\n",
    "    if not siswa_nilai:  # Memeriksa apakah tidak ada data siswa_nilai\n",
    "        return None\n",
    "\n",
    "    # Mencari nilai tertinggi\n",
    "    nilai_tertinggi = max(siswa_nilai.values())\n",
    "\n",
    "    # Mencari nama siswa dengan nilai tertinggi\n",
    "    siswa_terbaik = [nama for nama, nilai in siswa_nilai.items() if nilai == nilai_tertinggi]\n",
    "\n",
    "    return siswa_terbaik[0]  # Mengembalikan nama siswa terbaik urutan pertama  "
   ]
  },
  {
   "cell_type": "code",
   "execution_count": 44,
   "metadata": {},
   "outputs": [
    {
     "name": "stdout",
     "output_type": "stream",
     "text": [
      "charlie\n",
      "rian\n",
      "frank\n"
     ]
    }
   ],
   "source": [
    "print(siswa_terbaik(anwar=90, budi=40, charlie=100, charles=100))\n",
    "print(siswa_terbaik(tom=30, rian=90, jim=60, lily=70, abby=40))\n",
    "print(siswa_terbaik(frank=100))"
   ]
  },
  {
   "cell_type": "markdown",
   "metadata": {},
   "source": [
    "terendah"
   ]
  },
  {
   "cell_type": "code",
   "execution_count": 32,
   "metadata": {},
   "outputs": [],
   "source": [
    "def siswa_terburuk(**siswa_nilai):\n",
    "    if not siswa_nilai:  # Memeriksa apakah tidak ada data siswa_nilai\n",
    "        return None\n",
    "\n",
    "    # Mencari nilai terendah\n",
    "    nilai_terendah = min(siswa_nilai.values())\n",
    "\n",
    "    # Mencari nama siswa dengan nilai terendah\n",
    "    siswa_terburuk = [nama for nama, nilai in siswa_nilai.items() if nilai == nilai_terendah]\n",
    "\n",
    "    return siswa_terburuk[0]  # Mengembalikan nama siswa terburuk "
   ]
  },
  {
   "cell_type": "code",
   "execution_count": 35,
   "metadata": {},
   "outputs": [
    {
     "name": "stdout",
     "output_type": "stream",
     "text": [
      "budi\n",
      "tom\n",
      "<function siswa_terburuk at 0x105782ca0>\n"
     ]
    }
   ],
   "source": [
    "print(siswa_terburuk(anwar=90, budi=40, charlie=100))\n",
    "print(siswa_terburuk(tom=30, rian=90, jim=60, lily=70, abby=40))\n",
    "print(siswa_terburuk)"
   ]
  },
  {
   "cell_type": "markdown",
   "metadata": {},
   "source": [
    "**NOMOR 7**\n",
    "\n",
    "Buatlah sebuah function untuk menampilkan tanda plus (`+`) berbentuk segitiga dibawah ini.\n",
    "  * Input : `n` | int\n",
    "  * Output : Jumlah tanda plus yang dimunculkan.\n",
    "\n",
    "| Input | Output |\n",
    "| - | - |\n",
    "| n = 1 | + |\n",
    "| n = 2 | ++ <br /> +|\n",
    "| n = 3 | +++ <br /> ++ <br /> +|\n",
    "| n = 4 | ++++ <br /> +++ <br /> ++ <br /> +|\n",
    "| n = 5 | +++++ <br /> ++++ <br /> +++ <br /> ++ <br /> +|\n",
    "| n = -1 | *--error--* |\n",
    "\n"
   ]
  },
  {
   "cell_type": "code",
   "execution_count": 45,
   "metadata": {},
   "outputs": [],
   "source": [
    "def print_plus_triangle(n):\n",
    "    if n <= 0:\n",
    "        print(\"*--error--*\")\n",
    "    else:\n",
    "        for i in range(n, 0, -1):\n",
    "            print(\"+\" * i)"
   ]
  },
  {
   "cell_type": "code",
   "execution_count": 46,
   "metadata": {},
   "outputs": [
    {
     "name": "stdout",
     "output_type": "stream",
     "text": [
      "+\n",
      "++\n",
      "+\n",
      "+++\n",
      "++\n",
      "+\n",
      "++++\n",
      "+++\n",
      "++\n",
      "+\n",
      "+++++\n",
      "++++\n",
      "+++\n",
      "++\n",
      "+\n",
      "*--error--*\n"
     ]
    }
   ],
   "source": [
    "print_plus_triangle(1)\n",
    "print_plus_triangle(2)\n",
    "print_plus_triangle(3)\n",
    "print_plus_triangle(4)\n",
    "print_plus_triangle(5)\n",
    "print_plus_triangle(-1)\n"
   ]
  },
  {
   "cell_type": "markdown",
   "metadata": {},
   "source": [
    "**NOMOR 8**\n",
    "\n",
    "Buatlah sebuah function untuk mengambil huruf vokal dari sebuah teks dan masukkan ke dalam sebuah list. Return list yang terdiri dari huruf vokal tersebut.\n",
    "  * Input : `teks` | str\n",
    "\n",
    "| No | Input | Output |\n",
    "| - | - | - |\n",
    "| 1 | teks = 'selamat pagi' | ['e', 'a', 'a', 'a', 'i'] |\n",
    "| 2 | teks = '1002'| [] |\n",
    "| 3 | teks = 'myth' | [] |"
   ]
  },
  {
   "cell_type": "code",
   "execution_count": 49,
   "metadata": {},
   "outputs": [],
   "source": [
    "def ambil_vokal(teks):\n",
    "    # List untuk menyimpan huruf vokal\n",
    "    vokal = []\n",
    "\n",
    "    # Mengambil setiap karakter dalam teks\n",
    "    for huruf in teks:\n",
    "        # Memeriksa apakah huruf adalah vokal (baik huruf kecil maupun huruf besar)\n",
    "        if huruf.lower() in 'aeiou':\n",
    "            # Jika iya, tambahkan ke list vokal\n",
    "            vokal.append(huruf)\n",
    "\n",
    "    # Mengembalikan list vokal\n",
    "    return vokal"
   ]
  },
  {
   "cell_type": "code",
   "execution_count": 58,
   "metadata": {},
   "outputs": [
    {
     "data": {
      "text/plain": [
       "[]"
      ]
     },
     "execution_count": 58,
     "metadata": {},
     "output_type": "execute_result"
    }
   ],
   "source": [
    "(ambil_vokal('myth'))  "
   ]
  },
  {
   "cell_type": "code",
   "execution_count": 61,
   "metadata": {},
   "outputs": [
    {
     "data": {
      "text/plain": [
       "['e', 'a', 'a', 'a', 'i']"
      ]
     },
     "execution_count": 61,
     "metadata": {},
     "output_type": "execute_result"
    }
   ],
   "source": [
    "ambil_vokal('selamat pagi')"
   ]
  },
  {
   "cell_type": "code",
   "execution_count": 62,
   "metadata": {},
   "outputs": [
    {
     "data": {
      "text/plain": [
       "[]"
      ]
     },
     "execution_count": 62,
     "metadata": {},
     "output_type": "execute_result"
    }
   ],
   "source": [
    "ambil_vokal('1002')  "
   ]
  },
  {
   "cell_type": "markdown",
   "metadata": {},
   "source": [
    "**NOMOR 9**\n",
    "\n",
    "Buatlah sebuah function untuk mengambil huruf selain huruf vokal (huruf konsonan) dari sebuah teks dan masukkan ke dalam sebuah list. Return list yang terdiri dari huruf konsonan tersebut.\n",
    "  * Input : `teks` | str\n",
    "  * Jika karakter tersebut merupakan angka, maka jangan diambil.\n",
    "\n",
    "| No | Input | Output |\n",
    "| - | - | - |\n",
    "| 1 | teks = 'selamat pagi' | ['s', 'l', 'm', 't', 'p', 'g] |\n",
    "| 2 | teks = '1002'| [] |\n",
    "| 3 | teks = 'myth' | ['m', 'y', 't', 'h'] |\n",
    "\n"
   ]
  },
  {
   "cell_type": "code",
   "execution_count": 63,
   "metadata": {},
   "outputs": [],
   "source": [
    "def ambil_konsonan(teks):\n",
    "    # List untuk menyimpan huruf vokal\n",
    "    konsonan = []\n",
    "\n",
    "    # Mengambil setiap karakter dalam teks\n",
    "    for huruf in teks:\n",
    "        # Memeriksa apakah huruf adalah vokal (baik huruf kecil maupun huruf besar)\n",
    "        if huruf.isalpha() and huruf.lower() not in 'aeiou':\n",
    "            # Jika iya, tambahkan ke list vokal\n",
    "            konsonan.append(huruf)\n",
    "\n",
    "    # Mengembalikan list vokal\n",
    "    return konsonan"
   ]
  },
  {
   "cell_type": "code",
   "execution_count": 64,
   "metadata": {},
   "outputs": [
    {
     "data": {
      "text/plain": [
       "['s', 'l', 'm', 't', 'p', 'g']"
      ]
     },
     "execution_count": 64,
     "metadata": {},
     "output_type": "execute_result"
    }
   ],
   "source": [
    "ambil_konsonan('selamat pagi')"
   ]
  },
  {
   "cell_type": "code",
   "execution_count": 65,
   "metadata": {},
   "outputs": [
    {
     "data": {
      "text/plain": [
       "[]"
      ]
     },
     "execution_count": 65,
     "metadata": {},
     "output_type": "execute_result"
    }
   ],
   "source": [
    "ambil_konsonan('1002')"
   ]
  },
  {
   "cell_type": "code",
   "execution_count": 66,
   "metadata": {},
   "outputs": [
    {
     "data": {
      "text/plain": [
       "['m', 'y', 't', 'h']"
      ]
     },
     "execution_count": 66,
     "metadata": {},
     "output_type": "execute_result"
    }
   ],
   "source": [
    "ambil_konsonan('myth')"
   ]
  },
  {
   "cell_type": "markdown",
   "metadata": {},
   "source": [
    "**NOMOR 10**\n",
    "\n",
    "Buatlah sebuah function untuk mereturn hasil pengecekan dari sekumpulan angka yang dimasukkan, apakah bilangan pertama merupakan penjumlahan dari bilangan kedua, ketiga, dst (asumsikan bilangan yang dimasukkan tidak terbatas).\n",
    "  * Input : `bil_1` : bilangan ke-1 | int\n",
    "  * Input : `bil_2` : bilangan ke-2 | int\n",
    "  * Input : `bil_3` : bilangan ke-3 | int\n",
    "  * Input : `bil_4` : bilangan ke-4 | int\n",
    "  * dst\n",
    "\n",
    "| No | Input | Output |\n",
    "| - | - | - |\n",
    "| 1 | bil_1 = 10, <br/><br/> bil_2 = 20, <br/><br/> bil_3 = 50, <br/><br/> bil_4 = 600 | False |\n",
    "| 2 | bil_1 = 0, <br/><br/> bil_2 = 10, <br/><br/> bil_3 = -10 | True |\n",
    "| 3 | bil_1 = 20, <br/><br/> bil_2 = 20 | True |\n",
    "| 4 | bil_1 = 20 | False |\n",
    "| 5 | bil_1 = 10, <br/><br/> bil_2 = 200, <br/><br/> bil_3 = 300, <br/><br/> bil_4 = 400 <br/> <br/> bil_5 = 500 | False |"
   ]
  },
  {
   "cell_type": "code",
   "execution_count": 67,
   "metadata": {},
   "outputs": [],
   "source": [
    "def cek_penjumlahan(*args):\n",
    "    if len(args) < 2:  # Memeriksa apakah terdapat cukup banyak bilangan yang dimasukkan\n",
    "        return False\n",
    "    \n",
    "    bilangan_pertama = args[0]\n",
    "    total_sisa_bilangan = sum(args[1:])  # Menghitung total penjumlahan bilangan dari bilangan kedua sampai terakhir\n",
    "    \n",
    "    return bilangan_pertama == total_sisa_bilangan\n"
   ]
  },
  {
   "cell_type": "code",
   "execution_count": 68,
   "metadata": {},
   "outputs": [
    {
     "name": "stdout",
     "output_type": "stream",
     "text": [
      "False\n",
      "True\n",
      "True\n",
      "False\n",
      "False\n"
     ]
    }
   ],
   "source": [
    "# Contoh penggunaan:\n",
    "print(cek_penjumlahan(10, 20, 50, 600))       # Output: False\n",
    "print(cek_penjumlahan(0, 10, -10))            # Output: True\n",
    "print(cek_penjumlahan(20, 20))                 # Output: True\n",
    "print(cek_penjumlahan(20))                     # Output: False\n",
    "print(cek_penjumlahan(10, 200, 300, 400, 500)) # Output: False"
   ]
  },
  {
   "cell_type": "code",
   "execution_count": 69,
   "metadata": {},
   "outputs": [
    {
     "data": {
      "text/plain": [
       "True"
      ]
     },
     "execution_count": 69,
     "metadata": {},
     "output_type": "execute_result"
    }
   ],
   "source": [
    "cek_penjumlahan(30, 5, 5, 20)"
   ]
  },
  {
   "cell_type": "markdown",
   "metadata": {},
   "source": [
    "## B. Modules"
   ]
  },
  {
   "cell_type": "code",
   "execution_count": 75,
   "metadata": {},
   "outputs": [],
   "source": [
    "import pandas as pn "
   ]
  },
  {
   "cell_type": "code",
   "execution_count": 76,
   "metadata": {},
   "outputs": [],
   "source": [
    "import mod"
   ]
  },
  {
   "cell_type": "code",
   "execution_count": 78,
   "metadata": {},
   "outputs": [
    {
     "name": "stdout",
     "output_type": "stream",
     "text": [
      "Hacktiv8\n",
      "[100, 200, 300]\n"
     ]
    }
   ],
   "source": [
    "print(mod.s)\n",
    "print(mod.a)\n"
   ]
  }
 ],
 "metadata": {
  "kernelspec": {
   "display_name": "base",
   "language": "python",
   "name": "python3"
  },
  "language_info": {
   "codemirror_mode": {
    "name": "ipython",
    "version": 3
   },
   "file_extension": ".py",
   "mimetype": "text/x-python",
   "name": "python",
   "nbconvert_exporter": "python",
   "pygments_lexer": "ipython3",
   "version": "3.11.7"
  }
 },
 "nbformat": 4,
 "nbformat_minor": 2
}
