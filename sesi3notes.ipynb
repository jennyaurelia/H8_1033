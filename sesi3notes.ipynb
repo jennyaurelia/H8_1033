{
 "cells": [
  {
   "cell_type": "markdown",
   "metadata": {},
   "source": [
    "### Python Function & Module"
   ]
  },
  {
   "cell_type": "code",
   "execution_count": 49,
   "metadata": {},
   "outputs": [],
   "source": [
    "#membuat rumus dengan syntax def\n",
    "#contoh s x s = persegi, dll."
   ]
  },
  {
   "cell_type": "code",
   "execution_count": 50,
   "metadata": {},
   "outputs": [],
   "source": [
    "hitung_luas = 10*2"
   ]
  },
  {
   "cell_type": "code",
   "execution_count": 51,
   "metadata": {},
   "outputs": [
    {
     "data": {
      "text/plain": [
       "40"
      ]
     },
     "execution_count": 51,
     "metadata": {},
     "output_type": "execute_result"
    }
   ],
   "source": [
    "def hitung_luas(p,l): #luaspersegipanjang\n",
    "    return p*l\n",
    "hitung_luas(20,2)"
   ]
  },
  {
   "cell_type": "code",
   "execution_count": 52,
   "metadata": {},
   "outputs": [
    {
     "data": {
      "text/plain": [
       "153.86"
      ]
     },
     "execution_count": 52,
     "metadata": {},
     "output_type": "execute_result"
    }
   ],
   "source": [
    "#hitung luas lingkaran\n",
    "def hitung_luas_lingkaran(pi,r):\n",
    "    return pi*r**2\n",
    "hitung_luas_lingkaran(3.14,7)\n",
    "# kalo akar = pi*r**0.5"
   ]
  },
  {
   "cell_type": "code",
   "execution_count": 53,
   "metadata": {},
   "outputs": [],
   "source": [
    "def hitung_luas_lingkaran(pi,r):\n",
    "    luas = pi*r**2\n",
    "    print(f\"luas lingkarannya = {luas}\")\n",
    "    #local variable hanya ada di dalam function, tdk bs dipanggil di luar function"
   ]
  },
  {
   "cell_type": "code",
   "execution_count": 54,
   "metadata": {},
   "outputs": [
    {
     "ename": "NameError",
     "evalue": "name 'luas' is not defined",
     "output_type": "error",
     "traceback": [
      "\u001b[0;31m---------------------------------------------------------------------------\u001b[0m",
      "\u001b[0;31mNameError\u001b[0m                                 Traceback (most recent call last)",
      "Cell \u001b[0;32mIn[54], line 1\u001b[0m\n\u001b[0;32m----> 1\u001b[0m luas\n",
      "\u001b[0;31mNameError\u001b[0m: name 'luas' is not defined"
     ]
    }
   ],
   "source": [
    "luas \n",
    "# bukti kalo luas hanya milik function hitung_luas_lingkaran"
   ]
  },
  {
   "cell_type": "code",
   "execution_count": null,
   "metadata": {},
   "outputs": [],
   "source": [
    "c = 1 #Global variable\n",
    "def func(x1):\n",
    "    L = x1**2 #Local variable"
   ]
  },
  {
   "cell_type": "markdown",
   "metadata": {},
   "source": [
    "# Rumus di dalam rumus "
   ]
  },
  {
   "cell_type": "markdown",
   "metadata": {},
   "source": [
    "Menghitung debit air -> Q = Volume/waktu\n",
    "Volume = panjang x lebar x tinggi\n",
    "Cara gmpg -> Q = (pjg x lbr x tgi)/waktu"
   ]
  },
  {
   "cell_type": "code",
   "execution_count": null,
   "metadata": {},
   "outputs": [
    {
     "data": {
      "text/plain": [
       "4.0"
      ]
     },
     "execution_count": 22,
     "metadata": {},
     "output_type": "execute_result"
    }
   ],
   "source": [
    "#Buat function volume\n",
    "def volume (p,l,t):\n",
    "    return p*l*t\n",
    "\n",
    "def Q(p,l,t,waktu):\n",
    "    vol = volume(p,l,t)\n",
    "    return vol/waktu\n",
    "\n",
    "Q(2,2,2,2)"
   ]
  },
  {
   "cell_type": "markdown",
   "metadata": {},
   "source": [
    "Dictionary {} keys:value\n",
    "Anonymous function\n",
    " \n",
    "#define a function\n",
    "- penjumlahan = lambda x1, x2: x1 + x2\n",
    "\n",
    "#memanggil function\n",
    "penjumlahan (2,4) #output 6"
   ]
  },
  {
   "cell_type": "markdown",
   "metadata": {},
   "source": [
    "### Latihan soal"
   ]
  },
  {
   "cell_type": "code",
   "execution_count": null,
   "metadata": {},
   "outputs": [],
   "source": [
    "def tampilkan_plus(n):\n",
    "    if n>0:\n",
    "        print(n*\"+\\n\") #\\n buat bikin jawaban ke bawah instead of kesamping\n",
    "    else:\n",
    "        print(\"Input salah\")\n"
   ]
  },
  {
   "cell_type": "code",
   "execution_count": null,
   "metadata": {},
   "outputs": [
    {
     "name": "stdout",
     "output_type": "stream",
     "text": [
      "+\n",
      "+\n",
      "+\n",
      "\n"
     ]
    }
   ],
   "source": [
    "tampilkan_plus(3)"
   ]
  },
  {
   "cell_type": "markdown",
   "metadata": {},
   "source": [
    "nomor 2"
   ]
  },
  {
   "cell_type": "code",
   "execution_count": null,
   "metadata": {},
   "outputs": [],
   "source": [
    "def tampilkan_genap(*daftar_angka):\n",
    "    hasil = []\n",
    "    for i in daftar_angka:\n",
    "        if i == 0 or i %2 !=0: #tampil genap, karena sisa bagi 2 !=0 -> refer ke angka ganjil\n",
    "           pass                # salah satu terpenuhi makanya or bukan and\n",
    "        else:\n",
    "           hasil.append(i)\n",
    "    print(hasil)"
   ]
  },
  {
   "cell_type": "code",
   "execution_count": null,
   "metadata": {},
   "outputs": [
    {
     "name": "stdout",
     "output_type": "stream",
     "text": [
      "[2, 4, 6]\n"
     ]
    }
   ],
   "source": [
    "tampilkan_genap(1,2,3,4,5,6)"
   ]
  },
  {
   "cell_type": "code",
   "execution_count": null,
   "metadata": {},
   "outputs": [
    {
     "name": "stdout",
     "output_type": "stream",
     "text": [
      "[]\n"
     ]
    }
   ],
   "source": [
    "tampilkan_genap(3,5,7)"
   ]
  },
  {
   "cell_type": "code",
   "execution_count": null,
   "metadata": {},
   "outputs": [
    {
     "name": "stdout",
     "output_type": "stream",
     "text": [
      "[-10, -8]\n"
     ]
    }
   ],
   "source": [
    "tampilkan_genap(-10,-9,-8,-7) #kalo gapake function, agak waste karena ngulang2 terus, menghemat space, bisa diintegrate lebih mudah dgn loop"
   ]
  },
  {
   "cell_type": "markdown",
   "metadata": {},
   "source": [
    "nomor 3"
   ]
  },
  {
   "cell_type": "code",
   "execution_count": null,
   "metadata": {},
   "outputs": [],
   "source": [
    "def tampilkan_negara(nama,negara=\"Indonesia\"):\n",
    "    print(f\"Halo {nama} dari {negara}\")"
   ]
  },
  {
   "cell_type": "code",
   "execution_count": 59,
   "metadata": {},
   "outputs": [
    {
     "name": "stdout",
     "output_type": "stream",
     "text": [
      "Halo Frank dari USA\n",
      "Halo Smith dari Jerman\n",
      "Halo Anton dari Indonesia\n"
     ]
    },
    {
     "ename": "TypeError",
     "evalue": "tampilkan_negara() missing 1 required positional argument: 'nama'",
     "output_type": "error",
     "traceback": [
      "\u001b[0;31m---------------------------------------------------------------------------\u001b[0m",
      "\u001b[0;31mTypeError\u001b[0m                                 Traceback (most recent call last)",
      "Cell \u001b[0;32mIn[59], line 4\u001b[0m\n\u001b[1;32m      2\u001b[0m (tampilkan_negara(nama\u001b[38;5;241m=\u001b[39m\u001b[38;5;124m\"\u001b[39m\u001b[38;5;124mSmith\u001b[39m\u001b[38;5;124m\"\u001b[39m,negara\u001b[38;5;241m=\u001b[39m\u001b[38;5;124m\"\u001b[39m\u001b[38;5;124mJerman\u001b[39m\u001b[38;5;124m\"\u001b[39m))\n\u001b[1;32m      3\u001b[0m (tampilkan_negara(\u001b[38;5;124m\"\u001b[39m\u001b[38;5;124mAnton\u001b[39m\u001b[38;5;124m\"\u001b[39m))\n\u001b[0;32m----> 4\u001b[0m (tampilkan_negara(negara\u001b[38;5;241m=\u001b[39m\u001b[38;5;124m\"\u001b[39m\u001b[38;5;124mSingapura\u001b[39m\u001b[38;5;124m\"\u001b[39m))\n",
      "\u001b[0;31mTypeError\u001b[0m: tampilkan_negara() missing 1 required positional argument: 'nama'"
     ]
    }
   ],
   "source": [
    "(tampilkan_negara(nama=\"Frank\",negara=\"USA\"))\n",
    "(tampilkan_negara(nama=\"Smith\",negara=\"Jerman\"))\n",
    "(tampilkan_negara(\"Anton\"))\n",
    "(tampilkan_negara(negara=\"Singapura\"))"
   ]
  },
  {
   "cell_type": "markdown",
   "metadata": {},
   "source": [
    "nomor 4"
   ]
  },
  {
   "cell_type": "code",
   "execution_count": 65,
   "metadata": {},
   "outputs": [],
   "source": [
    "def rumus_math(mode, bilangan_1=0, bilangan_2=0):\n",
    "    if mode.lower() == 'persegi':\n",
    "        if bilangan_1 == 0 and bilangan_2 == 0:\n",
    "            print(\"Input harus ada angka\")\n",
    "        elif bilangan_1 == 0:\n",
    "            print(\"Input harus ada bilangan_1\")\n",
    "        elif bilangan_2 == 0:\n",
    "            luas = bilangan_1 * bilangan_1\n",
    "            print(luas)\n",
    "        else:\n",
    "            luas = bilangan_1 * bilangan_2\n",
    "            print(luas)\n",
    "    elif mode.lower() == 'segitiga':\n",
    "        if bilangan_1 == 0 and bilangan_2 == 0:\n",
    "            print(\"Input harus ada angka\")\n",
    "        elif bilangan_1 == 0:\n",
    "            print(\"Input harus ada bilangan_1\")\n",
    "        elif bilangan_2 == 0:\n",
    "            luas = bilangan_1 * bilangan_1/2\n",
    "            print(luas)\n",
    "        else:\n",
    "            luas = bilangan_1 * bilangan_2/2\n",
    "            print(luas)"
   ]
  },
  {
   "cell_type": "code",
   "execution_count": 67,
   "metadata": {},
   "outputs": [
    {
     "ename": "TypeError",
     "evalue": "rumus_math() missing 1 required positional argument: 'mode'",
     "output_type": "error",
     "traceback": [
      "\u001b[0;31m---------------------------------------------------------------------------\u001b[0m",
      "\u001b[0;31mTypeError\u001b[0m                                 Traceback (most recent call last)",
      "Cell \u001b[0;32mIn[67], line 1\u001b[0m\n\u001b[0;32m----> 1\u001b[0m rumus_math(bilangan_1 \u001b[38;5;241m=\u001b[39m \u001b[38;5;241m10\u001b[39m,bilangan_2 \u001b[38;5;241m=\u001b[39m \u001b[38;5;241m10\u001b[39m)\n",
      "\u001b[0;31mTypeError\u001b[0m: rumus_math() missing 1 required positional argument: 'mode'"
     ]
    }
   ],
   "source": [
    "rumus_math(bilangan_1 = 10,bilangan_2 = 10)"
   ]
  },
  {
   "cell_type": "markdown",
   "metadata": {},
   "source": [
    "nomor 5 "
   ]
  },
  {
   "cell_type": "code",
   "execution_count": 71,
   "metadata": {},
   "outputs": [],
   "source": [
    "def cetak_angka(posisi, *daftar_angka):\n",
    "    panjang_list = len(daftar_angka)\n",
    "    if panjang_list < posisi :\n",
    "        output = -1\n",
    "    else:\n",
    "        output = daftar_angka[posisi]\n",
    "    return output"
   ]
  },
  {
   "cell_type": "code",
   "execution_count": 73,
   "metadata": {},
   "outputs": [
    {
     "data": {
      "text/plain": [
       "-1"
      ]
     },
     "execution_count": 73,
     "metadata": {},
     "output_type": "execute_result"
    }
   ],
   "source": [
    "# cetak_angka(3,10,20,30,40)\n",
    "cetak_angka(4,200,300,-400)"
   ]
  },
  {
   "cell_type": "markdown",
   "metadata": {},
   "source": [
    "## B. Modules"
   ]
  },
  {
   "cell_type": "code",
   "execution_count": 75,
   "metadata": {},
   "outputs": [],
   "source": [
    "import pandas as pn "
   ]
  },
  {
   "cell_type": "code",
   "execution_count": 76,
   "metadata": {},
   "outputs": [],
   "source": [
    "import mod"
   ]
  },
  {
   "cell_type": "code",
   "execution_count": 78,
   "metadata": {},
   "outputs": [
    {
     "name": "stdout",
     "output_type": "stream",
     "text": [
      "Hacktiv8\n",
      "[100, 200, 300]\n"
     ]
    }
   ],
   "source": [
    "print(mod.s)\n",
    "print(mod.a)\n"
   ]
  }
 ],
 "metadata": {
  "kernelspec": {
   "display_name": "base",
   "language": "python",
   "name": "python3"
  },
  "language_info": {
   "codemirror_mode": {
    "name": "ipython",
    "version": 3
   },
   "file_extension": ".py",
   "mimetype": "text/x-python",
   "name": "python",
   "nbconvert_exporter": "python",
   "pygments_lexer": "ipython3",
   "version": "3.11.7"
  }
 },
 "nbformat": 4,
 "nbformat_minor": 2
}
